version https://git-lfs.github.com/spec/v1
oid sha256:3ca32784095e6e96dd574a13e83ada77cf7a71b1f2d8f72d4c2fb8f3c2346641
size 695208
