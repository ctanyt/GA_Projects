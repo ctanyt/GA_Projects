version https://git-lfs.github.com/spec/v1
oid sha256:40ece717b31079ff2133663916020e02feedd5902406446285bb8b49210f504e
size 694793
