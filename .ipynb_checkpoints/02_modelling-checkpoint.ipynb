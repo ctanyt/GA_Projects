version https://git-lfs.github.com/spec/v1
oid sha256:8dacc4b2f0cd7b14acb74353705bfa6a2ffe081ad2147dc78ea1f55cb0f5ace6
size 267107
