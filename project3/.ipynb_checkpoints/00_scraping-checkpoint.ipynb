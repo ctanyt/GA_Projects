{
 "cells": [
  {
   "cell_type": "markdown",
   "id": "f9f91985",
   "metadata": {},
   "source": [
    "# Project 3 - Web APIs & NLP"
   ]
  },
  {
   "cell_type": "markdown",
   "id": "c507aa3a",
   "metadata": {},
   "source": [
    "### *Executive Summary*\n",
    "\n",
    "ABC Travel aims to help travellers easily gather information during the COVID-19 pandemic. Rules and regulations are constantly changing, and cost of travel has also gone up due to the various restrictions. \n",
    "\n",
    "To build our information portal, we have decided that the best \"hacks\" and tips would be from people who have had first hand experience. For phase 1 of our information portal, we will be web-scraping data from 2 subreddits: r/shoestring for budget travel, and r/solotravel for solo travellers.\n",
    "\n",
    "Following which, we will leverage NLP models for classification of the posts into 2 tags on our portal - solo and budgetbarbies. We will then compare a couple of models to see which gives us the best results."
   ]
  },
  {
   "cell_type": "markdown",
   "id": "78fc4678",
   "metadata": {},
   "source": [
    "## Introduction"
   ]
  },
  {
   "cell_type": "markdown",
   "id": "66f8bad8",
   "metadata": {},
   "source": [
    "### Background"
   ]
  },
  {
   "cell_type": "markdown",
   "id": "a06c33f0",
   "metadata": {},
   "source": [
    "The [recovery forecast](https://www.bain.com/insights/air-travel-forecast-when-will-airlines-recover-from-covid-19-interactive/) for air travel looks promising. COVID-19 has drastically changed the travel landscape, and a lot more research has to be done now when planning a trip. "
   ]
  },
  {
   "cell_type": "markdown",
   "id": "43738d1f",
   "metadata": {},
   "source": [
    "### Problem Statement"
   ]
  },
  {
   "cell_type": "markdown",
   "id": "1e301308",
   "metadata": {},
   "source": [
    "There are too many information sources when it comes to trip planning, making it hard to discern which are actually true or up to date.\n",
    "\n",
    "Our company ABC Travel has decided to build a one-stop information portal built from prior experiences to make trip planning hassle-free in the time of COVID-19."
   ]
  },
  {
   "cell_type": "markdown",
   "id": "04e0c5ee",
   "metadata": {},
   "source": [
    "### Contents"
   ]
  },
  {
   "cell_type": "markdown",
   "id": "56f17452",
   "metadata": {},
   "source": [
    "* [Webscraping](#link1)\n",
    "* [Data Cleaning](01_cleaning_eda.ipynb#link2)\n",
    "* [EDA](01_cleaning_eda.ipynb#link3)\n",
    "* [Model Preparation](02_modelling.ipynb#link6)\n",
    "* [Modelling](02_modelling.ipynb#link4)\n",
    "* [Recommendations](02_modelling.ipynb#link5)"
   ]
  },
  {
   "cell_type": "markdown",
   "id": "3efc93a6",
   "metadata": {},
   "source": [
    "### Data Dictionary"
   ]
  },
  {
   "cell_type": "markdown",
   "id": "fd7ca44a",
   "metadata": {},
   "source": [
    "#### Data Sets\n",
    "* [`shoestring.csv`](data/shoestring.csv) -- original data from r/shoestring\n",
    "* [`solotravel.csv`](data/solotravel.csv) -- original data from r/solotravel\n",
    "* [`data_vec.csv`](data/data_vec.csv) -- cleaned data used for EDA and Modelling\n",
    "\n",
    "\n",
    "#### Data Dictionary (for data_vec)\n",
    "* 'titletext' -- column created for joining of both title, and text in post\n",
    "* 'lemmatized' -- column for text lemmatized using Spacy\n",
    "* 'stemmed' -- column for text stemmed using SnowballStemmer"
   ]
  },
  {
   "cell_type": "markdown",
   "id": "495d30f9",
   "metadata": {},
   "source": [
    "## Data Collection"
   ]
  },
  {
   "cell_type": "code",
   "execution_count": 1,
   "id": "6f030e41",
   "metadata": {
    "ExecuteTime": {
     "end_time": "2022-01-16T16:51:28.342176Z",
     "start_time": "2022-01-16T16:51:26.242442Z"
    }
   },
   "outputs": [],
   "source": [
    "# Import libraries\n",
    "\n",
    "import requests\n",
    "import numpy as np\n",
    "import pandas as pd\n",
    "import matplotlib.pyplot as plt\n",
    "import seaborn as sns\n",
    "import re\n",
    "\n",
    "import warnings\n",
    "warnings.filterwarnings('ignore')"
   ]
  },
  {
   "cell_type": "markdown",
   "id": "618a261e",
   "metadata": {},
   "source": [
    "<a id='link1'></a>"
   ]
  },
  {
   "cell_type": "markdown",
   "id": "d0e2f8a0",
   "metadata": {},
   "source": [
    "### Pushshift search function"
   ]
  },
  {
   "cell_type": "code",
   "execution_count": 2,
   "id": "5d3f5eb3",
   "metadata": {
    "ExecuteTime": {
     "end_time": "2022-01-16T16:51:28.352913Z",
     "start_time": "2022-01-16T16:51:28.348078Z"
    }
   },
   "outputs": [],
   "source": [
    "def ps(subreddit, loops=20, size=100, skip=30):\n",
    "    # subreddit = where i am scraping from\n",
    "    # loops = how many times to request\n",
    "    # size = default to maximum of 100\n",
    "    # skip = number of days to skip; set to 30 as we don't need them chronologically\n",
    "\n",
    "    fields = [\"author\", \"id\", \"title\", \"selftext\", \"subreddit\", \"created_utc\"]\n",
    "\n",
    "    posts = []\n",
    "    url_orig = \"https://api.pushshift.io/reddit/search/submission/?subreddit={}&size={}\".format(\n",
    "        subreddit, size\n",
    "    )\n",
    "    after = 1\n",
    "\n",
    "    for i in range(loops):\n",
    "        url = \"{}&after={}d\".format(url_orig, skip * i)\n",
    "        print(i, url)\n",
    "        response = requests.get(url)\n",
    "        display(response.status_code)\n",
    "        posts.extend(response.json()[\"data\"])\n",
    "\n",
    "    # put into dataframe for selected fields only\n",
    "    df = pd.DataFrame(posts)\n",
    "    df = df[fields]\n",
    "\n",
    "    # remove duplicate posts\n",
    "    df.drop_duplicates(subset=['selftext'], inplace=True) #check to drop based on self text\n",
    "    \n",
    "\n",
    "    return df"
   ]
  },
  {
   "cell_type": "code",
   "execution_count": 3,
   "id": "460037fe",
   "metadata": {
    "ExecuteTime": {
     "end_time": "2022-01-16T16:53:35.668591Z",
     "start_time": "2022-01-16T16:51:28.354163Z"
    }
   },
   "outputs": [
    {
     "name": "stdout",
     "output_type": "stream",
     "text": [
      "0 https://api.pushshift.io/reddit/search/submission/?subreddit=shoestring&size=100&after=0d\n"
     ]
    },
    {
     "data": {
      "text/plain": [
       "200"
      ]
     },
     "metadata": {},
     "output_type": "display_data"
    },
    {
     "name": "stdout",
     "output_type": "stream",
     "text": [
      "1 https://api.pushshift.io/reddit/search/submission/?subreddit=shoestring&size=100&after=30d\n"
     ]
    },
    {
     "data": {
      "text/plain": [
       "200"
      ]
     },
     "metadata": {},
     "output_type": "display_data"
    },
    {
     "name": "stdout",
     "output_type": "stream",
     "text": [
      "2 https://api.pushshift.io/reddit/search/submission/?subreddit=shoestring&size=100&after=60d\n"
     ]
    },
    {
     "data": {
      "text/plain": [
       "200"
      ]
     },
     "metadata": {},
     "output_type": "display_data"
    },
    {
     "name": "stdout",
     "output_type": "stream",
     "text": [
      "3 https://api.pushshift.io/reddit/search/submission/?subreddit=shoestring&size=100&after=90d\n"
     ]
    },
    {
     "data": {
      "text/plain": [
       "200"
      ]
     },
     "metadata": {},
     "output_type": "display_data"
    },
    {
     "name": "stdout",
     "output_type": "stream",
     "text": [
      "4 https://api.pushshift.io/reddit/search/submission/?subreddit=shoestring&size=100&after=120d\n"
     ]
    },
    {
     "data": {
      "text/plain": [
       "200"
      ]
     },
     "metadata": {},
     "output_type": "display_data"
    },
    {
     "name": "stdout",
     "output_type": "stream",
     "text": [
      "5 https://api.pushshift.io/reddit/search/submission/?subreddit=shoestring&size=100&after=150d\n"
     ]
    },
    {
     "data": {
      "text/plain": [
       "200"
      ]
     },
     "metadata": {},
     "output_type": "display_data"
    },
    {
     "name": "stdout",
     "output_type": "stream",
     "text": [
      "6 https://api.pushshift.io/reddit/search/submission/?subreddit=shoestring&size=100&after=180d\n"
     ]
    },
    {
     "data": {
      "text/plain": [
       "200"
      ]
     },
     "metadata": {},
     "output_type": "display_data"
    },
    {
     "name": "stdout",
     "output_type": "stream",
     "text": [
      "7 https://api.pushshift.io/reddit/search/submission/?subreddit=shoestring&size=100&after=210d\n"
     ]
    },
    {
     "data": {
      "text/plain": [
       "200"
      ]
     },
     "metadata": {},
     "output_type": "display_data"
    },
    {
     "name": "stdout",
     "output_type": "stream",
     "text": [
      "8 https://api.pushshift.io/reddit/search/submission/?subreddit=shoestring&size=100&after=240d\n"
     ]
    },
    {
     "data": {
      "text/plain": [
       "200"
      ]
     },
     "metadata": {},
     "output_type": "display_data"
    },
    {
     "name": "stdout",
     "output_type": "stream",
     "text": [
      "9 https://api.pushshift.io/reddit/search/submission/?subreddit=shoestring&size=100&after=270d\n"
     ]
    },
    {
     "data": {
      "text/plain": [
       "200"
      ]
     },
     "metadata": {},
     "output_type": "display_data"
    },
    {
     "name": "stdout",
     "output_type": "stream",
     "text": [
      "10 https://api.pushshift.io/reddit/search/submission/?subreddit=shoestring&size=100&after=300d\n"
     ]
    },
    {
     "data": {
      "text/plain": [
       "200"
      ]
     },
     "metadata": {},
     "output_type": "display_data"
    },
    {
     "name": "stdout",
     "output_type": "stream",
     "text": [
      "11 https://api.pushshift.io/reddit/search/submission/?subreddit=shoestring&size=100&after=330d\n"
     ]
    },
    {
     "data": {
      "text/plain": [
       "200"
      ]
     },
     "metadata": {},
     "output_type": "display_data"
    },
    {
     "name": "stdout",
     "output_type": "stream",
     "text": [
      "12 https://api.pushshift.io/reddit/search/submission/?subreddit=shoestring&size=100&after=360d\n"
     ]
    },
    {
     "data": {
      "text/plain": [
       "200"
      ]
     },
     "metadata": {},
     "output_type": "display_data"
    },
    {
     "name": "stdout",
     "output_type": "stream",
     "text": [
      "13 https://api.pushshift.io/reddit/search/submission/?subreddit=shoestring&size=100&after=390d\n"
     ]
    },
    {
     "data": {
      "text/plain": [
       "200"
      ]
     },
     "metadata": {},
     "output_type": "display_data"
    },
    {
     "name": "stdout",
     "output_type": "stream",
     "text": [
      "14 https://api.pushshift.io/reddit/search/submission/?subreddit=shoestring&size=100&after=420d\n"
     ]
    },
    {
     "data": {
      "text/plain": [
       "200"
      ]
     },
     "metadata": {},
     "output_type": "display_data"
    },
    {
     "name": "stdout",
     "output_type": "stream",
     "text": [
      "15 https://api.pushshift.io/reddit/search/submission/?subreddit=shoestring&size=100&after=450d\n"
     ]
    },
    {
     "data": {
      "text/plain": [
       "200"
      ]
     },
     "metadata": {},
     "output_type": "display_data"
    },
    {
     "name": "stdout",
     "output_type": "stream",
     "text": [
      "16 https://api.pushshift.io/reddit/search/submission/?subreddit=shoestring&size=100&after=480d\n"
     ]
    },
    {
     "data": {
      "text/plain": [
       "200"
      ]
     },
     "metadata": {},
     "output_type": "display_data"
    },
    {
     "name": "stdout",
     "output_type": "stream",
     "text": [
      "17 https://api.pushshift.io/reddit/search/submission/?subreddit=shoestring&size=100&after=510d\n"
     ]
    },
    {
     "data": {
      "text/plain": [
       "200"
      ]
     },
     "metadata": {},
     "output_type": "display_data"
    },
    {
     "name": "stdout",
     "output_type": "stream",
     "text": [
      "18 https://api.pushshift.io/reddit/search/submission/?subreddit=shoestring&size=100&after=540d\n"
     ]
    },
    {
     "data": {
      "text/plain": [
       "200"
      ]
     },
     "metadata": {},
     "output_type": "display_data"
    },
    {
     "name": "stdout",
     "output_type": "stream",
     "text": [
      "19 https://api.pushshift.io/reddit/search/submission/?subreddit=shoestring&size=100&after=570d\n"
     ]
    },
    {
     "data": {
      "text/plain": [
       "200"
      ]
     },
     "metadata": {},
     "output_type": "display_data"
    },
    {
     "name": "stdout",
     "output_type": "stream",
     "text": [
      "20 https://api.pushshift.io/reddit/search/submission/?subreddit=shoestring&size=100&after=600d\n"
     ]
    },
    {
     "data": {
      "text/plain": [
       "200"
      ]
     },
     "metadata": {},
     "output_type": "display_data"
    },
    {
     "name": "stdout",
     "output_type": "stream",
     "text": [
      "21 https://api.pushshift.io/reddit/search/submission/?subreddit=shoestring&size=100&after=630d\n"
     ]
    },
    {
     "data": {
      "text/plain": [
       "200"
      ]
     },
     "metadata": {},
     "output_type": "display_data"
    },
    {
     "name": "stdout",
     "output_type": "stream",
     "text": [
      "22 https://api.pushshift.io/reddit/search/submission/?subreddit=shoestring&size=100&after=660d\n"
     ]
    },
    {
     "data": {
      "text/plain": [
       "200"
      ]
     },
     "metadata": {},
     "output_type": "display_data"
    },
    {
     "name": "stdout",
     "output_type": "stream",
     "text": [
      "23 https://api.pushshift.io/reddit/search/submission/?subreddit=shoestring&size=100&after=690d\n"
     ]
    },
    {
     "data": {
      "text/plain": [
       "200"
      ]
     },
     "metadata": {},
     "output_type": "display_data"
    }
   ],
   "source": [
    "# loops set to 80 so as to scrape more posts, as many of them have selftext removed or blank\n",
    "budget = ps(\"shoestring\", loops=24)"
   ]
  },
  {
   "cell_type": "code",
   "execution_count": 4,
   "id": "37d8c129",
   "metadata": {
    "ExecuteTime": {
     "end_time": "2022-01-16T16:53:35.728590Z",
     "start_time": "2022-01-16T16:53:35.670729Z"
    }
   },
   "outputs": [
    {
     "data": {
      "text/plain": [
       "(1309, 6)"
      ]
     },
     "metadata": {},
     "output_type": "display_data"
    }
   ],
   "source": [
    "shoestring = budget[\n",
    "    (budget[\"selftext\"] != \"[removed]\")\n",
    "    & (budget[\"selftext\"] != \"[deleted]\")\n",
    "    & (budget[\"selftext\"] != \"\")\n",
    "    & (budget[\"selftext\"] != \" \")\n",
    "    & (budget[\"selftext\"] != \".\")\n",
    "    & (budget[\"selftext\"].notnull())\n",
    "    & (budget[\"author\"] != 'AutoModerator')\n",
    "\n",
    "]\n",
    "\n",
    "display(shoestring.shape)\n",
    "\n",
    "shoestring.to_csv(\"data/shoestring.csv\", index=False)"
   ]
  },
  {
   "cell_type": "code",
   "execution_count": 7,
   "id": "f010b1cf",
   "metadata": {
    "ExecuteTime": {
     "end_time": "2022-01-16T16:59:08.697832Z",
     "start_time": "2022-01-16T16:56:50.165720Z"
    }
   },
   "outputs": [
    {
     "name": "stdout",
     "output_type": "stream",
     "text": [
      "0 https://api.pushshift.io/reddit/search/submission/?subreddit=solotravel&size=100&after=0d\n"
     ]
    },
    {
     "data": {
      "text/plain": [
       "200"
      ]
     },
     "metadata": {},
     "output_type": "display_data"
    },
    {
     "name": "stdout",
     "output_type": "stream",
     "text": [
      "1 https://api.pushshift.io/reddit/search/submission/?subreddit=solotravel&size=100&after=30d\n"
     ]
    },
    {
     "data": {
      "text/plain": [
       "200"
      ]
     },
     "metadata": {},
     "output_type": "display_data"
    },
    {
     "name": "stdout",
     "output_type": "stream",
     "text": [
      "2 https://api.pushshift.io/reddit/search/submission/?subreddit=solotravel&size=100&after=60d\n"
     ]
    },
    {
     "data": {
      "text/plain": [
       "200"
      ]
     },
     "metadata": {},
     "output_type": "display_data"
    },
    {
     "name": "stdout",
     "output_type": "stream",
     "text": [
      "3 https://api.pushshift.io/reddit/search/submission/?subreddit=solotravel&size=100&after=90d\n"
     ]
    },
    {
     "data": {
      "text/plain": [
       "200"
      ]
     },
     "metadata": {},
     "output_type": "display_data"
    },
    {
     "name": "stdout",
     "output_type": "stream",
     "text": [
      "4 https://api.pushshift.io/reddit/search/submission/?subreddit=solotravel&size=100&after=120d\n"
     ]
    },
    {
     "data": {
      "text/plain": [
       "200"
      ]
     },
     "metadata": {},
     "output_type": "display_data"
    },
    {
     "name": "stdout",
     "output_type": "stream",
     "text": [
      "5 https://api.pushshift.io/reddit/search/submission/?subreddit=solotravel&size=100&after=150d\n"
     ]
    },
    {
     "data": {
      "text/plain": [
       "200"
      ]
     },
     "metadata": {},
     "output_type": "display_data"
    },
    {
     "name": "stdout",
     "output_type": "stream",
     "text": [
      "6 https://api.pushshift.io/reddit/search/submission/?subreddit=solotravel&size=100&after=180d\n"
     ]
    },
    {
     "data": {
      "text/plain": [
       "200"
      ]
     },
     "metadata": {},
     "output_type": "display_data"
    },
    {
     "name": "stdout",
     "output_type": "stream",
     "text": [
      "7 https://api.pushshift.io/reddit/search/submission/?subreddit=solotravel&size=100&after=210d\n"
     ]
    },
    {
     "data": {
      "text/plain": [
       "200"
      ]
     },
     "metadata": {},
     "output_type": "display_data"
    },
    {
     "name": "stdout",
     "output_type": "stream",
     "text": [
      "8 https://api.pushshift.io/reddit/search/submission/?subreddit=solotravel&size=100&after=240d\n"
     ]
    },
    {
     "data": {
      "text/plain": [
       "200"
      ]
     },
     "metadata": {},
     "output_type": "display_data"
    },
    {
     "name": "stdout",
     "output_type": "stream",
     "text": [
      "9 https://api.pushshift.io/reddit/search/submission/?subreddit=solotravel&size=100&after=270d\n"
     ]
    },
    {
     "data": {
      "text/plain": [
       "200"
      ]
     },
     "metadata": {},
     "output_type": "display_data"
    },
    {
     "name": "stdout",
     "output_type": "stream",
     "text": [
      "10 https://api.pushshift.io/reddit/search/submission/?subreddit=solotravel&size=100&after=300d\n"
     ]
    },
    {
     "data": {
      "text/plain": [
       "200"
      ]
     },
     "metadata": {},
     "output_type": "display_data"
    },
    {
     "name": "stdout",
     "output_type": "stream",
     "text": [
      "11 https://api.pushshift.io/reddit/search/submission/?subreddit=solotravel&size=100&after=330d\n"
     ]
    },
    {
     "data": {
      "text/plain": [
       "200"
      ]
     },
     "metadata": {},
     "output_type": "display_data"
    },
    {
     "name": "stdout",
     "output_type": "stream",
     "text": [
      "12 https://api.pushshift.io/reddit/search/submission/?subreddit=solotravel&size=100&after=360d\n"
     ]
    },
    {
     "data": {
      "text/plain": [
       "200"
      ]
     },
     "metadata": {},
     "output_type": "display_data"
    },
    {
     "name": "stdout",
     "output_type": "stream",
     "text": [
      "13 https://api.pushshift.io/reddit/search/submission/?subreddit=solotravel&size=100&after=390d\n"
     ]
    },
    {
     "data": {
      "text/plain": [
       "200"
      ]
     },
     "metadata": {},
     "output_type": "display_data"
    },
    {
     "name": "stdout",
     "output_type": "stream",
     "text": [
      "14 https://api.pushshift.io/reddit/search/submission/?subreddit=solotravel&size=100&after=420d\n"
     ]
    },
    {
     "data": {
      "text/plain": [
       "200"
      ]
     },
     "metadata": {},
     "output_type": "display_data"
    },
    {
     "name": "stdout",
     "output_type": "stream",
     "text": [
      "15 https://api.pushshift.io/reddit/search/submission/?subreddit=solotravel&size=100&after=450d\n"
     ]
    },
    {
     "data": {
      "text/plain": [
       "200"
      ]
     },
     "metadata": {},
     "output_type": "display_data"
    },
    {
     "name": "stdout",
     "output_type": "stream",
     "text": [
      "16 https://api.pushshift.io/reddit/search/submission/?subreddit=solotravel&size=100&after=480d\n"
     ]
    },
    {
     "data": {
      "text/plain": [
       "200"
      ]
     },
     "metadata": {},
     "output_type": "display_data"
    },
    {
     "name": "stdout",
     "output_type": "stream",
     "text": [
      "17 https://api.pushshift.io/reddit/search/submission/?subreddit=solotravel&size=100&after=510d\n"
     ]
    },
    {
     "data": {
      "text/plain": [
       "200"
      ]
     },
     "metadata": {},
     "output_type": "display_data"
    },
    {
     "name": "stdout",
     "output_type": "stream",
     "text": [
      "18 https://api.pushshift.io/reddit/search/submission/?subreddit=solotravel&size=100&after=540d\n"
     ]
    },
    {
     "data": {
      "text/plain": [
       "200"
      ]
     },
     "metadata": {},
     "output_type": "display_data"
    },
    {
     "name": "stdout",
     "output_type": "stream",
     "text": [
      "19 https://api.pushshift.io/reddit/search/submission/?subreddit=solotravel&size=100&after=570d\n"
     ]
    },
    {
     "data": {
      "text/plain": [
       "200"
      ]
     },
     "metadata": {},
     "output_type": "display_data"
    },
    {
     "name": "stdout",
     "output_type": "stream",
     "text": [
      "20 https://api.pushshift.io/reddit/search/submission/?subreddit=solotravel&size=100&after=600d\n"
     ]
    },
    {
     "data": {
      "text/plain": [
       "200"
      ]
     },
     "metadata": {},
     "output_type": "display_data"
    },
    {
     "name": "stdout",
     "output_type": "stream",
     "text": [
      "21 https://api.pushshift.io/reddit/search/submission/?subreddit=solotravel&size=100&after=630d\n"
     ]
    },
    {
     "data": {
      "text/plain": [
       "200"
      ]
     },
     "metadata": {},
     "output_type": "display_data"
    },
    {
     "name": "stdout",
     "output_type": "stream",
     "text": [
      "22 https://api.pushshift.io/reddit/search/submission/?subreddit=solotravel&size=100&after=660d\n"
     ]
    },
    {
     "data": {
      "text/plain": [
       "200"
      ]
     },
     "metadata": {},
     "output_type": "display_data"
    },
    {
     "name": "stdout",
     "output_type": "stream",
     "text": [
      "23 https://api.pushshift.io/reddit/search/submission/?subreddit=solotravel&size=100&after=690d\n"
     ]
    },
    {
     "data": {
      "text/plain": [
       "200"
      ]
     },
     "metadata": {},
     "output_type": "display_data"
    },
    {
     "name": "stdout",
     "output_type": "stream",
     "text": [
      "24 https://api.pushshift.io/reddit/search/submission/?subreddit=solotravel&size=100&after=720d\n"
     ]
    },
    {
     "data": {
      "text/plain": [
       "200"
      ]
     },
     "metadata": {},
     "output_type": "display_data"
    },
    {
     "name": "stdout",
     "output_type": "stream",
     "text": [
      "25 https://api.pushshift.io/reddit/search/submission/?subreddit=solotravel&size=100&after=750d\n"
     ]
    },
    {
     "data": {
      "text/plain": [
       "200"
      ]
     },
     "metadata": {},
     "output_type": "display_data"
    },
    {
     "name": "stdout",
     "output_type": "stream",
     "text": [
      "26 https://api.pushshift.io/reddit/search/submission/?subreddit=solotravel&size=100&after=780d\n"
     ]
    },
    {
     "data": {
      "text/plain": [
       "200"
      ]
     },
     "metadata": {},
     "output_type": "display_data"
    },
    {
     "name": "stdout",
     "output_type": "stream",
     "text": [
      "27 https://api.pushshift.io/reddit/search/submission/?subreddit=solotravel&size=100&after=810d\n"
     ]
    },
    {
     "data": {
      "text/plain": [
       "200"
      ]
     },
     "metadata": {},
     "output_type": "display_data"
    },
    {
     "name": "stdout",
     "output_type": "stream",
     "text": [
      "28 https://api.pushshift.io/reddit/search/submission/?subreddit=solotravel&size=100&after=840d\n"
     ]
    },
    {
     "data": {
      "text/plain": [
       "200"
      ]
     },
     "metadata": {},
     "output_type": "display_data"
    },
    {
     "name": "stdout",
     "output_type": "stream",
     "text": [
      "29 https://api.pushshift.io/reddit/search/submission/?subreddit=solotravel&size=100&after=870d\n"
     ]
    },
    {
     "data": {
      "text/plain": [
       "200"
      ]
     },
     "metadata": {},
     "output_type": "display_data"
    },
    {
     "name": "stdout",
     "output_type": "stream",
     "text": [
      "30 https://api.pushshift.io/reddit/search/submission/?subreddit=solotravel&size=100&after=900d\n"
     ]
    },
    {
     "data": {
      "text/plain": [
       "200"
      ]
     },
     "metadata": {},
     "output_type": "display_data"
    }
   ],
   "source": [
    "solo = ps(\"solotravel\", loops=31)"
   ]
  },
  {
   "cell_type": "code",
   "execution_count": 8,
   "id": "0915fc60",
   "metadata": {
    "ExecuteTime": {
     "end_time": "2022-01-16T16:59:18.239107Z",
     "start_time": "2022-01-16T16:59:18.178190Z"
    },
    "scrolled": true
   },
   "outputs": [
    {
     "data": {
      "text/plain": [
       "(1348, 6)"
      ]
     },
     "metadata": {},
     "output_type": "display_data"
    }
   ],
   "source": [
    "solotravel = solo[\n",
    "    (solo[\"selftext\"] != \"[removed]\")\n",
    "    & (solo[\"selftext\"] != \"[deleted]\")\n",
    "    & (solo[\"selftext\"] != \"\")\n",
    "    & (solo[\"selftext\"] != \" \")\n",
    "    & (solo[\"selftext\"] != \".\")\n",
    "    & (solo[\"selftext\"].notnull())\n",
    "    & (solo[\"author\"] != 'AutoModerator')\n",
    "    & (solo[\"author\"] != 'SoloTravelMods')\n",
    "]\n",
    "\n",
    "display(solotravel.shape)\n",
    "\n",
    "solotravel.to_csv(\"data/solotravel.csv\", index=False)"
   ]
  }
 ],
 "metadata": {
  "kernelspec": {
   "display_name": "Python 3 (ipykernel)",
   "language": "python",
   "name": "python3"
  },
  "language_info": {
   "codemirror_mode": {
    "name": "ipython",
    "version": 3
   },
   "file_extension": ".py",
   "mimetype": "text/x-python",
   "name": "python",
   "nbconvert_exporter": "python",
   "pygments_lexer": "ipython3",
   "version": "3.8.8"
  },
  "toc": {
   "base_numbering": 1,
   "nav_menu": {},
   "number_sections": true,
   "sideBar": true,
   "skip_h1_title": true,
   "title_cell": "Table of Contents",
   "title_sidebar": "Contents",
   "toc_cell": false,
   "toc_position": {
    "height": "calc(100% - 180px)",
    "left": "10px",
    "top": "150px",
    "width": "165px"
   },
   "toc_section_display": true,
   "toc_window_display": true
  },
  "varInspector": {
   "cols": {
    "lenName": 16,
    "lenType": 16,
    "lenVar": 40
   },
   "kernels_config": {
    "python": {
     "delete_cmd_postfix": "",
     "delete_cmd_prefix": "del ",
     "library": "var_list.py",
     "varRefreshCmd": "print(var_dic_list())"
    },
    "r": {
     "delete_cmd_postfix": ") ",
     "delete_cmd_prefix": "rm(",
     "library": "var_list.r",
     "varRefreshCmd": "cat(var_dic_list()) "
    }
   },
   "types_to_exclude": [
    "module",
    "function",
    "builtin_function_or_method",
    "instance",
    "_Feature"
   ],
   "window_display": false
  }
 },
 "nbformat": 4,
 "nbformat_minor": 5
}
