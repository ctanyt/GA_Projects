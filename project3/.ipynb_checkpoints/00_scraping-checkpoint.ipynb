version https://git-lfs.github.com/spec/v1
oid sha256:684b8a6eaec2c6a880dd7b3203c7aa5298fd4515d1585cd651cb09ecbabc21ba
size 28032
