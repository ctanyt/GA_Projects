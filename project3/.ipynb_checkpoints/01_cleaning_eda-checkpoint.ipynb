{
 "cells": [
  {
   "cell_type": "markdown",
   "id": "f9f91985",
   "metadata": {},
   "source": [
    "# Part I - Cleaning & EDA"
   ]
  },
  {
   "cell_type": "code",
   "execution_count": 1,
   "id": "f010b1cf",
   "metadata": {
    "ExecuteTime": {
     "end_time": "2022-01-17T11:32:39.467430Z",
     "start_time": "2022-01-17T11:32:33.768678Z"
    }
   },
   "outputs": [],
   "source": [
    "# Import libraries\n",
    "\n",
    "import requests\n",
    "import numpy as np\n",
    "import pandas as pd\n",
    "import matplotlib.pyplot as plt\n",
    "import seaborn as sns\n",
    "import re\n",
    "\n",
    "import nltk\n",
    "from nltk.stem import WordNetLemmatizer\n",
    "from nltk.stem.snowball import SnowballStemmer\n",
    "\n",
    "from sklearn.feature_extraction.text import (\n",
    "    CountVectorizer,\n",
    "    TfidfVectorizer,\n",
    "    TfidfTransformer,\n",
    ")\n",
    "\n",
    "import warnings\n",
    "\n",
    "warnings.filterwarnings(\"ignore\")"
   ]
  },
  {
   "cell_type": "code",
   "execution_count": 2,
   "id": "54345f74",
   "metadata": {
    "ExecuteTime": {
     "end_time": "2022-01-17T11:32:39.679136Z",
     "start_time": "2022-01-17T11:32:39.484513Z"
    }
   },
   "outputs": [],
   "source": [
    "# import data files\n",
    "\n",
    "shoestring = pd.read_csv(\"data/shoestring.csv\")\n",
    "solotravel = pd.read_csv(\"data/solotravel.csv\")"
   ]
  },
  {
   "cell_type": "markdown",
   "id": "b38786f0",
   "metadata": {},
   "source": [
    "<a id='link2'></a>"
   ]
  },
  {
   "cell_type": "markdown",
   "id": "43363df4",
   "metadata": {},
   "source": [
    "## Data Cleaning"
   ]
  },
  {
   "cell_type": "markdown",
   "id": "d42906b7",
   "metadata": {},
   "source": [
    "* Binarize subreddit column: 0 - solotravel, 1 - shoestring\n",
    "* Concatenate both title and selftext into one column\n",
    "* Put both subreddits into one dataframe \n",
    "* Regex to clean urls, numbers, and whitespace"
   ]
  },
  {
   "cell_type": "code",
   "execution_count": 3,
   "id": "45b50047",
   "metadata": {
    "ExecuteTime": {
     "end_time": "2022-01-17T11:32:39.707437Z",
     "start_time": "2022-01-17T11:32:39.682772Z"
    }
   },
   "outputs": [
    {
     "data": {
      "text/html": [
       "<div>\n",
       "<style scoped>\n",
       "    .dataframe tbody tr th:only-of-type {\n",
       "        vertical-align: middle;\n",
       "    }\n",
       "\n",
       "    .dataframe tbody tr th {\n",
       "        vertical-align: top;\n",
       "    }\n",
       "\n",
       "    .dataframe thead th {\n",
       "        text-align: right;\n",
       "    }\n",
       "</style>\n",
       "<table border=\"1\" class=\"dataframe\">\n",
       "  <thead>\n",
       "    <tr style=\"text-align: right;\">\n",
       "      <th></th>\n",
       "      <th>author</th>\n",
       "      <th>id</th>\n",
       "      <th>title</th>\n",
       "      <th>selftext</th>\n",
       "      <th>subreddit</th>\n",
       "      <th>created_utc</th>\n",
       "    </tr>\n",
       "  </thead>\n",
       "  <tbody>\n",
       "    <tr>\n",
       "      <th>0</th>\n",
       "      <td>Reptar_on_ice69</td>\n",
       "      <td>ritvkv</td>\n",
       "      <td>European budget of $1500-2000?</td>\n",
       "      <td>Hey everyone 27m American here. I just got out...</td>\n",
       "      <td>Shoestring</td>\n",
       "      <td>1639784136</td>\n",
       "    </tr>\n",
       "    <tr>\n",
       "      <th>1</th>\n",
       "      <td>BoysenberryEarly535</td>\n",
       "      <td>rj0h0c</td>\n",
       "      <td>Dual nationality</td>\n",
       "      <td>Double nationality\\n\\nMy American passport exp...</td>\n",
       "      <td>Shoestring</td>\n",
       "      <td>1639805706</td>\n",
       "    </tr>\n",
       "    <tr>\n",
       "      <th>2</th>\n",
       "      <td>nameless_33</td>\n",
       "      <td>rjfr9a</td>\n",
       "      <td>What are the best couch surfing sites?</td>\n",
       "      <td>Hi all! About 2 years ago, I would use  Couchs...</td>\n",
       "      <td>Shoestring</td>\n",
       "      <td>1639859051</td>\n",
       "    </tr>\n",
       "    <tr>\n",
       "      <th>3</th>\n",
       "      <td>yayitsducky</td>\n",
       "      <td>rjl0qo</td>\n",
       "      <td>San Antonio -&amp;gt; Seattle, 28F, Dec 30th-Jan 7...</td>\n",
       "      <td>I plan to take the senic route from SA airport...</td>\n",
       "      <td>Shoestring</td>\n",
       "      <td>1639875420</td>\n",
       "    </tr>\n",
       "    <tr>\n",
       "      <th>4</th>\n",
       "      <td>eqdesu</td>\n",
       "      <td>rk5xo1</td>\n",
       "      <td>Planning a Long Stay Trip To The UK (Ready to ...</td>\n",
       "      <td>Hello, I've been wanting to go to the UK since...</td>\n",
       "      <td>Shoestring</td>\n",
       "      <td>1639948469</td>\n",
       "    </tr>\n",
       "  </tbody>\n",
       "</table>\n",
       "</div>"
      ],
      "text/plain": [
       "                author      id  \\\n",
       "0      Reptar_on_ice69  ritvkv   \n",
       "1  BoysenberryEarly535  rj0h0c   \n",
       "2          nameless_33  rjfr9a   \n",
       "3          yayitsducky  rjl0qo   \n",
       "4               eqdesu  rk5xo1   \n",
       "\n",
       "                                               title  \\\n",
       "0                     European budget of $1500-2000?   \n",
       "1                                   Dual nationality   \n",
       "2             What are the best couch surfing sites?   \n",
       "3  San Antonio -&gt; Seattle, 28F, Dec 30th-Jan 7...   \n",
       "4  Planning a Long Stay Trip To The UK (Ready to ...   \n",
       "\n",
       "                                            selftext   subreddit  created_utc  \n",
       "0  Hey everyone 27m American here. I just got out...  Shoestring   1639784136  \n",
       "1  Double nationality\\n\\nMy American passport exp...  Shoestring   1639805706  \n",
       "2  Hi all! About 2 years ago, I would use  Couchs...  Shoestring   1639859051  \n",
       "3  I plan to take the senic route from SA airport...  Shoestring   1639875420  \n",
       "4  Hello, I've been wanting to go to the UK since...  Shoestring   1639948469  "
      ]
     },
     "execution_count": 3,
     "metadata": {},
     "output_type": "execute_result"
    }
   ],
   "source": [
    "shoestring.head()"
   ]
  },
  {
   "cell_type": "code",
   "execution_count": 4,
   "id": "07f49177",
   "metadata": {
    "ExecuteTime": {
     "end_time": "2022-01-17T11:32:39.727576Z",
     "start_time": "2022-01-17T11:32:39.713060Z"
    }
   },
   "outputs": [
    {
     "data": {
      "text/html": [
       "<div>\n",
       "<style scoped>\n",
       "    .dataframe tbody tr th:only-of-type {\n",
       "        vertical-align: middle;\n",
       "    }\n",
       "\n",
       "    .dataframe tbody tr th {\n",
       "        vertical-align: top;\n",
       "    }\n",
       "\n",
       "    .dataframe thead th {\n",
       "        text-align: right;\n",
       "    }\n",
       "</style>\n",
       "<table border=\"1\" class=\"dataframe\">\n",
       "  <thead>\n",
       "    <tr style=\"text-align: right;\">\n",
       "      <th></th>\n",
       "      <th>author</th>\n",
       "      <th>id</th>\n",
       "      <th>title</th>\n",
       "      <th>selftext</th>\n",
       "      <th>subreddit</th>\n",
       "      <th>created_utc</th>\n",
       "    </tr>\n",
       "  </thead>\n",
       "  <tbody>\n",
       "    <tr>\n",
       "      <th>0</th>\n",
       "      <td>heartbrokenlovergirl</td>\n",
       "      <td>qx514q</td>\n",
       "      <td>Would it be an \"easier\" / \"safer\" solo travel ...</td>\n",
       "      <td>I am well travelled but mostly Western/mid-ish...</td>\n",
       "      <td>solotravel</td>\n",
       "      <td>1637285752</td>\n",
       "    </tr>\n",
       "    <tr>\n",
       "      <th>1</th>\n",
       "      <td>Ok-Apartment-9759</td>\n",
       "      <td>p81u30</td>\n",
       "      <td>trip extended from 10&amp;gt;14 days in iceland! w...</td>\n",
       "      <td>first time solo female in a 4x4 to iceland. I ...</td>\n",
       "      <td>solotravel</td>\n",
       "      <td>1629452219</td>\n",
       "    </tr>\n",
       "    <tr>\n",
       "      <th>2</th>\n",
       "      <td>BDBY441</td>\n",
       "      <td>p885la</td>\n",
       "      <td>What was worth the hype/not worth the hype</td>\n",
       "      <td>Notable locations/attractions around the world...</td>\n",
       "      <td>solotravel</td>\n",
       "      <td>1629475312</td>\n",
       "    </tr>\n",
       "    <tr>\n",
       "      <th>3</th>\n",
       "      <td>throw_away4d3d</td>\n",
       "      <td>p8futg</td>\n",
       "      <td>Should I buy a cell phone signal booster for r...</td>\n",
       "      <td>I am thinking of doing a road trip from Denver...</td>\n",
       "      <td>solotravel</td>\n",
       "      <td>1629499866</td>\n",
       "    </tr>\n",
       "    <tr>\n",
       "      <th>4</th>\n",
       "      <td>anchovi-suckeroni</td>\n",
       "      <td>p8nagi</td>\n",
       "      <td>How to meet people traveling solo?</td>\n",
       "      <td>Hi,\\n\\nI'm wondering how you best meet people ...</td>\n",
       "      <td>solotravel</td>\n",
       "      <td>1629531446</td>\n",
       "    </tr>\n",
       "  </tbody>\n",
       "</table>\n",
       "</div>"
      ],
      "text/plain": [
       "                 author      id  \\\n",
       "0  heartbrokenlovergirl  qx514q   \n",
       "1     Ok-Apartment-9759  p81u30   \n",
       "2               BDBY441  p885la   \n",
       "3        throw_away4d3d  p8futg   \n",
       "4     anchovi-suckeroni  p8nagi   \n",
       "\n",
       "                                               title  \\\n",
       "0  Would it be an \"easier\" / \"safer\" solo travel ...   \n",
       "1  trip extended from 10&gt;14 days in iceland! w...   \n",
       "2         What was worth the hype/not worth the hype   \n",
       "3  Should I buy a cell phone signal booster for r...   \n",
       "4                 How to meet people traveling solo?   \n",
       "\n",
       "                                            selftext   subreddit  created_utc  \n",
       "0  I am well travelled but mostly Western/mid-ish...  solotravel   1637285752  \n",
       "1  first time solo female in a 4x4 to iceland. I ...  solotravel   1629452219  \n",
       "2  Notable locations/attractions around the world...  solotravel   1629475312  \n",
       "3  I am thinking of doing a road trip from Denver...  solotravel   1629499866  \n",
       "4  Hi,\\n\\nI'm wondering how you best meet people ...  solotravel   1629531446  "
      ]
     },
     "execution_count": 4,
     "metadata": {},
     "output_type": "execute_result"
    }
   ],
   "source": [
    "solotravel.head()"
   ]
  },
  {
   "cell_type": "code",
   "execution_count": 5,
   "id": "97320f5e",
   "metadata": {
    "ExecuteTime": {
     "end_time": "2022-01-17T11:32:39.749975Z",
     "start_time": "2022-01-17T11:32:39.730921Z"
    }
   },
   "outputs": [],
   "source": [
    "# binarize subreddit column\n",
    "solotravel[\"subreddit\"] = 0\n",
    "shoestring[\"subreddit\"] = 1\n",
    "\n",
    "# join 2 dataframes together\n",
    "data = solotravel.append(shoestring)\n",
    "\n",
    "# reset index\n",
    "data.reset_index(drop=True, inplace=True)\n",
    "\n",
    "# join title and selftext together in a separate column\n",
    "# only if title is not in selftext\n",
    "if [x[0] in x[1] for x in zip(solotravel[\"title\"], solotravel[\"selftext\"])] == False:\n",
    "    data[\"titletext\"] = data[\"title\"] + \" \" + data[\"selftext\"]\n",
    "else:\n",
    "    data[\"titletext\"] = data[\"selftext\"]\n",
    "\n",
    "# drop title and selftext\n",
    "data.drop([\"title\", \"selftext\"], axis=1, inplace=True)"
   ]
  },
  {
   "cell_type": "code",
   "execution_count": 6,
   "id": "5c3f5826",
   "metadata": {
    "ExecuteTime": {
     "end_time": "2022-01-17T11:32:39.811099Z",
     "start_time": "2022-01-17T11:32:39.753554Z"
    }
   },
   "outputs": [
    {
     "data": {
      "text/html": [
       "<div>\n",
       "<style scoped>\n",
       "    .dataframe tbody tr th:only-of-type {\n",
       "        vertical-align: middle;\n",
       "    }\n",
       "\n",
       "    .dataframe tbody tr th {\n",
       "        vertical-align: top;\n",
       "    }\n",
       "\n",
       "    .dataframe thead th {\n",
       "        text-align: right;\n",
       "    }\n",
       "</style>\n",
       "<table border=\"1\" class=\"dataframe\">\n",
       "  <thead>\n",
       "    <tr style=\"text-align: right;\">\n",
       "      <th></th>\n",
       "      <th>author</th>\n",
       "      <th>id</th>\n",
       "      <th>subreddit</th>\n",
       "      <th>created_utc</th>\n",
       "      <th>titletext</th>\n",
       "    </tr>\n",
       "  </thead>\n",
       "  <tbody>\n",
       "    <tr>\n",
       "      <th>0</th>\n",
       "      <td>heartbrokenlovergirl</td>\n",
       "      <td>qx514q</td>\n",
       "      <td>0</td>\n",
       "      <td>1637285752</td>\n",
       "      <td>I am well travelled but mostly Western/mid-ish...</td>\n",
       "    </tr>\n",
       "    <tr>\n",
       "      <th>1</th>\n",
       "      <td>Ok-Apartment-9759</td>\n",
       "      <td>p81u30</td>\n",
       "      <td>0</td>\n",
       "      <td>1629452219</td>\n",
       "      <td>first time solo female in a 4x4 to iceland. I ...</td>\n",
       "    </tr>\n",
       "    <tr>\n",
       "      <th>2</th>\n",
       "      <td>BDBY441</td>\n",
       "      <td>p885la</td>\n",
       "      <td>0</td>\n",
       "      <td>1629475312</td>\n",
       "      <td>Notable locations/attractions around the world...</td>\n",
       "    </tr>\n",
       "    <tr>\n",
       "      <th>3</th>\n",
       "      <td>throw_away4d3d</td>\n",
       "      <td>p8futg</td>\n",
       "      <td>0</td>\n",
       "      <td>1629499866</td>\n",
       "      <td>I am thinking of doing a road trip from Denver...</td>\n",
       "    </tr>\n",
       "    <tr>\n",
       "      <th>4</th>\n",
       "      <td>anchovi-suckeroni</td>\n",
       "      <td>p8nagi</td>\n",
       "      <td>0</td>\n",
       "      <td>1629531446</td>\n",
       "      <td>Hi,\\n\\nI'm wondering how you best meet people ...</td>\n",
       "    </tr>\n",
       "    <tr>\n",
       "      <th>...</th>\n",
       "      <td>...</td>\n",
       "      <td>...</td>\n",
       "      <td>...</td>\n",
       "      <td>...</td>\n",
       "      <td>...</td>\n",
       "    </tr>\n",
       "    <tr>\n",
       "      <th>2652</th>\n",
       "      <td>Paradise5551</td>\n",
       "      <td>fffv3k</td>\n",
       "      <td>1</td>\n",
       "      <td>1583688907</td>\n",
       "      <td>I'm bored and I can help find people good trav...</td>\n",
       "    </tr>\n",
       "    <tr>\n",
       "      <th>2653</th>\n",
       "      <td>ok-marie</td>\n",
       "      <td>ffghnk</td>\n",
       "      <td>1</td>\n",
       "      <td>1583691428</td>\n",
       "      <td>I’m taking a “road trip”- moving in July. I’ll...</td>\n",
       "    </tr>\n",
       "    <tr>\n",
       "      <th>2654</th>\n",
       "      <td>dromi77</td>\n",
       "      <td>ffizsb</td>\n",
       "      <td>1</td>\n",
       "      <td>1583700979</td>\n",
       "      <td>What would be the cheapeat way to get fromnalo...</td>\n",
       "    </tr>\n",
       "    <tr>\n",
       "      <th>2655</th>\n",
       "      <td>mtvesuvius729</td>\n",
       "      <td>ffkami</td>\n",
       "      <td>1</td>\n",
       "      <td>1583706104</td>\n",
       "      <td>Hey r/shoestring, long-time lurker, sometimes-...</td>\n",
       "    </tr>\n",
       "    <tr>\n",
       "      <th>2656</th>\n",
       "      <td>phithewitch</td>\n",
       "      <td>ffnfc0</td>\n",
       "      <td>1</td>\n",
       "      <td>1583719617</td>\n",
       "      <td>Hi I was hoping to go to Ireland this summer b...</td>\n",
       "    </tr>\n",
       "  </tbody>\n",
       "</table>\n",
       "<p>2657 rows × 5 columns</p>\n",
       "</div>"
      ],
      "text/plain": [
       "                    author      id  subreddit  created_utc  \\\n",
       "0     heartbrokenlovergirl  qx514q          0   1637285752   \n",
       "1        Ok-Apartment-9759  p81u30          0   1629452219   \n",
       "2                  BDBY441  p885la          0   1629475312   \n",
       "3           throw_away4d3d  p8futg          0   1629499866   \n",
       "4        anchovi-suckeroni  p8nagi          0   1629531446   \n",
       "...                    ...     ...        ...          ...   \n",
       "2652          Paradise5551  fffv3k          1   1583688907   \n",
       "2653              ok-marie  ffghnk          1   1583691428   \n",
       "2654               dromi77  ffizsb          1   1583700979   \n",
       "2655         mtvesuvius729  ffkami          1   1583706104   \n",
       "2656           phithewitch  ffnfc0          1   1583719617   \n",
       "\n",
       "                                              titletext  \n",
       "0     I am well travelled but mostly Western/mid-ish...  \n",
       "1     first time solo female in a 4x4 to iceland. I ...  \n",
       "2     Notable locations/attractions around the world...  \n",
       "3     I am thinking of doing a road trip from Denver...  \n",
       "4     Hi,\\n\\nI'm wondering how you best meet people ...  \n",
       "...                                                 ...  \n",
       "2652  I'm bored and I can help find people good trav...  \n",
       "2653  I’m taking a “road trip”- moving in July. I’ll...  \n",
       "2654  What would be the cheapeat way to get fromnalo...  \n",
       "2655  Hey r/shoestring, long-time lurker, sometimes-...  \n",
       "2656  Hi I was hoping to go to Ireland this summer b...  \n",
       "\n",
       "[2657 rows x 5 columns]"
      ]
     },
     "execution_count": 6,
     "metadata": {},
     "output_type": "execute_result"
    }
   ],
   "source": [
    "data"
   ]
  },
  {
   "cell_type": "code",
   "execution_count": 7,
   "id": "30dd7f6d",
   "metadata": {
    "ExecuteTime": {
     "end_time": "2022-01-17T11:32:40.648927Z",
     "start_time": "2022-01-17T11:32:39.815097Z"
    }
   },
   "outputs": [],
   "source": [
    "def cleaner(text):\n",
    "    # Make lowercase\n",
    "    text = text.lower()\n",
    "\n",
    "    # Remove HTML special entities (e.g. &amp;)\n",
    "    text = re.sub(r\"\\&\\w*;\", \"\", text)\n",
    "\n",
    "    # Remove hyperlinks\n",
    "    text = re.sub(\n",
    "        r\"((http|https):\\/\\/)?[-a-zA-Z0-9@:%._\\+~#=]{2,256}\\.[a-z]{2,6}\\b([-a-zA-Z0-9@:%_\\+.~#?&//=]*)\",\n",
    "        \"\",\n",
    "        text,\n",
    "    )\n",
    "\n",
    "    # Remove whitespace (including new line characters)\n",
    "    text = re.sub(r\"\\s\\s+\", \" \", text)\n",
    "\n",
    "    # remove all numbers\n",
    "    text = re.sub(r\"\\d+\", \"\", text)\n",
    "\n",
    "    return text\n",
    "\n",
    "\n",
    "data[\"titletext\"] = data[\"titletext\"].apply(cleaner)"
   ]
  },
  {
   "cell_type": "code",
   "execution_count": 8,
   "id": "f3a4417f",
   "metadata": {
    "ExecuteTime": {
     "end_time": "2022-01-17T11:32:40.689622Z",
     "start_time": "2022-01-17T11:32:40.664482Z"
    }
   },
   "outputs": [
    {
     "data": {
      "text/html": [
       "<div>\n",
       "<style scoped>\n",
       "    .dataframe tbody tr th:only-of-type {\n",
       "        vertical-align: middle;\n",
       "    }\n",
       "\n",
       "    .dataframe tbody tr th {\n",
       "        vertical-align: top;\n",
       "    }\n",
       "\n",
       "    .dataframe thead th {\n",
       "        text-align: right;\n",
       "    }\n",
       "</style>\n",
       "<table border=\"1\" class=\"dataframe\">\n",
       "  <thead>\n",
       "    <tr style=\"text-align: right;\">\n",
       "      <th></th>\n",
       "      <th>author</th>\n",
       "      <th>id</th>\n",
       "      <th>subreddit</th>\n",
       "      <th>created_utc</th>\n",
       "      <th>titletext</th>\n",
       "    </tr>\n",
       "  </thead>\n",
       "  <tbody>\n",
       "    <tr>\n",
       "      <th>0</th>\n",
       "      <td>heartbrokenlovergirl</td>\n",
       "      <td>qx514q</td>\n",
       "      <td>0</td>\n",
       "      <td>1637285752</td>\n",
       "      <td>i am well travelled but mostly western/mid-ish...</td>\n",
       "    </tr>\n",
       "    <tr>\n",
       "      <th>1</th>\n",
       "      <td>Ok-Apartment-9759</td>\n",
       "      <td>p81u30</td>\n",
       "      <td>0</td>\n",
       "      <td>1629452219</td>\n",
       "      <td>first time solo female in a x to iceland. i pl...</td>\n",
       "    </tr>\n",
       "    <tr>\n",
       "      <th>2</th>\n",
       "      <td>BDBY441</td>\n",
       "      <td>p885la</td>\n",
       "      <td>0</td>\n",
       "      <td>1629475312</td>\n",
       "      <td>notable locations/attractions around the world...</td>\n",
       "    </tr>\n",
       "    <tr>\n",
       "      <th>3</th>\n",
       "      <td>throw_away4d3d</td>\n",
       "      <td>p8futg</td>\n",
       "      <td>0</td>\n",
       "      <td>1629499866</td>\n",
       "      <td>i am thinking of doing a road trip from denver...</td>\n",
       "    </tr>\n",
       "    <tr>\n",
       "      <th>4</th>\n",
       "      <td>anchovi-suckeroni</td>\n",
       "      <td>p8nagi</td>\n",
       "      <td>0</td>\n",
       "      <td>1629531446</td>\n",
       "      <td>hi, i'm wondering how you best meet people tra...</td>\n",
       "    </tr>\n",
       "    <tr>\n",
       "      <th>...</th>\n",
       "      <td>...</td>\n",
       "      <td>...</td>\n",
       "      <td>...</td>\n",
       "      <td>...</td>\n",
       "      <td>...</td>\n",
       "    </tr>\n",
       "    <tr>\n",
       "      <th>2652</th>\n",
       "      <td>Paradise5551</td>\n",
       "      <td>fffv3k</td>\n",
       "      <td>1</td>\n",
       "      <td>1583688907</td>\n",
       "      <td>i'm bored and i can help find people good trav...</td>\n",
       "    </tr>\n",
       "    <tr>\n",
       "      <th>2653</th>\n",
       "      <td>ok-marie</td>\n",
       "      <td>ffghnk</td>\n",
       "      <td>1</td>\n",
       "      <td>1583691428</td>\n",
       "      <td>i’m taking a “road trip”- moving in july. i’ll...</td>\n",
       "    </tr>\n",
       "    <tr>\n",
       "      <th>2654</th>\n",
       "      <td>dromi77</td>\n",
       "      <td>ffizsb</td>\n",
       "      <td>1</td>\n",
       "      <td>1583700979</td>\n",
       "      <td>what would be the cheapeat way to get fromnalo...</td>\n",
       "    </tr>\n",
       "    <tr>\n",
       "      <th>2655</th>\n",
       "      <td>mtvesuvius729</td>\n",
       "      <td>ffkami</td>\n",
       "      <td>1</td>\n",
       "      <td>1583706104</td>\n",
       "      <td>hey r/shoestring, long-time lurker, sometimes-...</td>\n",
       "    </tr>\n",
       "    <tr>\n",
       "      <th>2656</th>\n",
       "      <td>phithewitch</td>\n",
       "      <td>ffnfc0</td>\n",
       "      <td>1</td>\n",
       "      <td>1583719617</td>\n",
       "      <td>hi i was hoping to go to ireland this summer b...</td>\n",
       "    </tr>\n",
       "  </tbody>\n",
       "</table>\n",
       "<p>2657 rows × 5 columns</p>\n",
       "</div>"
      ],
      "text/plain": [
       "                    author      id  subreddit  created_utc  \\\n",
       "0     heartbrokenlovergirl  qx514q          0   1637285752   \n",
       "1        Ok-Apartment-9759  p81u30          0   1629452219   \n",
       "2                  BDBY441  p885la          0   1629475312   \n",
       "3           throw_away4d3d  p8futg          0   1629499866   \n",
       "4        anchovi-suckeroni  p8nagi          0   1629531446   \n",
       "...                    ...     ...        ...          ...   \n",
       "2652          Paradise5551  fffv3k          1   1583688907   \n",
       "2653              ok-marie  ffghnk          1   1583691428   \n",
       "2654               dromi77  ffizsb          1   1583700979   \n",
       "2655         mtvesuvius729  ffkami          1   1583706104   \n",
       "2656           phithewitch  ffnfc0          1   1583719617   \n",
       "\n",
       "                                              titletext  \n",
       "0     i am well travelled but mostly western/mid-ish...  \n",
       "1     first time solo female in a x to iceland. i pl...  \n",
       "2     notable locations/attractions around the world...  \n",
       "3     i am thinking of doing a road trip from denver...  \n",
       "4     hi, i'm wondering how you best meet people tra...  \n",
       "...                                                 ...  \n",
       "2652  i'm bored and i can help find people good trav...  \n",
       "2653  i’m taking a “road trip”- moving in july. i’ll...  \n",
       "2654  what would be the cheapeat way to get fromnalo...  \n",
       "2655  hey r/shoestring, long-time lurker, sometimes-...  \n",
       "2656  hi i was hoping to go to ireland this summer b...  \n",
       "\n",
       "[2657 rows x 5 columns]"
      ]
     },
     "execution_count": 8,
     "metadata": {},
     "output_type": "execute_result"
    }
   ],
   "source": [
    "data"
   ]
  },
  {
   "cell_type": "code",
   "execution_count": 9,
   "id": "ea7a0edd",
   "metadata": {
    "ExecuteTime": {
     "end_time": "2022-01-17T11:32:40.704219Z",
     "start_time": "2022-01-17T11:32:40.693836Z"
    }
   },
   "outputs": [
    {
     "data": {
      "text/plain": [
       "0    0.507339\n",
       "1    0.492661\n",
       "Name: subreddit, dtype: float64"
      ]
     },
     "execution_count": 9,
     "metadata": {},
     "output_type": "execute_result"
    }
   ],
   "source": [
    "# checking split of subreddit\n",
    "data[\"subreddit\"].value_counts(normalize=True)"
   ]
  },
  {
   "cell_type": "code",
   "execution_count": 10,
   "id": "e9d262de",
   "metadata": {
    "ExecuteTime": {
     "end_time": "2022-01-17T11:32:40.858043Z",
     "start_time": "2022-01-17T11:32:40.707853Z"
    }
   },
   "outputs": [],
   "source": [
    "# save consolidated file into csv\n",
    "data.to_csv(\"data/data_clean.csv\", index=False)"
   ]
  },
  {
   "cell_type": "markdown",
   "id": "e7bebf55",
   "metadata": {},
   "source": [
    "## Feature Creation"
   ]
  },
  {
   "cell_type": "markdown",
   "id": "5ee00563",
   "metadata": {},
   "source": [
    "We are going to create 2 columns - for stemmed and lemmatized words to explore which would be better for modelling."
   ]
  },
  {
   "cell_type": "markdown",
   "id": "d586a6f7",
   "metadata": {},
   "source": [
    "### Lemmatization"
   ]
  },
  {
   "cell_type": "code",
   "execution_count": 11,
   "id": "fce86291",
   "metadata": {
    "ExecuteTime": {
     "end_time": "2022-01-17T11:36:51.634812Z",
     "start_time": "2022-01-17T11:32:40.887586Z"
    }
   },
   "outputs": [],
   "source": [
    "# lemmatize using spacy\n",
    "\n",
    "import spacy\n",
    "\n",
    "nlp = spacy.load(\"en_core_web_sm\")\n",
    "\n",
    "data[\"lemmatized\"] = data[\"titletext\"].apply(\n",
    "    lambda x: \" \".join([y.lemma_ for y in nlp(x)])\n",
    ")"
   ]
  },
  {
   "cell_type": "code",
   "execution_count": 12,
   "id": "fb60d8de",
   "metadata": {
    "ExecuteTime": {
     "end_time": "2022-01-17T11:36:51.708540Z",
     "start_time": "2022-01-17T11:36:51.652653Z"
    }
   },
   "outputs": [
    {
     "data": {
      "text/html": [
       "<div>\n",
       "<style scoped>\n",
       "    .dataframe tbody tr th:only-of-type {\n",
       "        vertical-align: middle;\n",
       "    }\n",
       "\n",
       "    .dataframe tbody tr th {\n",
       "        vertical-align: top;\n",
       "    }\n",
       "\n",
       "    .dataframe thead th {\n",
       "        text-align: right;\n",
       "    }\n",
       "</style>\n",
       "<table border=\"1\" class=\"dataframe\">\n",
       "  <thead>\n",
       "    <tr style=\"text-align: right;\">\n",
       "      <th></th>\n",
       "      <th>author</th>\n",
       "      <th>id</th>\n",
       "      <th>subreddit</th>\n",
       "      <th>created_utc</th>\n",
       "      <th>titletext</th>\n",
       "      <th>lemmatized</th>\n",
       "    </tr>\n",
       "  </thead>\n",
       "  <tbody>\n",
       "    <tr>\n",
       "      <th>0</th>\n",
       "      <td>heartbrokenlovergirl</td>\n",
       "      <td>qx514q</td>\n",
       "      <td>0</td>\n",
       "      <td>1637285752</td>\n",
       "      <td>i am well travelled but mostly western/mid-ish...</td>\n",
       "      <td>I be well travel but mostly western / mid - is...</td>\n",
       "    </tr>\n",
       "    <tr>\n",
       "      <th>1</th>\n",
       "      <td>Ok-Apartment-9759</td>\n",
       "      <td>p81u30</td>\n",
       "      <td>0</td>\n",
       "      <td>1629452219</td>\n",
       "      <td>first time solo female in a x to iceland. i pl...</td>\n",
       "      <td>first time solo female in a x to iceland . I p...</td>\n",
       "    </tr>\n",
       "    <tr>\n",
       "      <th>2</th>\n",
       "      <td>BDBY441</td>\n",
       "      <td>p885la</td>\n",
       "      <td>0</td>\n",
       "      <td>1629475312</td>\n",
       "      <td>notable locations/attractions around the world...</td>\n",
       "      <td>notable location / attraction around the world...</td>\n",
       "    </tr>\n",
       "    <tr>\n",
       "      <th>3</th>\n",
       "      <td>throw_away4d3d</td>\n",
       "      <td>p8futg</td>\n",
       "      <td>0</td>\n",
       "      <td>1629499866</td>\n",
       "      <td>i am thinking of doing a road trip from denver...</td>\n",
       "      <td>I be think of do a road trip from denver to lo...</td>\n",
       "    </tr>\n",
       "    <tr>\n",
       "      <th>4</th>\n",
       "      <td>anchovi-suckeroni</td>\n",
       "      <td>p8nagi</td>\n",
       "      <td>0</td>\n",
       "      <td>1629531446</td>\n",
       "      <td>hi, i'm wondering how you best meet people tra...</td>\n",
       "      <td>hi , I be wonder how you well meet people trav...</td>\n",
       "    </tr>\n",
       "  </tbody>\n",
       "</table>\n",
       "</div>"
      ],
      "text/plain": [
       "                 author      id  subreddit  created_utc  \\\n",
       "0  heartbrokenlovergirl  qx514q          0   1637285752   \n",
       "1     Ok-Apartment-9759  p81u30          0   1629452219   \n",
       "2               BDBY441  p885la          0   1629475312   \n",
       "3        throw_away4d3d  p8futg          0   1629499866   \n",
       "4     anchovi-suckeroni  p8nagi          0   1629531446   \n",
       "\n",
       "                                           titletext  \\\n",
       "0  i am well travelled but mostly western/mid-ish...   \n",
       "1  first time solo female in a x to iceland. i pl...   \n",
       "2  notable locations/attractions around the world...   \n",
       "3  i am thinking of doing a road trip from denver...   \n",
       "4  hi, i'm wondering how you best meet people tra...   \n",
       "\n",
       "                                          lemmatized  \n",
       "0  I be well travel but mostly western / mid - is...  \n",
       "1  first time solo female in a x to iceland . I p...  \n",
       "2  notable location / attraction around the world...  \n",
       "3  I be think of do a road trip from denver to lo...  \n",
       "4  hi , I be wonder how you well meet people trav...  "
      ]
     },
     "execution_count": 12,
     "metadata": {},
     "output_type": "execute_result"
    }
   ],
   "source": [
    "data.head()"
   ]
  },
  {
   "cell_type": "markdown",
   "id": "81fa59f2",
   "metadata": {},
   "source": [
    "### Stemming"
   ]
  },
  {
   "cell_type": "code",
   "execution_count": 13,
   "id": "fb859ae7",
   "metadata": {
    "ExecuteTime": {
     "end_time": "2022-01-17T11:37:02.270448Z",
     "start_time": "2022-01-17T11:36:51.711560Z"
    }
   },
   "outputs": [],
   "source": [
    "stemmer = SnowballStemmer(language=\"english\")\n",
    "\n",
    "\n",
    "def stem_words(text):\n",
    "    post = text.split()\n",
    "    stemmed = \"\"\n",
    "    for word in post:\n",
    "        stemmed += stemmer.stem(word) + \" \"\n",
    "    return stemmed\n",
    "\n",
    "\n",
    "data[\"stemmed\"] = data[\"titletext\"].apply(stem_words)"
   ]
  },
  {
   "cell_type": "code",
   "execution_count": 14,
   "id": "145b12c0",
   "metadata": {
    "ExecuteTime": {
     "end_time": "2022-01-17T11:37:02.317806Z",
     "start_time": "2022-01-17T11:37:02.278925Z"
    }
   },
   "outputs": [
    {
     "data": {
      "text/html": [
       "<div>\n",
       "<style scoped>\n",
       "    .dataframe tbody tr th:only-of-type {\n",
       "        vertical-align: middle;\n",
       "    }\n",
       "\n",
       "    .dataframe tbody tr th {\n",
       "        vertical-align: top;\n",
       "    }\n",
       "\n",
       "    .dataframe thead th {\n",
       "        text-align: right;\n",
       "    }\n",
       "</style>\n",
       "<table border=\"1\" class=\"dataframe\">\n",
       "  <thead>\n",
       "    <tr style=\"text-align: right;\">\n",
       "      <th></th>\n",
       "      <th>author</th>\n",
       "      <th>id</th>\n",
       "      <th>subreddit</th>\n",
       "      <th>created_utc</th>\n",
       "      <th>titletext</th>\n",
       "      <th>lemmatized</th>\n",
       "      <th>stemmed</th>\n",
       "    </tr>\n",
       "  </thead>\n",
       "  <tbody>\n",
       "    <tr>\n",
       "      <th>0</th>\n",
       "      <td>heartbrokenlovergirl</td>\n",
       "      <td>qx514q</td>\n",
       "      <td>0</td>\n",
       "      <td>1637285752</td>\n",
       "      <td>i am well travelled but mostly western/mid-ish...</td>\n",
       "      <td>I be well travel but mostly western / mid - is...</td>\n",
       "      <td>i am well travel but most western/mid-ish euro...</td>\n",
       "    </tr>\n",
       "    <tr>\n",
       "      <th>1</th>\n",
       "      <td>Ok-Apartment-9759</td>\n",
       "      <td>p81u30</td>\n",
       "      <td>0</td>\n",
       "      <td>1629452219</td>\n",
       "      <td>first time solo female in a x to iceland. i pl...</td>\n",
       "      <td>first time solo female in a x to iceland . I p...</td>\n",
       "      <td>first time solo femal in a x to iceland. i pla...</td>\n",
       "    </tr>\n",
       "    <tr>\n",
       "      <th>2</th>\n",
       "      <td>BDBY441</td>\n",
       "      <td>p885la</td>\n",
       "      <td>0</td>\n",
       "      <td>1629475312</td>\n",
       "      <td>notable locations/attractions around the world...</td>\n",
       "      <td>notable location / attraction around the world...</td>\n",
       "      <td>notabl locations/attract around the world that...</td>\n",
       "    </tr>\n",
       "    <tr>\n",
       "      <th>3</th>\n",
       "      <td>throw_away4d3d</td>\n",
       "      <td>p8futg</td>\n",
       "      <td>0</td>\n",
       "      <td>1629499866</td>\n",
       "      <td>i am thinking of doing a road trip from denver...</td>\n",
       "      <td>I be think of do a road trip from denver to lo...</td>\n",
       "      <td>i am think of do a road trip from denver to lo...</td>\n",
       "    </tr>\n",
       "    <tr>\n",
       "      <th>4</th>\n",
       "      <td>anchovi-suckeroni</td>\n",
       "      <td>p8nagi</td>\n",
       "      <td>0</td>\n",
       "      <td>1629531446</td>\n",
       "      <td>hi, i'm wondering how you best meet people tra...</td>\n",
       "      <td>hi , I be wonder how you well meet people trav...</td>\n",
       "      <td>hi, i'm wonder how you best meet peopl travel ...</td>\n",
       "    </tr>\n",
       "  </tbody>\n",
       "</table>\n",
       "</div>"
      ],
      "text/plain": [
       "                 author      id  subreddit  created_utc  \\\n",
       "0  heartbrokenlovergirl  qx514q          0   1637285752   \n",
       "1     Ok-Apartment-9759  p81u30          0   1629452219   \n",
       "2               BDBY441  p885la          0   1629475312   \n",
       "3        throw_away4d3d  p8futg          0   1629499866   \n",
       "4     anchovi-suckeroni  p8nagi          0   1629531446   \n",
       "\n",
       "                                           titletext  \\\n",
       "0  i am well travelled but mostly western/mid-ish...   \n",
       "1  first time solo female in a x to iceland. i pl...   \n",
       "2  notable locations/attractions around the world...   \n",
       "3  i am thinking of doing a road trip from denver...   \n",
       "4  hi, i'm wondering how you best meet people tra...   \n",
       "\n",
       "                                          lemmatized  \\\n",
       "0  I be well travel but mostly western / mid - is...   \n",
       "1  first time solo female in a x to iceland . I p...   \n",
       "2  notable location / attraction around the world...   \n",
       "3  I be think of do a road trip from denver to lo...   \n",
       "4  hi , I be wonder how you well meet people trav...   \n",
       "\n",
       "                                             stemmed  \n",
       "0  i am well travel but most western/mid-ish euro...  \n",
       "1  first time solo femal in a x to iceland. i pla...  \n",
       "2  notabl locations/attract around the world that...  \n",
       "3  i am think of do a road trip from denver to lo...  \n",
       "4  hi, i'm wonder how you best meet peopl travel ...  "
      ]
     },
     "execution_count": 14,
     "metadata": {},
     "output_type": "execute_result"
    }
   ],
   "source": [
    "data.head()"
   ]
  },
  {
   "cell_type": "markdown",
   "id": "4f2377ee",
   "metadata": {},
   "source": [
    "##  CSV of clean data"
   ]
  },
  {
   "cell_type": "code",
   "execution_count": 15,
   "id": "5cefe408",
   "metadata": {
    "ExecuteTime": {
     "end_time": "2022-01-17T11:37:02.349256Z",
     "start_time": "2022-01-17T11:37:02.322144Z"
    },
    "scrolled": true
   },
   "outputs": [
    {
     "data": {
      "text/plain": [
       "author         0\n",
       "id             0\n",
       "subreddit      0\n",
       "created_utc    0\n",
       "titletext      0\n",
       "lemmatized     0\n",
       "stemmed        0\n",
       "dtype: int64"
      ]
     },
     "execution_count": 15,
     "metadata": {},
     "output_type": "execute_result"
    }
   ],
   "source": [
    "data.isnull().sum()"
   ]
  },
  {
   "cell_type": "code",
   "execution_count": 16,
   "id": "f68e1d00",
   "metadata": {
    "ExecuteTime": {
     "end_time": "2022-01-17T11:37:02.359438Z",
     "start_time": "2022-01-17T11:37:02.352635Z"
    }
   },
   "outputs": [
    {
     "data": {
      "text/plain": [
       "(2657, 7)"
      ]
     },
     "execution_count": 16,
     "metadata": {},
     "output_type": "execute_result"
    }
   ],
   "source": [
    "data.shape"
   ]
  },
  {
   "cell_type": "code",
   "execution_count": 17,
   "id": "24324720",
   "metadata": {
    "ExecuteTime": {
     "end_time": "2022-01-17T11:37:02.379972Z",
     "start_time": "2022-01-17T11:37:02.365425Z"
    }
   },
   "outputs": [],
   "source": [
    "data[data[\"titletext\"].isnull()]\n",
    "\n",
    "data = data.drop([2362])"
   ]
  },
  {
   "cell_type": "code",
   "execution_count": 18,
   "id": "4325b3d3",
   "metadata": {
    "ExecuteTime": {
     "end_time": "2022-01-17T11:37:02.403582Z",
     "start_time": "2022-01-17T11:37:02.386316Z"
    }
   },
   "outputs": [
    {
     "data": {
      "text/plain": [
       "(2656, 7)"
      ]
     },
     "execution_count": 18,
     "metadata": {},
     "output_type": "execute_result"
    }
   ],
   "source": [
    "data.shape"
   ]
  },
  {
   "cell_type": "code",
   "execution_count": 19,
   "id": "4dc13b00",
   "metadata": {
    "ExecuteTime": {
     "end_time": "2022-01-17T11:37:02.817604Z",
     "start_time": "2022-01-17T11:37:02.408106Z"
    }
   },
   "outputs": [],
   "source": [
    "# save dataframe after vectorization\n",
    "data.to_csv(\"data/data_vec.csv\", index=False)"
   ]
  },
  {
   "cell_type": "markdown",
   "id": "dd2d7d21",
   "metadata": {},
   "source": [
    "<a id='link3'></a>"
   ]
  },
  {
   "cell_type": "markdown",
   "id": "af6b0ea4",
   "metadata": {},
   "source": [
    "## EDA"
   ]
  },
  {
   "cell_type": "markdown",
   "id": "bf0fc969",
   "metadata": {},
   "source": [
    "Here, we explore the top few words using CountVectorizer and TFIDFVectorizer on both lemmatized and stemmed columns.\n",
    "\n",
    "We want to know how different the words returned are, as a starting point for modelling.\n",
    "\n",
    "When looking at the unigram and bigrams, the results from lemmatization seem to make more sense. \n",
    "\n",
    "However, we do have to add in some additional stop words that would not add value to our model. This would be done in the next [notebook](02_modelling.ipynb#link7)."
   ]
  },
  {
   "cell_type": "markdown",
   "id": "a3e1f7e6",
   "metadata": {},
   "source": [
    "### Unigrams"
   ]
  },
  {
   "cell_type": "code",
   "execution_count": 20,
   "id": "3492bb0a",
   "metadata": {
    "ExecuteTime": {
     "end_time": "2022-01-17T11:37:02.893783Z",
     "start_time": "2022-01-17T11:37:02.820639Z"
    }
   },
   "outputs": [],
   "source": [
    "# create function\n",
    "\n",
    "cvec = CountVectorizer(\n",
    "    analyzer=\"word\",\n",
    "    tokenizer=None,\n",
    "    preprocessor=None,\n",
    "    stop_words=\"english\",\n",
    "    max_features=35,\n",
    ")\n",
    "\n",
    "tfidf = TfidfVectorizer(stop_words=\"english\", max_features=35)\n",
    "\n",
    "\n",
    "def max_words(vectorizor, transformer):\n",
    "\n",
    "    if vectorizor == \"lemmatize\":\n",
    "        # for solotravel subreddit\n",
    "        vector_input_solo = data[data[\"subreddit\"] == 0][\"lemmatized\"]\n",
    "        # fit_transform the vectorizer\n",
    "        solotravel_words = transformer.fit_transform(vector_input_solo)\n",
    "        # convert to array\n",
    "        solotravel_words = solotravel_words.toarray()\n",
    "        # get list\n",
    "        solotravel_list = transformer.get_feature_names()\n",
    "        print(f\"Top words from r/solotravel: \\n{solotravel_list}\")\n",
    "        print(\"\")\n",
    "\n",
    "        # for shoestring subreddit\n",
    "        vector_input_shoestring = data[data[\"subreddit\"] == 1][\"lemmatized\"]\n",
    "        # fit_transform the vectorizer\n",
    "        shoestring_words = transformer.fit_transform(vector_input_shoestring)\n",
    "        # convert to array\n",
    "        shoestring_words = shoestring_words.toarray()\n",
    "        # get list\n",
    "        shoestring_list = transformer.get_feature_names()\n",
    "        print(f\"Top words from r/shoestring: \\n{shoestring_list}\")\n",
    "\n",
    "    elif vectorizor == \"stem\":\n",
    "        # for solotravel subreddit\n",
    "        vector_input_solo = data[data[\"subreddit\"] == 0][\"stemmed\"]\n",
    "        # fit_transform the vectorizer\n",
    "        solotravel_words = transformer.fit_transform(vector_input_solo)\n",
    "        # convert to array\n",
    "        solotravel_words = solotravel_words.toarray()\n",
    "        # get list\n",
    "        solotravel_list = transformer.get_feature_names()\n",
    "        print(f\"Top words from r/solotravel: \\n{solotravel_list}\")\n",
    "        print(\"\")\n",
    "\n",
    "        # for shoestring subreddit\n",
    "        vector_input_shoestring = data[data[\"subreddit\"] == 1][\"stemmed\"]\n",
    "        # fit_transform the vectorizer\n",
    "        shoestring_words = transformer.fit_transform(vector_input_shoestring)\n",
    "        # convert to array\n",
    "        shoestring_words = shoestring_words.toarray()\n",
    "        # get list\n",
    "        shoestring_list = transformer.get_feature_names()\n",
    "        print(f\"Top words from r/shoestring: \\n{shoestring_list}\")\n",
    "\n",
    "    else:\n",
    "        print(\"error\")\n",
    "\n",
    "    \"\"\"to plot bar of top words\"\"\"\n",
    "    # For shoestring subreddit\n",
    "    cvec_shoestring = pd.DataFrame(\n",
    "        shoestring_words,\n",
    "        columns=shoestring_list,\n",
    "    )\n",
    "    cvec_shoestring_count = cvec_shoestring.sum(axis=0)\n",
    "\n",
    "    # For solotravel subreddit\n",
    "    cvec_solotravel = pd.DataFrame(\n",
    "        solotravel_words,\n",
    "        columns=solotravel_list,\n",
    "    )\n",
    "    cvec_solotravel_count = cvec_solotravel.sum(axis=0)\n",
    "\n",
    "    # Plot top 20 words\n",
    "    plt.figure(figsize=(24, 18))\n",
    "\n",
    "    plt.subplot(2, 2, 1)\n",
    "    cvec_solotravel_count.sort_values().tail(20).plot(kind=\"barh\")\n",
    "    plt.title(\"Top 20 Words in /r/solotravel\")\n",
    "\n",
    "    plt.subplot(2, 2, 2)\n",
    "    cvec_shoestring_count.sort_values().tail(20).plot(kind=\"barh\")\n",
    "    plt.title(\"Top 20 Words in /r/shoestring\")\n",
    "\n",
    "    plt.tight_layout()"
   ]
  },
  {
   "cell_type": "code",
   "execution_count": 21,
   "id": "6bf7fef4",
   "metadata": {
    "ExecuteTime": {
     "end_time": "2022-01-17T11:37:04.943170Z",
     "start_time": "2022-01-17T11:37:02.904342Z"
    }
   },
   "outputs": [
    {
     "name": "stdout",
     "output_type": "stream",
     "text": [
      "Top words from r/solotravel: \n",
      "['city', 'country', 'day', 'experience', 'feel', 'good', 'hostel', 'just', 'know', 'like', 'll', 'long', 'look', 'love', 'make', 'month', 'night', 'people', 'place', 'plan', 'really', 'solo', 'stay', 'thank', 'thing', 'think', 'time', 'travel', 'trip', 've', 'visit', 'want', 'week', 'work', 'year']\n",
      "\n",
      "Top words from r/shoestring: \n",
      "['budget', 'cheap', 'city', 'country', 'day', 'flight', 'food', 'good', 'just', 'know', 'like', 'look', 'love', 'make', 'month', 'need', 'people', 'place', 'plan', 'really', 'spend', 'stay', 'thank', 'thing', 'think', 'time', 'travel', 'trip', 'use', 've', 'visit', 'want', 'way', 'week', 'year']\n"
     ]
    },
    {
     "data": {
      "image/png": "[encoded data removed]",
      "text/plain": [
       "<Figure size 1728x1296 with 2 Axes>"
      ]
     },
     "metadata": {
      "needs_background": "light"
     },
     "output_type": "display_data"
    }
   ],
   "source": [
    "max_words(\"lemmatize\", cvec)"
   ]
  },
  {
   "cell_type": "code",
   "execution_count": 22,
   "id": "14d40c53",
   "metadata": {
    "ExecuteTime": {
     "end_time": "2022-01-17T11:37:07.121143Z",
     "start_time": "2022-01-17T11:37:04.945334Z"
    },
    "scrolled": true
   },
   "outputs": [
    {
     "name": "stdout",
     "output_type": "stream",
     "text": [
      "Top words from r/solotravel: \n",
      "['city', 'country', 'day', 'experience', 'feel', 'good', 'hostel', 'just', 'know', 'like', 'll', 'long', 'look', 'love', 'make', 'month', 'night', 'people', 'place', 'plan', 'really', 'solo', 'stay', 'thank', 'thing', 'think', 'time', 'travel', 'trip', 've', 'visit', 'want', 'week', 'work', 'year']\n",
      "\n",
      "Top words from r/shoestring: \n",
      "['budget', 'cheap', 'city', 'country', 'day', 'flight', 'food', 'good', 'just', 'know', 'like', 'look', 'love', 'make', 'month', 'need', 'people', 'place', 'plan', 'really', 'spend', 'stay', 'thank', 'thing', 'think', 'time', 'travel', 'trip', 'use', 've', 'visit', 'want', 'way', 'week', 'year']\n"
     ]
    },
    {
     "data": {
      "image/png": "[encoded data removed]",
      "text/plain": [
       "<Figure size 1728x1296 with 2 Axes>"
      ]
     },
     "metadata": {
      "needs_background": "light"
     },
     "output_type": "display_data"
    }
   ],
   "source": [
    "max_words(\"lemmatize\", tfidf)"
   ]
  },
  {
   "cell_type": "code",
   "execution_count": 23,
   "id": "b9a00ee7",
   "metadata": {
    "ExecuteTime": {
     "end_time": "2022-01-17T11:37:08.614911Z",
     "start_time": "2022-01-17T11:37:07.125299Z"
    }
   },
   "outputs": [
    {
     "name": "stdout",
     "output_type": "stream",
     "text": [
      "Top words from r/solotravel: \n",
      "['ani', 'anyon', 'countri', 'day', 'don', 'feel', 'good', 'hostel', 'just', 'know', 'like', 'll', 'look', 'lot', 'love', 'make', 'month', 'night', 'peopl', 'place', 'plan', 'realli', 'solo', 'stay', 'thing', 'think', 'time', 'travel', 'trip', 'veri', 'visit', 'want', 'week', 'work', 'year']\n",
      "\n",
      "Top words from r/shoestring: \n",
      "['ani', 'anyon', 'budget', 'cheap', 'citi', 'day', 'don', 'flight', 'food', 'friend', 'good', 'help', 'just', 'know', 'like', 'look', 'love', 'month', 'need', 'place', 'plan', 'realli', 'stay', 'thank', 'thing', 'think', 'time', 'travel', 'trip', 'use', 'visit', 'want', 'way', 'week', 'year']\n"
     ]
    },
    {
     "data": {
      "image/png": "[encoded data removed]",
      "text/plain": [
       "<Figure size 1728x1296 with 2 Axes>"
      ]
     },
     "metadata": {
      "needs_background": "light"
     },
     "output_type": "display_data"
    }
   ],
   "source": [
    "max_words(\"stem\", cvec)"
   ]
  },
  {
   "cell_type": "code",
   "execution_count": 24,
   "id": "80028b63",
   "metadata": {
    "ExecuteTime": {
     "end_time": "2022-01-17T11:37:10.131970Z",
     "start_time": "2022-01-17T11:37:08.619742Z"
    }
   },
   "outputs": [
    {
     "name": "stdout",
     "output_type": "stream",
     "text": [
      "Top words from r/solotravel: \n",
      "['ani', 'anyon', 'countri', 'day', 'don', 'feel', 'good', 'hostel', 'just', 'know', 'like', 'll', 'look', 'lot', 'love', 'make', 'month', 'night', 'peopl', 'place', 'plan', 'realli', 'solo', 'stay', 'thing', 'think', 'time', 'travel', 'trip', 'veri', 'visit', 'want', 'week', 'work', 'year']\n",
      "\n",
      "Top words from r/shoestring: \n",
      "['ani', 'anyon', 'budget', 'cheap', 'citi', 'day', 'don', 'flight', 'food', 'friend', 'good', 'help', 'just', 'know', 'like', 'look', 'love', 'month', 'need', 'place', 'plan', 'realli', 'stay', 'thank', 'thing', 'think', 'time', 'travel', 'trip', 'use', 'visit', 'want', 'way', 'week', 'year']\n"
     ]
    },
    {
     "data": {
      "image/png": "[encoded data removed]",
      "text/plain": [
       "<Figure size 1728x1296 with 2 Axes>"
      ]
     },
     "metadata": {
      "needs_background": "light"
     },
     "output_type": "display_data"
    }
   ],
   "source": [
    "max_words(\"stem\", tfidf)"
   ]
  },
  {
   "cell_type": "markdown",
   "id": "c138a1e5",
   "metadata": {},
   "source": [
    "### Bigrams"
   ]
  },
  {
   "cell_type": "code",
   "execution_count": 25,
   "id": "e11fbd4c",
   "metadata": {
    "ExecuteTime": {
     "end_time": "2022-01-17T11:37:10.161661Z",
     "start_time": "2022-01-17T11:37:10.139455Z"
    }
   },
   "outputs": [],
   "source": [
    "# create function\n",
    "\n",
    "cvec = CountVectorizer(\n",
    "    analyzer=\"word\",\n",
    "    tokenizer=None,\n",
    "    preprocessor=None,\n",
    "    stop_words=\"english\",\n",
    "    max_features=35,\n",
    "    ngram_range=(2, 2),\n",
    ")\n",
    "\n",
    "tfidf = TfidfVectorizer(stop_words=\"english\", max_features=35, ngram_range=(2, 2))\n",
    "\n",
    "\n",
    "def max_bigram(vectorizor, transformer):\n",
    "\n",
    "    if vectorizor == \"lemmatize\":\n",
    "        # for solotravel subreddit\n",
    "        vector_input_solo = data[data[\"subreddit\"] == 0][\"lemmatized\"]\n",
    "        # fit_transform the vectorizer\n",
    "        solotravel_words = transformer.fit_transform(vector_input_solo)\n",
    "        # convert to array\n",
    "        solotravel_words = solotravel_words.toarray()\n",
    "        # get list\n",
    "        solotravel_list = transformer.get_feature_names()\n",
    "        print(f\"Top words from r/solotravel: \\n{solotravel_list}\")\n",
    "        print(\"\")\n",
    "\n",
    "        # for shoestring subreddit\n",
    "        vector_input_shoestring = data[data[\"subreddit\"] == 1][\"lemmatized\"]\n",
    "        # fit_transform the vectorizer\n",
    "        shoestring_words = transformer.fit_transform(vector_input_shoestring)\n",
    "        # convert to array\n",
    "        shoestring_words = shoestring_words.toarray()\n",
    "        # get list\n",
    "        shoestring_list = transformer.get_feature_names()\n",
    "        print(f\"Top words from r/shoestring: \\n{shoestring_list}\")\n",
    "\n",
    "    elif vectorizor == \"stem\":\n",
    "        # for solotravel subreddit\n",
    "        vector_input_solo = data[data[\"subreddit\"] == 0][\"stemmed\"]\n",
    "        # fit_transform the vectorizer\n",
    "        solotravel_words = transformer.fit_transform(vector_input_solo)\n",
    "        # convert to array\n",
    "        solotravel_words = solotravel_words.toarray()\n",
    "        # get list\n",
    "        solotravel_list = transformer.get_feature_names()\n",
    "        print(f\"Top words from r/solotravel: \\n{solotravel_list}\")\n",
    "        print(\"\")\n",
    "\n",
    "        # for shoestring subreddit\n",
    "        vector_input_shoestring = data[data[\"subreddit\"] == 1][\"stemmed\"]\n",
    "        # fit_transform the vectorizer\n",
    "        shoestring_words = transformer.fit_transform(vector_input_shoestring)\n",
    "        # convert to array\n",
    "        shoestring_words = shoestring_words.toarray()\n",
    "        # get list\n",
    "        shoestring_list = transformer.get_feature_names()\n",
    "        print(f\"Top words from r/shoestring: \\n{shoestring_list}\")\n",
    "\n",
    "    else:\n",
    "        print(\"error\")\n",
    "\n",
    "    \"\"\"to plot bar of top words\"\"\"\n",
    "    # For shoestring subreddit\n",
    "    cvec_shoestring = pd.DataFrame(\n",
    "        shoestring_words,\n",
    "        columns=shoestring_list,\n",
    "    )\n",
    "    cvec_shoestring_count = cvec_shoestring.sum(axis=0)\n",
    "\n",
    "    # For solotravel subreddit\n",
    "    cvec_solotravel = pd.DataFrame(\n",
    "        solotravel_words,\n",
    "        columns=solotravel_list,\n",
    "    )\n",
    "    cvec_solotravel_count = cvec_solotravel.sum(axis=0)\n",
    "\n",
    "    # Plot top 20 words\n",
    "    plt.figure(figsize=(24, 18))\n",
    "\n",
    "    plt.subplot(2, 2, 1)\n",
    "    cvec_solotravel_count.sort_values().tail(20).plot(kind=\"barh\")\n",
    "    plt.title(\"Top 20 Words in /r/solotravel\")\n",
    "\n",
    "    plt.subplot(2, 2, 2)\n",
    "    cvec_shoestring_count.sort_values().tail(20).plot(kind=\"barh\")\n",
    "    plt.title(\"Top 20 Words in /r/shoestring\")\n",
    "\n",
    "    plt.tight_layout()"
   ]
  },
  {
   "cell_type": "code",
   "execution_count": 26,
   "id": "983edf9a",
   "metadata": {
    "ExecuteTime": {
     "end_time": "2022-01-17T11:37:12.525059Z",
     "start_time": "2022-01-17T11:37:10.165227Z"
    }
   },
   "outputs": [
    {
     "name": "stdout",
     "output_type": "stream",
     "text": [
      "Top words from r/solotravel: \n",
      "['day trip', 'feel like', 'good time', 'greatly appreciate', 'hey guy', 'just want', 'let know', 'long term', 'look like', 'love hear', 'meet people', 'national park', 'plan travel', 'plan trip', 'really like', 'really want', 'rent car', 'road trip', 'save money', 'solo travel', 'solo traveler', 'solo trip', 'south america', 'spend day', 'spend time', 'stay hostel', 'thank advance', 'time travel', 'travel solo', 've hear', 've travel', 'want travel', 'want visit', 'year ago', 'year old']\n",
      "\n",
      "Top words from r/shoestring: \n",
      "['book flight', 'cheap flight', 'check bag', 'costa rica', 'day trip', 'feel free', 'feel like', 'good way', 'greatly appreciate', 'just look', 'just want', 'just wonder', 'let know', 'look like', 'national park', 'new york', 'place stay', 'place visit', 'plan travel', 'plan trip', 'plane ticket', 'really want', 'rent car', 'road trip', 'round trip', 'save money', 'spend time', 'stay day', 'stay hostel', 'street food', 'thank advance', 'travel europe', 'want travel', 'want visit', 'year old']\n"
     ]
    },
    {
     "data": {
      "image/png": "[encoded data removed]",
      "text/plain": [
       "<Figure size 1728x1296 with 2 Axes>"
      ]
     },
     "metadata": {
      "needs_background": "light"
     },
     "output_type": "display_data"
    }
   ],
   "source": [
    "max_bigram(\"lemmatize\", cvec)"
   ]
  },
  {
   "cell_type": "code",
   "execution_count": 27,
   "id": "2c12a859",
   "metadata": {
    "ExecuteTime": {
     "end_time": "2022-01-17T11:37:14.914428Z",
     "start_time": "2022-01-17T11:37:12.527701Z"
    }
   },
   "outputs": [
    {
     "name": "stdout",
     "output_type": "stream",
     "text": [
      "Top words from r/solotravel: \n",
      "['day trip', 'feel like', 'good time', 'greatly appreciate', 'hey guy', 'just want', 'let know', 'long term', 'look like', 'love hear', 'meet people', 'national park', 'plan travel', 'plan trip', 'really like', 'really want', 'rent car', 'road trip', 'save money', 'solo travel', 'solo traveler', 'solo trip', 'south america', 'spend day', 'spend time', 'stay hostel', 'thank advance', 'time travel', 'travel solo', 've hear', 've travel', 'want travel', 'want visit', 'year ago', 'year old']\n",
      "\n",
      "Top words from r/shoestring: \n",
      "['book flight', 'cheap flight', 'check bag', 'costa rica', 'day trip', 'feel free', 'feel like', 'good way', 'greatly appreciate', 'just look', 'just want', 'just wonder', 'let know', 'look like', 'national park', 'new york', 'place stay', 'place visit', 'plan travel', 'plan trip', 'plane ticket', 'really want', 'rent car', 'road trip', 'round trip', 'save money', 'spend time', 'stay day', 'stay hostel', 'street food', 'thank advance', 'travel europe', 'want travel', 'want visit', 'year old']\n"
     ]
    },
    {
     "data": {
      "image/png": "[encoded data removed]",
      "text/plain": [
       "<Figure size 1728x1296 with 2 Axes>"
      ]
     },
     "metadata": {
      "needs_background": "light"
     },
     "output_type": "display_data"
    }
   ],
   "source": [
    "max_bigram(\"lemmatize\", tfidf)"
   ]
  },
  {
   "cell_type": "code",
   "execution_count": 28,
   "id": "9525dc3a",
   "metadata": {
    "ExecuteTime": {
     "end_time": "2022-01-17T11:37:17.520702Z",
     "start_time": "2022-01-17T11:37:14.919262Z"
    }
   },
   "outputs": [
    {
     "name": "stdout",
     "output_type": "stream",
     "text": [
      "Top words from r/solotravel: \n",
      "['ani advic', 'ani recommend', 'ani suggest', 'ani tip', 'anyon ani', 'anyon els', 'day trip', 'doe anyon', 'don know', 'don want', 'feel like', 'great appreciated', 'hey guys', 'just want', 'let know', 'look like', 'love hear', 'meet peopl', 'nation park', 'plan travel', 'plan trip', 'realli want', 'road trip', 'solo travel', 'solo trip', 'south america', 'spend day', 'spend time', 'stay hostel', 'time travel', 'travel alon', 'travel solo', 'want travel', 'wonder anyon', 'year old']\n",
      "\n",
      "Top words from r/shoestring: \n",
      "['ani advic', 'ani help', 'ani idea', 'ani recommend', 'ani suggest', 'ani suggestions', 'ani tip', 'anyon ani', 'anyon know', 'best way', 'costa rica', 'day trip', 'doe anyon', 'don know', 'don want', 'feel free', 'feel like', 'great appreciated', 'just want', 'know ani', 'let know', 'nation park', 'new york', 'place visit', 'plan travel', 'plan trip', 'realli want', 'rent car', 'road trip', 'round trip', 'save money', 'thank advance', 'want travel', 'wonder anyon', 'year old']\n"
     ]
    },
    {
     "data": {
      "image/png": "[encoded data removed]",
      "text/plain": [
       "<Figure size 1728x1296 with 2 Axes>"
      ]
     },
     "metadata": {
      "needs_background": "light"
     },
     "output_type": "display_data"
    }
   ],
   "source": [
    "max_bigram(\"stem\", cvec)"
   ]
  },
  {
   "cell_type": "code",
   "execution_count": 29,
   "id": "2e2ed667",
   "metadata": {
    "ExecuteTime": {
     "end_time": "2022-01-17T11:37:19.912323Z",
     "start_time": "2022-01-17T11:37:17.523521Z"
    },
    "scrolled": true
   },
   "outputs": [
    {
     "name": "stdout",
     "output_type": "stream",
     "text": [
      "Top words from r/solotravel: \n",
      "['ani advic', 'ani recommend', 'ani suggest', 'ani tip', 'anyon ani', 'anyon els', 'day trip', 'doe anyon', 'don know', 'don want', 'feel like', 'great appreciated', 'hey guys', 'just want', 'let know', 'look like', 'love hear', 'meet peopl', 'nation park', 'plan travel', 'plan trip', 'realli want', 'road trip', 'solo travel', 'solo trip', 'south america', 'spend day', 'spend time', 'stay hostel', 'time travel', 'travel alon', 'travel solo', 'want travel', 'wonder anyon', 'year old']\n",
      "\n",
      "Top words from r/shoestring: \n",
      "['ani advic', 'ani help', 'ani idea', 'ani recommend', 'ani suggest', 'ani suggestions', 'ani tip', 'anyon ani', 'anyon know', 'best way', 'costa rica', 'day trip', 'doe anyon', 'don know', 'don want', 'feel free', 'feel like', 'great appreciated', 'just want', 'know ani', 'let know', 'nation park', 'new york', 'place visit', 'plan travel', 'plan trip', 'realli want', 'rent car', 'road trip', 'round trip', 'save money', 'thank advance', 'want travel', 'wonder anyon', 'year old']\n"
     ]
    },
    {
     "data": {
      "image/png": "[encoded data removed]",
      "text/plain": [
       "<Figure size 1728x1296 with 2 Axes>"
      ]
     },
     "metadata": {
      "needs_background": "light"
     },
     "output_type": "display_data"
    }
   ],
   "source": [
    "max_bigram(\"stem\", tfidf)"
   ]
  }
 ],
 "metadata": {
  "kernelspec": {
   "display_name": "Python 3 (ipykernel)",
   "language": "python",
   "name": "python3"
  },
  "language_info": {
   "codemirror_mode": {
    "name": "ipython",
    "version": 3
   },
   "file_extension": ".py",
   "mimetype": "text/x-python",
   "name": "python",
   "nbconvert_exporter": "python",
   "pygments_lexer": "ipython3",
   "version": "3.8.8"
  },
  "toc": {
   "base_numbering": 1,
   "nav_menu": {},
   "number_sections": true,
   "sideBar": true,
   "skip_h1_title": true,
   "title_cell": "Table of Contents",
   "title_sidebar": "Contents",
   "toc_cell": false,
   "toc_position": {
    "height": "calc(100% - 180px)",
    "left": "10px",
    "top": "150px",
    "width": "165px"
   },
   "toc_section_display": true,
   "toc_window_display": true
  },
  "varInspector": {
   "cols": {
    "lenName": 16,
    "lenType": 16,
    "lenVar": 40
   },
   "kernels_config": {
    "python": {
     "delete_cmd_postfix": "",
     "delete_cmd_prefix": "del ",
     "library": "var_list.py",
     "varRefreshCmd": "print(var_dic_list())"
    },
    "r": {
     "delete_cmd_postfix": ") ",
     "delete_cmd_prefix": "rm(",
     "library": "var_list.r",
     "varRefreshCmd": "cat(var_dic_list()) "
    }
   },
   "types_to_exclude": [
    "module",
    "function",
    "builtin_function_or_method",
    "instance",
    "_Feature"
   ],
   "window_display": false
  }
 },
 "nbformat": 4,
 "nbformat_minor": 5
}
