{
 "cells": [
  {
   "cell_type": "markdown",
   "id": "f9f91985",
   "metadata": {},
   "source": [
    "# Part II - Modelling"
   ]
  },
  {
   "cell_type": "code",
   "execution_count": 1,
   "id": "f010b1cf",
   "metadata": {
    "ExecuteTime": {
     "end_time": "2022-01-20T01:14:53.278307Z",
     "start_time": "2022-01-20T01:14:49.572274Z"
    }
   },
   "outputs": [],
   "source": [
    "# Import libraries\n",
    "\n",
    "import requests\n",
    "import numpy as np\n",
    "import pandas as pd\n",
    "import matplotlib.pyplot as plt\n",
    "import seaborn as sns\n",
    "import re\n",
    "\n",
    "from sklearn.feature_extraction.text import (\n",
    "    CountVectorizer,\n",
    "    TfidfVectorizer,\n",
    "    TfidfTransformer,\n",
    ")\n",
    "\n",
    "import nltk\n",
    "\n",
    "from sklearn.pipeline import Pipeline\n",
    "from sklearn.linear_model import LogisticRegression\n",
    "from sklearn.naive_bayes import MultinomialNB\n",
    "from sklearn.model_selection import train_test_split, GridSearchCV, cross_val_score\n",
    "from sklearn.metrics import (\n",
    "    roc_curve,\n",
    "    confusion_matrix,\n",
    "    plot_confusion_matrix,\n",
    "    classification_report,\n",
    "    roc_auc_score,\n",
    "    accuracy_score,\n",
    "    plot_roc_curve,\n",
    ")\n",
    "from sklearn.ensemble import RandomForestClassifier\n",
    "from sklearn.neighbors import KNeighborsClassifier\n",
    "from sklearn.svm import LinearSVC, SVC\n",
    "\n",
    "\n",
    "import warnings\n",
    "\n",
    "warnings.filterwarnings(\"ignore\")"
   ]
  },
  {
   "cell_type": "code",
   "execution_count": 2,
   "id": "7b0e5051",
   "metadata": {
    "ExecuteTime": {
     "end_time": "2022-01-20T01:14:53.383287Z",
     "start_time": "2022-01-20T01:14:53.280682Z"
    }
   },
   "outputs": [],
   "source": [
    "data = pd.read_csv(\"data/data_vec.csv\")"
   ]
  },
  {
   "cell_type": "markdown",
   "id": "01e3905b",
   "metadata": {},
   "source": [
    "<a id='link7'></a>"
   ]
  },
  {
   "cell_type": "markdown",
   "id": "64e6bced",
   "metadata": {},
   "source": [
    "## Model Pre-processing"
   ]
  },
  {
   "cell_type": "markdown",
   "id": "8b202630",
   "metadata": {},
   "source": [
    "### Stopwords"
   ]
  },
  {
   "cell_type": "markdown",
   "id": "3e5462b5",
   "metadata": {},
   "source": [
    "These are obtained from the EDA in the previous notebook, based on commonly occurring unigrams and bigrams.\n",
    "\n",
    "Words have also been added based on the results from GridSearchCV. Names of the subreddits have also been included, so as to ensure that our data is not biased."
   ]
  },
  {
   "cell_type": "markdown",
   "id": "fbc74e67",
   "metadata": {},
   "source": [
    "<a id='link6'></a>"
   ]
  },
  {
   "cell_type": "code",
   "execution_count": 3,
   "id": "1e595fa9",
   "metadata": {
    "ExecuteTime": {
     "end_time": "2022-01-20T01:14:53.392734Z",
     "start_time": "2022-01-20T01:14:53.384642Z"
    }
   },
   "outputs": [],
   "source": [
    "add_stopwords = [\n",
    "    \"solotravel\",\n",
    "    \"shoestring\",\n",
    "    \"solo\",\n",
    "    \"city\",\n",
    "    \"country\",\n",
    "    \"don\",\n",
    "    \"ll\",\n",
    "    \"ve\",\n",
    "    \"wa\",\n",
    "    \"want\",\n",
    "    \"week\",\n",
    "    \"year\",\n",
    "    \"just\",\n",
    "    \"day\",\n",
    "    \"month\",\n",
    "    \"just\",\n",
    "    \"like\",\n",
    "    \"love\",\n",
    "    \"time\",\n",
    "    \"travel\",\n",
    "    \"way\",\n",
    "    \"really\",\n",
    "    \"good\",\n",
    "    \"get\",\n",
    "    \"go\",\n",
    "    \"going\",\n",
    "    \"would\",\n",
    "    \"thank\",\n",
    "    \"please\",\n",
    "    \"big\",\n",
    "    \"feel\",\n",
    "    \"xb\",\n",
    "    \"soon\",\n",
    "    \"anyone\",\n",
    "    \"completely\",\n",
    "    \"mostly\",\n",
    "    \"always\",\n",
    "    \"christmas\",  # this is taken out because of the period the data was scraped\n",
    "    \"also\",\n",
    "    \"else\",\n",
    "    \"however\",\n",
    "    \"but\",\n",
    "    \"make\",\n",
    "    \"lot\",\n",
    "    \"one\",\n",
    "    \"topic\",\n",
    "    \"see\",\n",
    "    \"know\",\n",
    "    \"take\",\n",
    "    \"think\",\n",
    "    \"need\",\n",
    "    \"find\",\n",
    "    \"much\",\n",
    "    \"idea\",\n",
    "    \"need\",\n",
    "    \"thing\",\n",
    "    \"post\",\n",
    "    \"well\",\n",
    "    \"use\",\n",
    "    \"look\",\n",
    "    \"still\",\n",
    "    \"trip\",\n",
    "    \"could\",\n",
    "    \"would\",\n",
    "    \"around\",\n",
    "    \"keep\",\n",
    "    \"bit\",\n",
    "    \"amp\",\n",
    "    \"place\",\n",
    "    \"back\",\n",
    "    \"try\",\n",
    "    \"help\",\n",
    "    \"old\",\n",
    "    \"suggestion\",\n",
    "    \"recommendation\",\n",
    "    \"advice\",\n",
    "    \"plan\",\n",
    "    \"decide\",\n",
    "    \"hi\",\n",
    "    \"hey\",\n",
    "    \"happen\",\n",
    "    \"something\",\n",
    "    \"appreciate\",\n",
    "    \"experience\",\n",
    "    \"people\",\n",
    "    \"never\",\n",
    "    \"recommend\",\n",
    "    \"seem\",\n",
    "]\n",
    "\n",
    "\n",
    "stopwords = nltk.corpus.stopwords.words(\"english\")\n",
    "stopwords.extend(add_stopwords)"
   ]
  },
  {
   "cell_type": "markdown",
   "id": "b5143aec",
   "metadata": {},
   "source": [
    "### Baseline Accuracy"
   ]
  },
  {
   "cell_type": "code",
   "execution_count": 4,
   "id": "7459e4b2",
   "metadata": {
    "ExecuteTime": {
     "end_time": "2022-01-20T01:14:53.404577Z",
     "start_time": "2022-01-20T01:14:53.393878Z"
    }
   },
   "outputs": [
    {
     "data": {
      "text/plain": [
       "0    0.50753\n",
       "1    0.49247\n",
       "Name: subreddit, dtype: float64"
      ]
     },
     "execution_count": 4,
     "metadata": {},
     "output_type": "execute_result"
    }
   ],
   "source": [
    "data[\"subreddit\"].value_counts(normalize=True)"
   ]
  },
  {
   "cell_type": "markdown",
   "id": "22c98d61",
   "metadata": {},
   "source": [
    "### Model Preparation"
   ]
  },
  {
   "cell_type": "code",
   "execution_count": 5,
   "id": "b937f4bd",
   "metadata": {
    "ExecuteTime": {
     "end_time": "2022-01-20T01:14:53.408634Z",
     "start_time": "2022-01-20T01:14:53.405838Z"
    }
   },
   "outputs": [],
   "source": [
    "# set X and y\n",
    "X = data[\"lemmatized\"]\n",
    "y = data[\"subreddit\"]"
   ]
  },
  {
   "cell_type": "code",
   "execution_count": 6,
   "id": "916a5e27",
   "metadata": {
    "ExecuteTime": {
     "end_time": "2022-01-20T01:14:53.418481Z",
     "start_time": "2022-01-20T01:14:53.410198Z"
    }
   },
   "outputs": [],
   "source": [
    "# train test split\n",
    "from sklearn.model_selection import train_test_split\n",
    "\n",
    "X_train, X_test, y_train, y_test = train_test_split(\n",
    "    X, y, test_size=0.2, random_state=42, stratify=y\n",
    ")"
   ]
  },
  {
   "cell_type": "code",
   "execution_count": 7,
   "id": "80f8f7e3",
   "metadata": {
    "ExecuteTime": {
     "end_time": "2022-01-20T01:14:53.424586Z",
     "start_time": "2022-01-20T01:14:53.419653Z"
    }
   },
   "outputs": [
    {
     "data": {
      "text/plain": [
       "0    0.507533\n",
       "1    0.492467\n",
       "Name: subreddit, dtype: float64"
      ]
     },
     "execution_count": 7,
     "metadata": {},
     "output_type": "execute_result"
    }
   ],
   "source": [
    "# check split of y values\n",
    "y_train.value_counts(normalize=True)"
   ]
  },
  {
   "cell_type": "markdown",
   "id": "56935c55",
   "metadata": {},
   "source": [
    "### Functions for Modelling"
   ]
  },
  {
   "cell_type": "markdown",
   "id": "bbe4ec21",
   "metadata": {},
   "source": [
    "#### For pipeline, gridsearch"
   ]
  },
  {
   "cell_type": "code",
   "execution_count": 8,
   "id": "56407f0b",
   "metadata": {
    "ExecuteTime": {
     "end_time": "2022-01-20T01:14:53.441259Z",
     "start_time": "2022-01-20T01:14:53.425903Z"
    }
   },
   "outputs": [],
   "source": [
    "# vect inputs to choose from:\n",
    "# tfidf - tfidfvectorizer\n",
    "# cvec - countvectorizer\n",
    "\n",
    "# model inputs to choose from:\n",
    "# logreg\n",
    "# nb\n",
    "# rf\n",
    "# knn\n",
    "# svm\n",
    "\n",
    "\n",
    "def longtime(vect, model, params):\n",
    "\n",
    "    \"\"\"train test split\"\"\"\n",
    "    X_train, X_test, y_train, y_test = train_test_split(\n",
    "        X, y, test_size=0.2, random_state=42, stratify=y\n",
    "    )\n",
    "\n",
    "    if vect == \"cvec\":\n",
    "        if model == \"logreg\":\n",
    "            pipeline = Pipeline(\n",
    "                [\n",
    "                    (\"vect\", CountVectorizer(stop_words=stopwords)),\n",
    "                    (\"model\", LogisticRegression(random_state=42)),\n",
    "                ]\n",
    "            )\n",
    "            grid = GridSearchCV(\n",
    "                pipeline,\n",
    "                params,\n",
    "                cv=5,\n",
    "                scoring=\"roc_auc\",\n",
    "                n_jobs=5,\n",
    "            )\n",
    "        elif model == \"nb\":\n",
    "            pipeline = Pipeline(\n",
    "                [\n",
    "                    (\"vect\", CountVectorizer(stop_words=stopwords)),\n",
    "                    (\"model\", MultinomialNB()),\n",
    "                ]\n",
    "            )\n",
    "            grid = GridSearchCV(pipeline, params, cv=5, scoring=\"roc_auc\", n_jobs=5)\n",
    "        elif model == \"rf\":\n",
    "            pipeline = Pipeline(\n",
    "                [\n",
    "                    (\"vect\", CountVectorizer(stop_words=stopwords)),\n",
    "                    (\"model\", RandomForestClassifier(random_state=42)),\n",
    "                ]\n",
    "            )\n",
    "            grid = GridSearchCV(pipeline, params, cv=5, scoring=\"roc_auc\", n_jobs=5)\n",
    "        elif model == \"knn\":\n",
    "            pipeline = Pipeline(\n",
    "                [\n",
    "                    (\"vect\", CountVectorizer(stop_words=stopwords)),\n",
    "                    (\"model\", KNeighborsClassifier()),\n",
    "                ]\n",
    "            )\n",
    "            grid = GridSearchCV(pipeline, params, cv=5, scoring=\"roc_auc\", n_jobs=5)\n",
    "        elif model == \"svm\":\n",
    "            pipeline = Pipeline(\n",
    "                [\n",
    "                    (\"vect\", CountVectorizer(stop_words=stopwords)),\n",
    "                    (\"model\", SVC(random_state=42)),\n",
    "                ]\n",
    "            )\n",
    "            grid = GridSearchCV(pipeline, params, cv=5, scoring=\"roc_auc\", n_jobs=5)\n",
    "\n",
    "    elif vect == \"tfidf\":\n",
    "        if model == \"logreg\":\n",
    "            pipeline = Pipeline(\n",
    "                [\n",
    "                    (\"vect\", TfidfVectorizer(stop_words=stopwords)),\n",
    "                    (\"model\", LogisticRegression(random_state=42)),\n",
    "                ]\n",
    "            )\n",
    "            grid = GridSearchCV(pipeline, params, cv=5, scoring=\"roc_auc\", n_jobs=5)\n",
    "        elif model == \"nb\":\n",
    "            pipeline = Pipeline(\n",
    "                [\n",
    "                    (\"vect\", TfidfVectorizer(stop_words=stopwords)),\n",
    "                    (\"model\", MultinomialNB()),\n",
    "                ]\n",
    "            )\n",
    "            grid = GridSearchCV(pipeline, params, cv=5, scoring=\"roc_auc\", n_jobs=5)\n",
    "        elif model == \"rf\":\n",
    "            pipeline = Pipeline(\n",
    "                [\n",
    "                    (\"vect\", TfidfVectorizer(stop_words=stopwords)),\n",
    "                    (\"model\", RandomForestClassifier(random_state=42)),\n",
    "                ]\n",
    "            )\n",
    "            grid = GridSearchCV(pipeline, params, cv=5, scoring=\"roc_auc\", n_jobs=5)\n",
    "        elif model == \"knn\":\n",
    "            pipeline = Pipeline(\n",
    "                [\n",
    "                    (\"vect\", TfidfVectorizer(stop_words=stopwords)),\n",
    "                    (\"model\", KNeighborsClassifier()),\n",
    "                ]\n",
    "            )\n",
    "            grid = GridSearchCV(pipeline, params, cv=5, scoring=\"roc_auc\", n_jobs=5)\n",
    "        elif model == \"svm\":\n",
    "            pipeline = Pipeline(\n",
    "                [\n",
    "                    (\"vect\", TfidfVectorizer(stop_words=stopwords)),\n",
    "                    (\"model\", SVC(random_state=42)),\n",
    "                ]\n",
    "            )\n",
    "            grid = GridSearchCV(pipeline, params, cv=5, scoring=\"roc_auc\", n_jobs=5)\n",
    "\n",
    "    grid.fit(X_train, y_train)\n",
    "    print(f\"For {vect} and {model}:\")\n",
    "    print(\"\")\n",
    "    print(f\"Best parameters are {grid.best_params_}\")\n",
    "    print(\"----------------\")\n",
    "    print(\"\")\n",
    "    print(f\"Best model accuracy score is {grid.best_score_}\")\n",
    "    print(f\"Score on test data is: {grid.score(X_test, y_test)}\")\n",
    "    print(\"----------------\")\n",
    "    print(\"\")"
   ]
  },
  {
   "cell_type": "markdown",
   "id": "87ef838e",
   "metadata": {},
   "source": [
    "#### For confusion matrix"
   ]
  },
  {
   "cell_type": "code",
   "execution_count": 9,
   "id": "ebf2e442",
   "metadata": {
    "ExecuteTime": {
     "end_time": "2022-01-20T01:14:53.446942Z",
     "start_time": "2022-01-20T01:14:53.442707Z"
    }
   },
   "outputs": [],
   "source": [
    "def cm(vect, model, X_test, y_test):\n",
    "    y_pred = model.predict(X_test)\n",
    "    tn, fp, fn, tp = confusion_matrix(y_test, y_pred).ravel()\n",
    "\n",
    "    print(classification_report(y_test, y_pred))\n",
    "\n",
    "    display(\n",
    "        pd.DataFrame(\n",
    "            confusion_matrix(y_test, y_pred),\n",
    "            columns=[\"predicted solotravel\", \"predicted shoestring\"],\n",
    "            index=[\"actual solotravel\", \"actual shoestring\"],\n",
    "        )\n",
    "    )\n",
    "\n",
    "    print(f\"ROC/AUC Score: {roc_auc_score(y_test, y_pred)}\")\n",
    "    print(f\"Misclassiciation Rate: {(fp+fn)/(tn+fn+fp+tp)}\")"
   ]
  },
  {
   "cell_type": "markdown",
   "id": "12121a96",
   "metadata": {},
   "source": [
    "#### For top features"
   ]
  },
  {
   "cell_type": "code",
   "execution_count": 37,
   "id": "0220e247",
   "metadata": {
    "ExecuteTime": {
     "end_time": "2022-01-20T02:05:54.979496Z",
     "start_time": "2022-01-20T02:05:54.960287Z"
    }
   },
   "outputs": [],
   "source": [
    "def topwords(vect, model):\n",
    "    if model == logreg_cvec:\n",
    "        top_words = pd.DataFrame(\n",
    "            {\n",
    "                \"words\": vect.get_feature_names(),\n",
    "                \"coefficients\": np.exp(model.coef_[0]),\n",
    "            }\n",
    "        )\n",
    "        print(\"Top 20 words for r/solotravel\")\n",
    "        display(top_words.sort_values(by=\"coefficients\", ascending=True).head(20))\n",
    "\n",
    "        print(\"Top 20 words for r/shoestring\")\n",
    "        display(top_words.sort_values(by=\"coefficients\", ascending=False).head(20))\n",
    "\n",
    "    elif model == nb_cvec:\n",
    "        top_words = pd.DataFrame(\n",
    "            {\"words\": vect.get_feature_names(), \"coefficients\": model.coef_[0]}\n",
    "        )\n",
    "        print(\"Top 20 words for r/solotravel\")\n",
    "        display(top_words.sort_values(by=\"coefficients\", ascending=True).head(20))\n",
    "\n",
    "        print(\"Top 20 words for r/shoestring\")\n",
    "        display(top_words.sort_values(by=\"coefficients\", ascending=False).head(20))\n",
    "\n",
    "    elif model == rf_cvec:\n",
    "        words = vect.get_feature_names()\n",
    "        featimpt = model.feature_importances_\n",
    "        top_words = pd.DataFrame({\"words\": words, \"feature importance\": featimpt})\n",
    "        print(\"Top 20 words for model\")\n",
    "        sortwords = top_words.sort_values(by=\"feature importance\", ascending=False).head(20)\n",
    "        sns.barplot(x=\"feature importance\", y=\"words\", data=sortwords,\n",
    "            label=\"Total\", color=\"r\")"
   ]
  },
  {
   "cell_type": "markdown",
   "id": "2be8c4f2",
   "metadata": {},
   "source": [
    "## Modelling"
   ]
  },
  {
   "cell_type": "markdown",
   "id": "d6285ba9",
   "metadata": {},
   "source": [
    "<a id='link4'></a>"
   ]
  },
  {
   "cell_type": "markdown",
   "id": "0f27b776",
   "metadata": {},
   "source": [
    "Using the function created earlier, we will be modelling on 5 different models, for both CountVectorizer and TFIDFVectorizer. \n",
    "\n",
    "For each model, we will first do GridSearchCV to find the optimal parameters, remodel with these optimal parameters, thereafter looking at the top features in our respective models.\n",
    "\n",
    "The table shows a summary of models we have run. Models highlighted in bold are the final models chosen for evaluation [here](#eval). We have chosen to ignore both models from SVM, as they were severly overfit."
   ]
  },
  {
   "cell_type": "markdown",
   "id": "973c892d",
   "metadata": {},
   "source": [
    "| Model | Count Vectorizer | TFIDF Vectorizer |\n",
    "| --- | --- | --- |\n",
    "| Logistic Regression | **Model 1** | Model 2 | \n",
    "| Naive-Bayes | **Model 3**  | Model 4  |\n",
    "| Random Forest | **Model 5**  | Model 6  |\n",
    "| KNN | Model 7 | **Model 8** |\n",
    "| SVM | Model 9  | Model 10 |"
   ]
  },
  {
   "cell_type": "markdown",
   "id": "9b2d18a3",
   "metadata": {},
   "source": [
    "### Logistic Regression"
   ]
  },
  {
   "cell_type": "markdown",
   "id": "70be0f56",
   "metadata": {},
   "source": [
    "#### Gridsearch for best parameters"
   ]
  },
  {
   "cell_type": "code",
   "execution_count": 11,
   "id": "6f65fefc",
   "metadata": {
    "ExecuteTime": {
     "end_time": "2022-01-20T01:14:53.461982Z",
     "start_time": "2022-01-20T01:14:53.459458Z"
    }
   },
   "outputs": [],
   "source": [
    "# params = {\n",
    "#     \"vect__max_features\": [2500, 3000, 3500, 5000],\n",
    "#     \"vect__min_df\": [3, 5, 10],\n",
    "#     \"vect__max_df\": [0.9, 0.95, 0.98],\n",
    "#     \"vect__ngram_range\": [(1, 1), (1, 2)],\n",
    "#     \"model__C\": [0.01, 0.1, 1, 2],\n",
    "#     \"model__max_iter\": [2000],\n",
    "#     \"model__solver\": [\"liblinear\", \"saga\", \"lbfgs\"],\n",
    "# }\n",
    "\n",
    "# # model 1\n",
    "# longtime(\"cvec\", \"logreg\", params)\n",
    "\n",
    "# print(\"-------------------------\")\n",
    "\n",
    "# # model 2\n",
    "# longtime(\"tfidf\", \"logreg\", params)"
   ]
  },
  {
   "cell_type": "markdown",
   "id": "3468b957",
   "metadata": {},
   "source": [
    "For cvec and logreg:\n",
    "\n",
    "Best parameters are {'model__C': 0.01, 'model__max_iter': 2000, 'model__solver': 'saga', 'vect__max_df': 0.9, 'vect__max_features': 5000, 'vect__min_df': 3, 'vect__ngram_range': (1, 2)}\n",
    "\n",
    "\n",
    "Best model accuracy score is 0.770933815923412\n",
    "\n",
    "Score on test data is: 0.8049052869663558\n",
    "\n",
    "-------------------------\n",
    "For tfidf and logreg:\n",
    "\n",
    "Best parameters are {'model__C': 0.1, 'model__max_iter': 2000, 'model__solver': 'liblinear', 'vect__max_df': 0.9, 'vect__max_features': 3500, 'vect__min_df': 3, 'vect__ngram_range': (1, 2)}\n",
    "\n",
    "Best model accuracy score is 0.7853853387874196\n",
    "\n",
    "Score on test data is: 0.8033502968617472"
   ]
  },
  {
   "cell_type": "markdown",
   "id": "1bd7d311",
   "metadata": {},
   "source": [
    "#### Re-modelling with Best Parameters"
   ]
  },
  {
   "cell_type": "markdown",
   "id": "c6670517",
   "metadata": {},
   "source": [
    "We have chosen to remodel Logistic Regression with CountVectorizer (model 1) as it seems to suggest less over fitting. \n",
    "\n",
    "When examining the top features, we can see that words like 'cheap' and 'budget' has a large influence on classifying text into r/shoestring. However, words like 'alone' and 'hostel' had lower influences, suggesting that they would belong to the r/solotravel subreddit instead. \n",
    "\n",
    "Misclassification rate: 28%"
   ]
  },
  {
   "cell_type": "code",
   "execution_count": 12,
   "id": "6fe70dc9",
   "metadata": {
    "ExecuteTime": {
     "end_time": "2022-01-20T01:15:11.477678Z",
     "start_time": "2022-01-20T01:14:53.463233Z"
    },
    "scrolled": false
   },
   "outputs": [
    {
     "name": "stdout",
     "output_type": "stream",
     "text": [
      "Logistic Regression Model Train Score: 0.7961393596986818\n",
      "Logistic Regression Model Test Score: 0.7236842105263158\n",
      "----------------------------------------\n",
      "Top 20 words for r/solotravel\n"
     ]
    },
    {
     "data": {
      "text/html": [
       "<div>\n",
       "<style scoped>\n",
       "    .dataframe tbody tr th:only-of-type {\n",
       "        vertical-align: middle;\n",
       "    }\n",
       "\n",
       "    .dataframe tbody tr th {\n",
       "        vertical-align: top;\n",
       "    }\n",
       "\n",
       "    .dataframe thead th {\n",
       "        text-align: right;\n",
       "    }\n",
       "</style>\n",
       "<table border=\"1\" class=\"dataframe\">\n",
       "  <thead>\n",
       "    <tr style=\"text-align: right;\">\n",
       "      <th></th>\n",
       "      <th>words</th>\n",
       "      <th>coefficients</th>\n",
       "    </tr>\n",
       "  </thead>\n",
       "  <tbody>\n",
       "    <tr>\n",
       "      <th>160</th>\n",
       "      <td>alone</td>\n",
       "      <td>0.761109</td>\n",
       "    </tr>\n",
       "    <tr>\n",
       "      <th>1798</th>\n",
       "      <td>first</td>\n",
       "      <td>0.774718</td>\n",
       "    </tr>\n",
       "    <tr>\n",
       "      <th>2204</th>\n",
       "      <td>hostel</td>\n",
       "      <td>0.816322</td>\n",
       "    </tr>\n",
       "    <tr>\n",
       "      <th>2785</th>\n",
       "      <td>meet</td>\n",
       "      <td>0.826779</td>\n",
       "    </tr>\n",
       "    <tr>\n",
       "      <th>3697</th>\n",
       "      <td>safe</td>\n",
       "      <td>0.841670</td>\n",
       "    </tr>\n",
       "    <tr>\n",
       "      <th>2970</th>\n",
       "      <td>next</td>\n",
       "      <td>0.884990</td>\n",
       "    </tr>\n",
       "    <tr>\n",
       "      <th>2071</th>\n",
       "      <td>guy</td>\n",
       "      <td>0.885482</td>\n",
       "    </tr>\n",
       "    <tr>\n",
       "      <th>4462</th>\n",
       "      <td>tour</td>\n",
       "      <td>0.891786</td>\n",
       "    </tr>\n",
       "    <tr>\n",
       "      <th>4349</th>\n",
       "      <td>thailand</td>\n",
       "      <td>0.899398</td>\n",
       "    </tr>\n",
       "    <tr>\n",
       "      <th>2177</th>\n",
       "      <td>home</td>\n",
       "      <td>0.901079</td>\n",
       "    </tr>\n",
       "    <tr>\n",
       "      <th>351</th>\n",
       "      <td>australia</td>\n",
       "      <td>0.907259</td>\n",
       "    </tr>\n",
       "    <tr>\n",
       "      <th>4762</th>\n",
       "      <td>wait</td>\n",
       "      <td>0.908887</td>\n",
       "    </tr>\n",
       "    <tr>\n",
       "      <th>1176</th>\n",
       "      <td>culture</td>\n",
       "      <td>0.910040</td>\n",
       "    </tr>\n",
       "    <tr>\n",
       "      <th>2118</th>\n",
       "      <td>hear</td>\n",
       "      <td>0.910128</td>\n",
       "    </tr>\n",
       "    <tr>\n",
       "      <th>2104</th>\n",
       "      <td>hard</td>\n",
       "      <td>0.910671</td>\n",
       "    </tr>\n",
       "    <tr>\n",
       "      <th>2562</th>\n",
       "      <td>life</td>\n",
       "      <td>0.911768</td>\n",
       "    </tr>\n",
       "    <tr>\n",
       "      <th>2951</th>\n",
       "      <td>nervous</td>\n",
       "      <td>0.913147</td>\n",
       "    </tr>\n",
       "    <tr>\n",
       "      <th>2654</th>\n",
       "      <td>long</td>\n",
       "      <td>0.913360</td>\n",
       "    </tr>\n",
       "    <tr>\n",
       "      <th>3659</th>\n",
       "      <td>rome</td>\n",
       "      <td>0.915898</td>\n",
       "    </tr>\n",
       "    <tr>\n",
       "      <th>3164</th>\n",
       "      <td>part</td>\n",
       "      <td>0.916997</td>\n",
       "    </tr>\n",
       "  </tbody>\n",
       "</table>\n",
       "</div>"
      ],
      "text/plain": [
       "          words  coefficients\n",
       "160       alone      0.761109\n",
       "1798      first      0.774718\n",
       "2204     hostel      0.816322\n",
       "2785       meet      0.826779\n",
       "3697       safe      0.841670\n",
       "2970       next      0.884990\n",
       "2071        guy      0.885482\n",
       "4462       tour      0.891786\n",
       "4349   thailand      0.899398\n",
       "2177       home      0.901079\n",
       "351   australia      0.907259\n",
       "4762       wait      0.908887\n",
       "1176    culture      0.910040\n",
       "2118       hear      0.910128\n",
       "2104       hard      0.910671\n",
       "2562       life      0.911768\n",
       "2951    nervous      0.913147\n",
       "2654       long      0.913360\n",
       "3659       rome      0.915898\n",
       "3164       part      0.916997"
      ]
     },
     "metadata": {},
     "output_type": "display_data"
    },
    {
     "name": "stdout",
     "output_type": "stream",
     "text": [
      "Top 20 words for r/shoestring\n"
     ]
    },
    {
     "data": {
      "text/html": [
       "<div>\n",
       "<style scoped>\n",
       "    .dataframe tbody tr th:only-of-type {\n",
       "        vertical-align: middle;\n",
       "    }\n",
       "\n",
       "    .dataframe tbody tr th {\n",
       "        vertical-align: top;\n",
       "    }\n",
       "\n",
       "    .dataframe thead th {\n",
       "        text-align: right;\n",
       "    }\n",
       "</style>\n",
       "<table border=\"1\" class=\"dataframe\">\n",
       "  <thead>\n",
       "    <tr style=\"text-align: right;\">\n",
       "      <th></th>\n",
       "      <th>words</th>\n",
       "      <th>coefficients</th>\n",
       "    </tr>\n",
       "  </thead>\n",
       "  <tbody>\n",
       "    <tr>\n",
       "      <th>842</th>\n",
       "      <td>cheap</td>\n",
       "      <td>1.427984</td>\n",
       "    </tr>\n",
       "    <tr>\n",
       "      <th>628</th>\n",
       "      <td>budget</td>\n",
       "      <td>1.287996</td>\n",
       "    </tr>\n",
       "    <tr>\n",
       "      <th>1824</th>\n",
       "      <td>flight</td>\n",
       "      <td>1.171741</td>\n",
       "    </tr>\n",
       "    <tr>\n",
       "      <th>1700</th>\n",
       "      <td>expensive</td>\n",
       "      <td>1.143116</td>\n",
       "    </tr>\n",
       "    <tr>\n",
       "      <th>1241</th>\n",
       "      <td>deal</td>\n",
       "      <td>1.140035</td>\n",
       "    </tr>\n",
       "    <tr>\n",
       "      <th>4390</th>\n",
       "      <td>ticket</td>\n",
       "      <td>1.121011</td>\n",
       "    </tr>\n",
       "    <tr>\n",
       "      <th>755</th>\n",
       "      <td>car</td>\n",
       "      <td>1.116870</td>\n",
       "    </tr>\n",
       "    <tr>\n",
       "      <th>2864</th>\n",
       "      <td>money</td>\n",
       "      <td>1.105384</td>\n",
       "    </tr>\n",
       "    <tr>\n",
       "      <th>732</th>\n",
       "      <td>camping</td>\n",
       "      <td>1.104300</td>\n",
       "    </tr>\n",
       "    <tr>\n",
       "      <th>103</th>\n",
       "      <td>affordable</td>\n",
       "      <td>1.102045</td>\n",
       "    </tr>\n",
       "    <tr>\n",
       "      <th>2362</th>\n",
       "      <td>island</td>\n",
       "      <td>1.100385</td>\n",
       "    </tr>\n",
       "    <tr>\n",
       "      <th>577</th>\n",
       "      <td>boyfriend</td>\n",
       "      <td>1.100316</td>\n",
       "    </tr>\n",
       "    <tr>\n",
       "      <th>1927</th>\n",
       "      <td>friend</td>\n",
       "      <td>1.099847</td>\n",
       "    </tr>\n",
       "    <tr>\n",
       "      <th>1655</th>\n",
       "      <td>everyone</td>\n",
       "      <td>1.099219</td>\n",
       "    </tr>\n",
       "    <tr>\n",
       "      <th>1226</th>\n",
       "      <td>date</td>\n",
       "      <td>1.097463</td>\n",
       "    </tr>\n",
       "    <tr>\n",
       "      <th>1996</th>\n",
       "      <td>girlfriend</td>\n",
       "      <td>1.096927</td>\n",
       "    </tr>\n",
       "    <tr>\n",
       "      <th>1088</th>\n",
       "      <td>cost</td>\n",
       "      <td>1.096757</td>\n",
       "    </tr>\n",
       "    <tr>\n",
       "      <th>4085</th>\n",
       "      <td>stay</td>\n",
       "      <td>1.090179</td>\n",
       "    </tr>\n",
       "    <tr>\n",
       "      <th>146</th>\n",
       "      <td>airport</td>\n",
       "      <td>1.088914</td>\n",
       "    </tr>\n",
       "    <tr>\n",
       "      <th>1913</th>\n",
       "      <td>free</td>\n",
       "      <td>1.084883</td>\n",
       "    </tr>\n",
       "  </tbody>\n",
       "</table>\n",
       "</div>"
      ],
      "text/plain": [
       "           words  coefficients\n",
       "842        cheap      1.427984\n",
       "628       budget      1.287996\n",
       "1824      flight      1.171741\n",
       "1700   expensive      1.143116\n",
       "1241        deal      1.140035\n",
       "4390      ticket      1.121011\n",
       "755          car      1.116870\n",
       "2864       money      1.105384\n",
       "732      camping      1.104300\n",
       "103   affordable      1.102045\n",
       "2362      island      1.100385\n",
       "577    boyfriend      1.100316\n",
       "1927      friend      1.099847\n",
       "1655    everyone      1.099219\n",
       "1226        date      1.097463\n",
       "1996  girlfriend      1.096927\n",
       "1088        cost      1.096757\n",
       "4085        stay      1.090179\n",
       "146      airport      1.088914\n",
       "1913        free      1.084883"
      ]
     },
     "metadata": {},
     "output_type": "display_data"
    },
    {
     "name": "stdout",
     "output_type": "stream",
     "text": [
      "              precision    recall  f1-score   support\n",
      "\n",
      "           0       0.75      0.68      0.71       270\n",
      "           1       0.70      0.77      0.73       262\n",
      "\n",
      "    accuracy                           0.72       532\n",
      "   macro avg       0.73      0.72      0.72       532\n",
      "weighted avg       0.73      0.72      0.72       532\n",
      "\n"
     ]
    },
    {
     "data": {
      "text/html": [
       "<div>\n",
       "<style scoped>\n",
       "    .dataframe tbody tr th:only-of-type {\n",
       "        vertical-align: middle;\n",
       "    }\n",
       "\n",
       "    .dataframe tbody tr th {\n",
       "        vertical-align: top;\n",
       "    }\n",
       "\n",
       "    .dataframe thead th {\n",
       "        text-align: right;\n",
       "    }\n",
       "</style>\n",
       "<table border=\"1\" class=\"dataframe\">\n",
       "  <thead>\n",
       "    <tr style=\"text-align: right;\">\n",
       "      <th></th>\n",
       "      <th>predicted solotravel</th>\n",
       "      <th>predicted shoestring</th>\n",
       "    </tr>\n",
       "  </thead>\n",
       "  <tbody>\n",
       "    <tr>\n",
       "      <th>actual solotravel</th>\n",
       "      <td>183</td>\n",
       "      <td>87</td>\n",
       "    </tr>\n",
       "    <tr>\n",
       "      <th>actual shoestring</th>\n",
       "      <td>60</td>\n",
       "      <td>202</td>\n",
       "    </tr>\n",
       "  </tbody>\n",
       "</table>\n",
       "</div>"
      ],
      "text/plain": [
       "                   predicted solotravel  predicted shoestring\n",
       "actual solotravel                   183                    87\n",
       "actual shoestring                    60                   202"
      ]
     },
     "metadata": {},
     "output_type": "display_data"
    },
    {
     "name": "stdout",
     "output_type": "stream",
     "text": [
      "ROC/AUC Score: 0.7243850720949957\n",
      "Misclassiciation Rate: 0.27631578947368424\n"
     ]
    }
   ],
   "source": [
    "# with TFIDF,\n",
    "# Train Score: 0.8102636534839924\n",
    "# Test Score: 0.7180451127819549\n",
    "\n",
    "cvec_1 = CountVectorizer(\n",
    "    max_df=0.9, max_features=5000, min_df=3, ngram_range=(1, 2), stop_words=stopwords\n",
    ")\n",
    "\n",
    "# transforming X\n",
    "logreg_X_train = cvec_1.fit_transform(X_train).todense()\n",
    "logreg_X_test = cvec_1.transform(X_test).todense()\n",
    "\n",
    "logreg = LogisticRegression(C=0.01, max_iter=2000, solver=\"saga\")\n",
    "logreg_cvec = logreg.fit(logreg_X_train, y_train)\n",
    "\n",
    "print(\"Logistic Regression Model Train Score:\", logreg.score(logreg_X_train, y_train))\n",
    "print(\"Logistic Regression Model Test Score:\", logreg.score(logreg_X_test, y_test))\n",
    "print(\"--\" * 20)\n",
    "\n",
    "# examine top features\n",
    "topwords(cvec_1, logreg_cvec)\n",
    "\n",
    "# plot cm\n",
    "cm(cvec_1, logreg_cvec, logreg_X_test, y_test)"
   ]
  },
  {
   "cell_type": "markdown",
   "id": "2aa58611",
   "metadata": {},
   "source": [
    "### Naive Bayes"
   ]
  },
  {
   "cell_type": "markdown",
   "id": "9c54d07f",
   "metadata": {},
   "source": [
    "#### Gridsearch for best parameters"
   ]
  },
  {
   "cell_type": "code",
   "execution_count": 13,
   "id": "f9393828",
   "metadata": {
    "ExecuteTime": {
     "end_time": "2022-01-20T01:15:11.482726Z",
     "start_time": "2022-01-20T01:15:11.479570Z"
    }
   },
   "outputs": [],
   "source": [
    "# params = {\n",
    "#     \"vect__max_features\": [2500, 3000, 3500],\n",
    "#     \"vect__min_df\": [3, 5, 10],\n",
    "#     \"vect__max_df\": [0.9, 0.95, 0.98],\n",
    "#     \"vect__ngram_range\": [(1, 1), (1, 2)],\n",
    "#     \"model__alpha\": [0.5, 1.0, 1.5, 2],\n",
    "# }\n",
    "\n",
    "# # model 3\n",
    "# longtime(\"cvec\", \"nb\", params)\n",
    "\n",
    "# print(\"-------------------------\")\n",
    "\n",
    "# # model 4\n",
    "# longtime(\"tfidf\", \"nb\", params)"
   ]
  },
  {
   "cell_type": "markdown",
   "id": "36ecc2fd",
   "metadata": {},
   "source": [
    "For cvec and nb:\n",
    "\n",
    "Best parameters are {'model__alpha': 2, 'vect__max_df': 0.9, 'vect__max_features': 3500, 'vect__min_df': 3, 'vect__ngram_range': (1, 2)}\n",
    "\n",
    "\n",
    "Best model accuracy score is 0.7804668265684176\n",
    "\n",
    "Score on test data is: 0.7938083121289227\n",
    "\n",
    "\n",
    "-------------------------\n",
    "For tfidf and nb:\n",
    "\n",
    "Best parameters are {'model__alpha': 2, 'vect__max_df': 0.9, 'vect__max_features': 3500, 'vect__min_df': 3, 'vect__ngram_range': (1, 2)}\n",
    "\n",
    "\n",
    "Best model accuracy score is 0.7884147728376615\n",
    "\n",
    "Score on test data is: 0.8100226180378852\n"
   ]
  },
  {
   "cell_type": "markdown",
   "id": "f65e68b2",
   "metadata": {},
   "source": [
    "#### Re-modelling with Best Parameters"
   ]
  },
  {
   "cell_type": "markdown",
   "id": "c86b05af",
   "metadata": {},
   "source": [
    "We have chosen to remodel MultinomialNB with CountVectorizer (model 3) as it returned a model that is less overfit, although overfitting is still present. \n",
    "\n",
    "Similar to logisitc regression, we can see that words like 'cheap' and 'budget' has a large influence on classifying text into r/shoestring. However, we get an interesting assortment of words for r/solotravel - which are many southeast asian destinations (famously known to be popular amongst backpackers).\n",
    "\n",
    "Misclassification rate: 27% "
   ]
  },
  {
   "cell_type": "code",
   "execution_count": 14,
   "id": "1de99339",
   "metadata": {
    "ExecuteTime": {
     "end_time": "2022-01-20T01:15:12.230509Z",
     "start_time": "2022-01-20T01:15:11.484715Z"
    }
   },
   "outputs": [
    {
     "name": "stdout",
     "output_type": "stream",
     "text": [
      "Multinomial NB Model Train Score: 0.82015065913371\n",
      "Multinomial NB Model Test Score: 0.7293233082706767\n",
      "----------------------------------------\n",
      "Top 20 words for r/solotravel\n"
     ]
    },
    {
     "data": {
      "text/html": [
       "<div>\n",
       "<style scoped>\n",
       "    .dataframe tbody tr th:only-of-type {\n",
       "        vertical-align: middle;\n",
       "    }\n",
       "\n",
       "    .dataframe tbody tr th {\n",
       "        vertical-align: top;\n",
       "    }\n",
       "\n",
       "    .dataframe thead th {\n",
       "        text-align: right;\n",
       "    }\n",
       "</style>\n",
       "<table border=\"1\" class=\"dataframe\">\n",
       "  <thead>\n",
       "    <tr style=\"text-align: right;\">\n",
       "      <th></th>\n",
       "      <th>words</th>\n",
       "      <th>coefficients</th>\n",
       "    </tr>\n",
       "  </thead>\n",
       "  <tbody>\n",
       "    <tr>\n",
       "      <th>856</th>\n",
       "      <td>dynamic</td>\n",
       "      <td>-10.021093</td>\n",
       "    </tr>\n",
       "    <tr>\n",
       "      <th>3080</th>\n",
       "      <td>thailand cambodia</td>\n",
       "      <td>-10.021093</td>\n",
       "    </tr>\n",
       "    <tr>\n",
       "      <th>1595</th>\n",
       "      <td>kyoto</td>\n",
       "      <td>-10.021093</td>\n",
       "    </tr>\n",
       "    <tr>\n",
       "      <th>2237</th>\n",
       "      <td>positive</td>\n",
       "      <td>-10.021093</td>\n",
       "    </tr>\n",
       "    <tr>\n",
       "      <th>3380</th>\n",
       "      <td>weed</td>\n",
       "      <td>-10.021093</td>\n",
       "    </tr>\n",
       "    <tr>\n",
       "      <th>3078</th>\n",
       "      <td>thai</td>\n",
       "      <td>-10.021093</td>\n",
       "    </tr>\n",
       "    <tr>\n",
       "      <th>2510</th>\n",
       "      <td>ring</td>\n",
       "      <td>-10.021093</td>\n",
       "    </tr>\n",
       "    <tr>\n",
       "      <th>206</th>\n",
       "      <td>awkward</td>\n",
       "      <td>-10.021093</td>\n",
       "    </tr>\n",
       "    <tr>\n",
       "      <th>3075</th>\n",
       "      <td>th leave</td>\n",
       "      <td>-10.021093</td>\n",
       "    </tr>\n",
       "    <tr>\n",
       "      <th>876</th>\n",
       "      <td>easy meet</td>\n",
       "      <td>-10.021093</td>\n",
       "    </tr>\n",
       "    <tr>\n",
       "      <th>3370</th>\n",
       "      <td>wealthy</td>\n",
       "      <td>-10.021093</td>\n",
       "    </tr>\n",
       "    <tr>\n",
       "      <th>1583</th>\n",
       "      <td>kinshasa</td>\n",
       "      <td>-10.021093</td>\n",
       "    </tr>\n",
       "    <tr>\n",
       "      <th>2986</th>\n",
       "      <td>sure safe</td>\n",
       "      <td>-10.021093</td>\n",
       "    </tr>\n",
       "    <tr>\n",
       "      <th>2987</th>\n",
       "      <td>sure spend</td>\n",
       "      <td>-10.021093</td>\n",
       "    </tr>\n",
       "    <tr>\n",
       "      <th>882</th>\n",
       "      <td>economic</td>\n",
       "      <td>-10.021093</td>\n",
       "    </tr>\n",
       "    <tr>\n",
       "      <th>1571</th>\n",
       "      <td>kazakhstan</td>\n",
       "      <td>-10.021093</td>\n",
       "    </tr>\n",
       "    <tr>\n",
       "      <th>889</th>\n",
       "      <td>education</td>\n",
       "      <td>-10.021093</td>\n",
       "    </tr>\n",
       "    <tr>\n",
       "      <th>2859</th>\n",
       "      <td>spend three</td>\n",
       "      <td>-10.021093</td>\n",
       "    </tr>\n",
       "    <tr>\n",
       "      <th>3363</th>\n",
       "      <td>wat</td>\n",
       "      <td>-10.021093</td>\n",
       "    </tr>\n",
       "    <tr>\n",
       "      <th>520</th>\n",
       "      <td>cinque terre</td>\n",
       "      <td>-10.021093</td>\n",
       "    </tr>\n",
       "  </tbody>\n",
       "</table>\n",
       "</div>"
      ],
      "text/plain": [
       "                  words  coefficients\n",
       "856             dynamic    -10.021093\n",
       "3080  thailand cambodia    -10.021093\n",
       "1595              kyoto    -10.021093\n",
       "2237           positive    -10.021093\n",
       "3380               weed    -10.021093\n",
       "3078               thai    -10.021093\n",
       "2510               ring    -10.021093\n",
       "206             awkward    -10.021093\n",
       "3075           th leave    -10.021093\n",
       "876           easy meet    -10.021093\n",
       "3370            wealthy    -10.021093\n",
       "1583           kinshasa    -10.021093\n",
       "2986          sure safe    -10.021093\n",
       "2987         sure spend    -10.021093\n",
       "882            economic    -10.021093\n",
       "1571         kazakhstan    -10.021093\n",
       "889           education    -10.021093\n",
       "2859        spend three    -10.021093\n",
       "3363                wat    -10.021093\n",
       "520        cinque terre    -10.021093"
      ]
     },
     "metadata": {},
     "output_type": "display_data"
    },
    {
     "name": "stdout",
     "output_type": "stream",
     "text": [
      "Top 20 words for r/shoestring\n"
     ]
    },
    {
     "data": {
      "text/html": [
       "<div>\n",
       "<style scoped>\n",
       "    .dataframe tbody tr th:only-of-type {\n",
       "        vertical-align: middle;\n",
       "    }\n",
       "\n",
       "    .dataframe tbody tr th {\n",
       "        vertical-align: top;\n",
       "    }\n",
       "\n",
       "    .dataframe thead th {\n",
       "        text-align: right;\n",
       "    }\n",
       "</style>\n",
       "<table border=\"1\" class=\"dataframe\">\n",
       "  <thead>\n",
       "    <tr style=\"text-align: right;\">\n",
       "      <th></th>\n",
       "      <th>words</th>\n",
       "      <th>coefficients</th>\n",
       "    </tr>\n",
       "  </thead>\n",
       "  <tbody>\n",
       "    <tr>\n",
       "      <th>1108</th>\n",
       "      <td>flight</td>\n",
       "      <td>-4.894157</td>\n",
       "    </tr>\n",
       "    <tr>\n",
       "      <th>484</th>\n",
       "      <td>cheap</td>\n",
       "      <td>-4.918182</td>\n",
       "    </tr>\n",
       "    <tr>\n",
       "      <th>2904</th>\n",
       "      <td>stay</td>\n",
       "      <td>-5.044359</td>\n",
       "    </tr>\n",
       "    <tr>\n",
       "      <th>364</th>\n",
       "      <td>budget</td>\n",
       "      <td>-5.192779</td>\n",
       "    </tr>\n",
       "    <tr>\n",
       "      <th>3318</th>\n",
       "      <td>visit</td>\n",
       "      <td>-5.415923</td>\n",
       "    </tr>\n",
       "    <tr>\n",
       "      <th>2848</th>\n",
       "      <td>spend</td>\n",
       "      <td>-5.493884</td>\n",
       "    </tr>\n",
       "    <tr>\n",
       "      <th>1875</th>\n",
       "      <td>money</td>\n",
       "      <td>-5.584341</td>\n",
       "    </tr>\n",
       "    <tr>\n",
       "      <th>1139</th>\n",
       "      <td>food</td>\n",
       "      <td>-5.602252</td>\n",
       "    </tr>\n",
       "    <tr>\n",
       "      <th>1129</th>\n",
       "      <td>fly</td>\n",
       "      <td>-5.632836</td>\n",
       "    </tr>\n",
       "    <tr>\n",
       "      <th>1181</th>\n",
       "      <td>friend</td>\n",
       "      <td>-5.645336</td>\n",
       "    </tr>\n",
       "    <tr>\n",
       "      <th>3440</th>\n",
       "      <td>work</td>\n",
       "      <td>-5.664384</td>\n",
       "    </tr>\n",
       "    <tr>\n",
       "      <th>310</th>\n",
       "      <td>book</td>\n",
       "      <td>-5.690359</td>\n",
       "    </tr>\n",
       "    <tr>\n",
       "      <th>1966</th>\n",
       "      <td>night</td>\n",
       "      <td>-5.710294</td>\n",
       "    </tr>\n",
       "    <tr>\n",
       "      <th>1400</th>\n",
       "      <td>hostel</td>\n",
       "      <td>-5.730633</td>\n",
       "    </tr>\n",
       "    <tr>\n",
       "      <th>433</th>\n",
       "      <td>car</td>\n",
       "      <td>-5.737506</td>\n",
       "    </tr>\n",
       "    <tr>\n",
       "      <th>1712</th>\n",
       "      <td>long</td>\n",
       "      <td>-5.765480</td>\n",
       "    </tr>\n",
       "    <tr>\n",
       "      <th>3119</th>\n",
       "      <td>tip</td>\n",
       "      <td>-5.765480</td>\n",
       "    </tr>\n",
       "    <tr>\n",
       "      <th>1414</th>\n",
       "      <td>hotel</td>\n",
       "      <td>-5.779766</td>\n",
       "    </tr>\n",
       "    <tr>\n",
       "      <th>3108</th>\n",
       "      <td>ticket</td>\n",
       "      <td>-5.794259</td>\n",
       "    </tr>\n",
       "    <tr>\n",
       "      <th>1687</th>\n",
       "      <td>live</td>\n",
       "      <td>-5.823891</td>\n",
       "    </tr>\n",
       "  </tbody>\n",
       "</table>\n",
       "</div>"
      ],
      "text/plain": [
       "       words  coefficients\n",
       "1108  flight     -4.894157\n",
       "484    cheap     -4.918182\n",
       "2904    stay     -5.044359\n",
       "364   budget     -5.192779\n",
       "3318   visit     -5.415923\n",
       "2848   spend     -5.493884\n",
       "1875   money     -5.584341\n",
       "1139    food     -5.602252\n",
       "1129     fly     -5.632836\n",
       "1181  friend     -5.645336\n",
       "3440    work     -5.664384\n",
       "310     book     -5.690359\n",
       "1966   night     -5.710294\n",
       "1400  hostel     -5.730633\n",
       "433      car     -5.737506\n",
       "1712    long     -5.765480\n",
       "3119     tip     -5.765480\n",
       "1414   hotel     -5.779766\n",
       "3108  ticket     -5.794259\n",
       "1687    live     -5.823891"
      ]
     },
     "metadata": {},
     "output_type": "display_data"
    },
    {
     "name": "stdout",
     "output_type": "stream",
     "text": [
      "              precision    recall  f1-score   support\n",
      "\n",
      "           0       0.74      0.71      0.73       270\n",
      "           1       0.72      0.74      0.73       262\n",
      "\n",
      "    accuracy                           0.73       532\n",
      "   macro avg       0.73      0.73      0.73       532\n",
      "weighted avg       0.73      0.73      0.73       532\n",
      "\n"
     ]
    },
    {
     "data": {
      "text/html": [
       "<div>\n",
       "<style scoped>\n",
       "    .dataframe tbody tr th:only-of-type {\n",
       "        vertical-align: middle;\n",
       "    }\n",
       "\n",
       "    .dataframe tbody tr th {\n",
       "        vertical-align: top;\n",
       "    }\n",
       "\n",
       "    .dataframe thead th {\n",
       "        text-align: right;\n",
       "    }\n",
       "</style>\n",
       "<table border=\"1\" class=\"dataframe\">\n",
       "  <thead>\n",
       "    <tr style=\"text-align: right;\">\n",
       "      <th></th>\n",
       "      <th>predicted solotravel</th>\n",
       "      <th>predicted shoestring</th>\n",
       "    </tr>\n",
       "  </thead>\n",
       "  <tbody>\n",
       "    <tr>\n",
       "      <th>actual solotravel</th>\n",
       "      <td>193</td>\n",
       "      <td>77</td>\n",
       "    </tr>\n",
       "    <tr>\n",
       "      <th>actual shoestring</th>\n",
       "      <td>67</td>\n",
       "      <td>195</td>\n",
       "    </tr>\n",
       "  </tbody>\n",
       "</table>\n",
       "</div>"
      ],
      "text/plain": [
       "                   predicted solotravel  predicted shoestring\n",
       "actual solotravel                   193                    77\n",
       "actual shoestring                    67                   195"
      ]
     },
     "metadata": {},
     "output_type": "display_data"
    },
    {
     "name": "stdout",
     "output_type": "stream",
     "text": [
      "ROC/AUC Score: 0.72954481198756\n",
      "Misclassiciation Rate: 0.2706766917293233\n"
     ]
    }
   ],
   "source": [
    "# With TFIDF,\n",
    "# Train Score: 0.8427495291902072\n",
    "# Test Score: 0.731203007518797\n",
    "\n",
    "cvec_2 = CountVectorizer(\n",
    "    max_df=0.9, max_features=3500, min_df=3, ngram_range=(1, 2), stop_words=stopwords\n",
    ")\n",
    "\n",
    "# transforming X\n",
    "nb_X_train = cvec_2.fit_transform(X_train).todense()\n",
    "nb_X_test = cvec_2.transform(X_test).todense()\n",
    "\n",
    "nb = MultinomialNB(alpha=2)\n",
    "nb_cvec = nb.fit(nb_X_train, y_train)\n",
    "\n",
    "print(\"Multinomial NB Model Train Score:\", nb.score(nb_X_train, y_train))\n",
    "print(\"Multinomial NB Model Test Score:\", nb.score(nb_X_test, y_test))\n",
    "print(\"--\" * 20)\n",
    "\n",
    "# examine top features\n",
    "topwords(cvec_2, nb_cvec)\n",
    "\n",
    "# plot cm\n",
    "cm(cvec_2, nb_cvec, nb_X_test, y_test)"
   ]
  },
  {
   "cell_type": "markdown",
   "id": "34e6ed77",
   "metadata": {},
   "source": [
    "### Random Forest"
   ]
  },
  {
   "cell_type": "markdown",
   "id": "7400c2b6",
   "metadata": {},
   "source": [
    "#### Gridsearch for best parameters"
   ]
  },
  {
   "cell_type": "code",
   "execution_count": 15,
   "id": "ed1804cb",
   "metadata": {
    "ExecuteTime": {
     "end_time": "2022-01-20T01:15:12.235271Z",
     "start_time": "2022-01-20T01:15:12.232514Z"
    }
   },
   "outputs": [],
   "source": [
    "# params = {\n",
    "#     \"vect__max_features\": [2500, 3000, 3500, 5000],\n",
    "#     \"vect__min_df\": [3],\n",
    "#     \"vect__max_df\": [0.9, 0.95, 0.98],\n",
    "#     \"vect__ngram_range\": [(1, 1), (1, 2)],\n",
    "#     \"model__n_estimators\": [300, 400, 500],\n",
    "#     \"model__max_depth\": [10, 15, 20],\n",
    "#     \"model__min_samples_leaf\": [5, 10, 20],\n",
    "# }\n",
    "\n",
    "# # model 5\n",
    "# longtime(\"cvec\", \"rf\", params)\n",
    "\n",
    "# print(\"-------------------------\")\n",
    "\n",
    "# # model 6\n",
    "# longtime(\"tfidf\", \"rf\", params)"
   ]
  },
  {
   "cell_type": "markdown",
   "id": "b911fca6",
   "metadata": {
    "ExecuteTime": {
     "end_time": "2022-01-19T01:15:06.586174Z",
     "start_time": "2022-01-19T01:15:06.586163Z"
    }
   },
   "source": [
    "For cvec and rf:\n",
    "\n",
    "Best parameters are {'model__max_depth': 20, 'model__min_samples_leaf': 5, 'model__n_estimators': 500, 'vect__max_df': 0.9, 'vect__max_features': 5000, 'vect__min_df': 3, 'vect__ngram_range': (1, 2)}\n",
    "\n",
    "\n",
    "Best model accuracy score is 0.7723149146062243\n",
    "\n",
    "Score on test data is: 0.8044529262086514\n",
    "\n",
    "\n",
    "-------------------------\n",
    "\n",
    "\n",
    "For tfidf and rf:\n",
    "\n",
    "Best parameters are {'model__max_depth': 20, 'model__min_samples_leaf': 5, 'model__n_estimators': 300, 'vect__max_df': 0.9, 'vect__max_features': 3500, 'vect__min_df': 3, 'vect__ngram_range': (1, 2)}\n",
    "\n",
    "\n",
    "Best model accuracy score is 0.7713562550374056\n",
    "\n",
    "Score on test data is: 0.8022476675148431\n"
   ]
  },
  {
   "cell_type": "markdown",
   "id": "631b394b",
   "metadata": {},
   "source": [
    "#### Re-modelling With Best Parameters"
   ]
  },
  {
   "cell_type": "markdown",
   "id": "8358a783",
   "metadata": {},
   "source": [
    "We have chosen to remodel with Random Forest and CountVectorizer (model 5). This model was slightly less overfit. \n",
    "\n",
    "However, with a random forest model, we are unable to see which words had a larger influence on which subreddit. \n",
    "\n",
    "The top features only tells us which words were important in determining the splitting of the trees.\n",
    "\n",
    "Misclassification rate: 26%"
   ]
  },
  {
   "cell_type": "code",
   "execution_count": 38,
   "id": "536804e1",
   "metadata": {
    "ExecuteTime": {
     "end_time": "2022-01-20T02:06:07.183533Z",
     "start_time": "2022-01-20T02:05:58.567613Z"
    }
   },
   "outputs": [
    {
     "name": "stdout",
     "output_type": "stream",
     "text": [
      "Top 20 words for model\n",
      "              precision    recall  f1-score   support\n",
      "\n",
      "           0       0.76      0.70      0.73       270\n",
      "           1       0.72      0.77      0.74       262\n",
      "\n",
      "    accuracy                           0.74       532\n",
      "   macro avg       0.74      0.74      0.74       532\n",
      "weighted avg       0.74      0.74      0.74       532\n",
      "\n"
     ]
    },
    {
     "data": {
      "text/html": [
       "<div>\n",
       "<style scoped>\n",
       "    .dataframe tbody tr th:only-of-type {\n",
       "        vertical-align: middle;\n",
       "    }\n",
       "\n",
       "    .dataframe tbody tr th {\n",
       "        vertical-align: top;\n",
       "    }\n",
       "\n",
       "    .dataframe thead th {\n",
       "        text-align: right;\n",
       "    }\n",
       "</style>\n",
       "<table border=\"1\" class=\"dataframe\">\n",
       "  <thead>\n",
       "    <tr style=\"text-align: right;\">\n",
       "      <th></th>\n",
       "      <th>predicted solotravel</th>\n",
       "      <th>predicted shoestring</th>\n",
       "    </tr>\n",
       "  </thead>\n",
       "  <tbody>\n",
       "    <tr>\n",
       "      <th>actual solotravel</th>\n",
       "      <td>190</td>\n",
       "      <td>80</td>\n",
       "    </tr>\n",
       "    <tr>\n",
       "      <th>actual shoestring</th>\n",
       "      <td>60</td>\n",
       "      <td>202</td>\n",
       "    </tr>\n",
       "  </tbody>\n",
       "</table>\n",
       "</div>"
      ],
      "text/plain": [
       "                   predicted solotravel  predicted shoestring\n",
       "actual solotravel                   190                    80\n",
       "actual shoestring                    60                   202"
      ]
     },
     "metadata": {},
     "output_type": "display_data"
    },
    {
     "name": "stdout",
     "output_type": "stream",
     "text": [
      "ROC/AUC Score: 0.7373480350579587\n",
      "Misclassiciation Rate: 0.2631578947368421\n",
      "Random Forest Model Train Score: 0.8116760828625236\n",
      "Random Forest Model Test Score: 0.7368421052631579\n"
     ]
    },
    {
     "data": {
      "image/png": "[encoded data removed]",
      "text/plain": [
       "<Figure size 432x288 with 1 Axes>"
      ]
     },
     "metadata": {
      "needs_background": "light"
     },
     "output_type": "display_data"
    }
   ],
   "source": [
    "# With TFIDF,\n",
    "# Train Score: 0.833804143126177\n",
    "# Test Score: 0.7424812030075187\n",
    "\n",
    "cvec_3 = CountVectorizer(\n",
    "    max_df=0.9, max_features=5000, min_df=3, ngram_range=(1, 2), stop_words=stopwords\n",
    ")\n",
    "\n",
    "# transforming X\n",
    "rf_X_train = cvec_3.fit_transform(X_train).todense()\n",
    "rf_X_test = cvec_3.transform(X_test).todense()\n",
    "\n",
    "rf = RandomForestClassifier(\n",
    "    random_state=42, max_depth=20, min_samples_leaf=5, n_estimators=500\n",
    ")\n",
    "rf_cvec = rf.fit(rf_X_train, y_train)\n",
    "\n",
    "# examine top features\n",
    "topwords(cvec_3, rf_cvec)\n",
    "\n",
    "# plot cm\n",
    "cm(cvec_3, rf_cvec, rf_X_test, y_test)\n",
    "\n",
    "print(\"Random Forest Model Train Score:\", rf.score(rf_X_train, y_train))\n",
    "print(\"Random Forest Model Test Score:\", rf.score(rf_X_test, y_test))"
   ]
  },
  {
   "cell_type": "markdown",
   "id": "44bd023c",
   "metadata": {},
   "source": [
    "### KNN"
   ]
  },
  {
   "cell_type": "markdown",
   "id": "e8fed7ab",
   "metadata": {},
   "source": [
    "#### Gridsearch for best parameters"
   ]
  },
  {
   "cell_type": "code",
   "execution_count": 17,
   "id": "db76a73b",
   "metadata": {
    "ExecuteTime": {
     "end_time": "2022-01-20T01:15:20.522182Z",
     "start_time": "2022-01-20T01:15:20.519973Z"
    }
   },
   "outputs": [],
   "source": [
    "# params = {\n",
    "#     \"vect__max_features\": [2500, 3000, 3500, 5000],\n",
    "#     \"vect__min_df\": [3],\n",
    "#     \"vect__max_df\": [0.9, 0.95, 0.98],\n",
    "#     \"vect__ngram_range\": [(1, 1), (1, 2)],\n",
    "#     \"model__n_neighbors\": [10, 20, 30, 50],\n",
    "#     \"model__leaf_size\": [10, 20, 30],\n",
    "# }\n",
    "\n",
    "# # model 7\n",
    "# longtime(\"cvec\", \"knn\", params)\n",
    "\n",
    "# print(\"-------------------------\")\n",
    "\n",
    "# # model 8\n",
    "# longtime(\"tfidf\", \"knn\", params)"
   ]
  },
  {
   "cell_type": "markdown",
   "id": "483c4240",
   "metadata": {},
   "source": [
    "For cvec and knn:\n",
    "\n",
    "Best parameters are {'model__leaf_size': 10, 'model__n_neighbors': 50, 'vect__max_df': 0.9, 'vect__max_features': 3000, 'vect__min_df': 3, 'vect__ngram_range': (1, 1)}\n",
    "\n",
    "\n",
    "Best model accuracy score is 0.6137462831379601\n",
    "\n",
    "Score on test data is: 0.6496819338422392\n",
    "\n",
    "\n",
    "-------------------------\n",
    "For tfidf and knn:\n",
    "\n",
    "Best parameters are {'model__leaf_size': 10, 'model__n_neighbors': 50, 'vect__max_df': 0.9, 'vect__max_features': 3500, 'vect__min_df': 3, 'vect__ngram_range': (1, 2)}\n",
    "\n",
    "\n",
    "Best model accuracy score is 0.749399295160617\n",
    "\n",
    "Score on test data is: 0.76526010743568"
   ]
  },
  {
   "cell_type": "markdown",
   "id": "4999b315",
   "metadata": {},
   "source": [
    "#### Re-modelling KNN with best params"
   ]
  },
  {
   "cell_type": "markdown",
   "id": "1d553dc5",
   "metadata": {},
   "source": [
    "We have chosen to remodel KNN with TFIDFVectorizer (model 8) as it returned a higher accuracy score.\n",
    "\n",
    "However, with the KNN model, we are unable to see which words had higher influence on the model. \n",
    "\n",
    "Misclassification rate: 29%"
   ]
  },
  {
   "cell_type": "code",
   "execution_count": 18,
   "id": "b41301f5",
   "metadata": {
    "ExecuteTime": {
     "end_time": "2022-01-20T01:15:21.986732Z",
     "start_time": "2022-01-20T01:15:20.523475Z"
    }
   },
   "outputs": [
    {
     "name": "stdout",
     "output_type": "stream",
     "text": [
      "              precision    recall  f1-score   support\n",
      "\n",
      "           0       0.77      0.62      0.69       270\n",
      "           1       0.67      0.81      0.73       262\n",
      "\n",
      "    accuracy                           0.71       532\n",
      "   macro avg       0.72      0.71      0.71       532\n",
      "weighted avg       0.72      0.71      0.71       532\n",
      "\n"
     ]
    },
    {
     "data": {
      "text/html": [
       "<div>\n",
       "<style scoped>\n",
       "    .dataframe tbody tr th:only-of-type {\n",
       "        vertical-align: middle;\n",
       "    }\n",
       "\n",
       "    .dataframe tbody tr th {\n",
       "        vertical-align: top;\n",
       "    }\n",
       "\n",
       "    .dataframe thead th {\n",
       "        text-align: right;\n",
       "    }\n",
       "</style>\n",
       "<table border=\"1\" class=\"dataframe\">\n",
       "  <thead>\n",
       "    <tr style=\"text-align: right;\">\n",
       "      <th></th>\n",
       "      <th>predicted solotravel</th>\n",
       "      <th>predicted shoestring</th>\n",
       "    </tr>\n",
       "  </thead>\n",
       "  <tbody>\n",
       "    <tr>\n",
       "      <th>actual solotravel</th>\n",
       "      <td>167</td>\n",
       "      <td>103</td>\n",
       "    </tr>\n",
       "    <tr>\n",
       "      <th>actual shoestring</th>\n",
       "      <td>50</td>\n",
       "      <td>212</td>\n",
       "    </tr>\n",
       "  </tbody>\n",
       "</table>\n",
       "</div>"
      ],
      "text/plain": [
       "                   predicted solotravel  predicted shoestring\n",
       "actual solotravel                   167                   103\n",
       "actual shoestring                    50                   212"
      ]
     },
     "metadata": {},
     "output_type": "display_data"
    },
    {
     "name": "stdout",
     "output_type": "stream",
     "text": [
      "ROC/AUC Score: 0.7138394119310149\n",
      "Misclassiciation Rate: 0.287593984962406\n",
      "KNN Train Score: 0.7142184557438794\n",
      "KNN Test Score: 0.7124060150375939\n"
     ]
    }
   ],
   "source": [
    "# With CountVect,\n",
    "# Train Score: 0.5230696798493408\n",
    "# Test Score: 0.5169172932330827\n",
    "\n",
    "tfidf_4 = TfidfVectorizer(\n",
    "    max_df=0.9, max_features=3500, min_df=3, ngram_range=(1, 2), stop_words=stopwords\n",
    ")\n",
    "\n",
    "# transforming X\n",
    "knn_X_train = tfidf_4.fit_transform(X_train).todense()\n",
    "knn_X_test = tfidf_4.transform(X_test).todense()\n",
    "\n",
    "knn = KNeighborsClassifier(leaf_size=10, n_neighbors=50)\n",
    "knn_tvec = knn.fit(knn_X_train, y_train)  # fitting the model for roc/auc later\n",
    "\n",
    "\n",
    "# plot cm\n",
    "cm(tfidf_4, knn_tvec, knn_X_test, y_test)\n",
    "\n",
    "\n",
    "print(\"KNN Train Score:\", knn.score(knn_X_train, y_train))\n",
    "print(\"KNN Test Score:\", knn.score(knn_X_test, y_test))"
   ]
  },
  {
   "cell_type": "markdown",
   "id": "7d079327",
   "metadata": {},
   "source": [
    "### SVM"
   ]
  },
  {
   "cell_type": "markdown",
   "id": "56cd3134",
   "metadata": {},
   "source": [
    "#### Gridsearch for best parameters"
   ]
  },
  {
   "cell_type": "code",
   "execution_count": 19,
   "id": "c822d5c4",
   "metadata": {
    "ExecuteTime": {
     "end_time": "2022-01-20T01:15:21.997161Z",
     "start_time": "2022-01-20T01:15:21.990296Z"
    }
   },
   "outputs": [],
   "source": [
    "# params = {\n",
    "#     \"vect__max_features\": [2500, 3000, 3500, 5000],\n",
    "#     \"vect__min_df\": [3],\n",
    "#     \"vect__max_df\": [0.9, 0.95, 0.98],\n",
    "#     \"vect__ngram_range\": [(1, 1), (1, 2)],\n",
    "#     \"model__kernel\": [\"linear\", \"rbf\", \"poly\"],\n",
    "#     \"model__C\": [50, 100],\n",
    "# }\n",
    "\n",
    "# # model 9\n",
    "# longtime(\"cvec\", \"svm\", params)\n",
    "\n",
    "# print(\"-------------------------\")\n",
    "\n",
    "# # model 10\n",
    "# longtime(\"tfidf\", \"svm\", params)"
   ]
  },
  {
   "cell_type": "markdown",
   "id": "90e3ee08",
   "metadata": {
    "ExecuteTime": {
     "end_time": "2022-01-19T01:26:45.679106Z",
     "start_time": "2022-01-19T01:26:45.647126Z"
    }
   },
   "source": [
    "For cvec and svm:\n",
    "\n",
    "Best parameters are {'model__C': 50, 'model__kernel': 'poly', 'vect__max_df': 0.9, 'vect__max_features': 2500, 'vect__min_df': 3, 'vect__ngram_range': (1, 2)}\n",
    "\n",
    "Best model accuracy score is 0.7295147090771325\n",
    "\n",
    "Score on test data is: 0.7396381113938364\n",
    "\n",
    "\n",
    "-------------------------\n",
    "For tfidf and svm:\n",
    "\n",
    "Best parameters are {'model__C': 100, 'model__kernel': 'rbf', 'vect__max_df': 0.9, 'vect__max_features': 5000, 'vect__min_df': 3, 'vect__ngram_range': (1, 2)}\n",
    "\n",
    "\n",
    "Best model accuracy score is 0.7726982540330153\n",
    "\n",
    "Score on test data is: 0.8154226745829799"
   ]
  },
  {
   "cell_type": "markdown",
   "id": "d879421c",
   "metadata": {},
   "source": [
    "#### Re-modelling SVM with best params"
   ]
  },
  {
   "cell_type": "markdown",
   "id": "178ff5fb",
   "metadata": {},
   "source": [
    "We explore modelling with SVM as well, however both models are severly overfit, and we will choose neither of the models. \n",
    "\n",
    "Moreover, it is also difficult to interpret the coefficients derived from the poly SVM."
   ]
  },
  {
   "cell_type": "code",
   "execution_count": 20,
   "id": "8cd664c5",
   "metadata": {
    "ExecuteTime": {
     "end_time": "2022-01-20T01:16:09.277543Z",
     "start_time": "2022-01-20T01:15:22.000126Z"
    }
   },
   "outputs": [
    {
     "name": "stdout",
     "output_type": "stream",
     "text": [
      "              precision    recall  f1-score   support\n",
      "\n",
      "           0       0.77      0.74      0.75       270\n",
      "           1       0.74      0.77      0.75       262\n",
      "\n",
      "    accuracy                           0.75       532\n",
      "   macro avg       0.75      0.75      0.75       532\n",
      "weighted avg       0.75      0.75      0.75       532\n",
      "\n"
     ]
    },
    {
     "data": {
      "text/html": [
       "<div>\n",
       "<style scoped>\n",
       "    .dataframe tbody tr th:only-of-type {\n",
       "        vertical-align: middle;\n",
       "    }\n",
       "\n",
       "    .dataframe tbody tr th {\n",
       "        vertical-align: top;\n",
       "    }\n",
       "\n",
       "    .dataframe thead th {\n",
       "        text-align: right;\n",
       "    }\n",
       "</style>\n",
       "<table border=\"1\" class=\"dataframe\">\n",
       "  <thead>\n",
       "    <tr style=\"text-align: right;\">\n",
       "      <th></th>\n",
       "      <th>predicted solotravel</th>\n",
       "      <th>predicted shoestring</th>\n",
       "    </tr>\n",
       "  </thead>\n",
       "  <tbody>\n",
       "    <tr>\n",
       "      <th>actual solotravel</th>\n",
       "      <td>199</td>\n",
       "      <td>71</td>\n",
       "    </tr>\n",
       "    <tr>\n",
       "      <th>actual shoestring</th>\n",
       "      <td>61</td>\n",
       "      <td>201</td>\n",
       "    </tr>\n",
       "  </tbody>\n",
       "</table>\n",
       "</div>"
      ],
      "text/plain": [
       "                   predicted solotravel  predicted shoestring\n",
       "actual solotravel                   199                    71\n",
       "actual shoestring                    61                   201"
      ]
     },
     "metadata": {},
     "output_type": "display_data"
    },
    {
     "name": "stdout",
     "output_type": "stream",
     "text": [
      "ROC/AUC Score: 0.7521063047780605\n",
      "Misclassiciation Rate: 0.24812030075187969\n",
      "SVM Train Score: 0.9976459510357816\n",
      "SVM Test Score: 0.7518796992481203\n"
     ]
    }
   ],
   "source": [
    "tfidf_5 = TfidfVectorizer(\n",
    "    max_df=0.9, max_features=5000, min_df=3, ngram_range=(1, 2), stop_words=stopwords\n",
    ")\n",
    "\n",
    "# transforming X\n",
    "svm_X_train = tfidf_5.fit_transform(X_train).todense()\n",
    "svm_X_test = tfidf_5.transform(X_test).todense()\n",
    "\n",
    "svm = SVC(C=100, kernel=\"rbf\")\n",
    "svm_tvec = svm.fit(svm_X_train, y_train)  \n",
    "\n",
    "\n",
    "# plot cm\n",
    "cm(tfidf_5, svm_tvec, svm_X_test, y_test)\n",
    "\n",
    "print(\"SVM Train Score:\", svm.score(svm_X_train, y_train))\n",
    "print(\"SVM Test Score:\", svm.score(svm_X_test, y_test))"
   ]
  },
  {
   "cell_type": "code",
   "execution_count": 21,
   "id": "02c3f6e1",
   "metadata": {
    "ExecuteTime": {
     "end_time": "2022-01-20T01:16:18.895635Z",
     "start_time": "2022-01-20T01:16:09.279919Z"
    }
   },
   "outputs": [
    {
     "name": "stdout",
     "output_type": "stream",
     "text": [
      "              precision    recall  f1-score   support\n",
      "\n",
      "           0       0.83      0.30      0.44       270\n",
      "           1       0.56      0.94      0.70       262\n",
      "\n",
      "    accuracy                           0.61       532\n",
      "   macro avg       0.70      0.62      0.57       532\n",
      "weighted avg       0.70      0.61      0.57       532\n",
      "\n"
     ]
    },
    {
     "data": {
      "text/html": [
       "<div>\n",
       "<style scoped>\n",
       "    .dataframe tbody tr th:only-of-type {\n",
       "        vertical-align: middle;\n",
       "    }\n",
       "\n",
       "    .dataframe tbody tr th {\n",
       "        vertical-align: top;\n",
       "    }\n",
       "\n",
       "    .dataframe thead th {\n",
       "        text-align: right;\n",
       "    }\n",
       "</style>\n",
       "<table border=\"1\" class=\"dataframe\">\n",
       "  <thead>\n",
       "    <tr style=\"text-align: right;\">\n",
       "      <th></th>\n",
       "      <th>predicted solotravel</th>\n",
       "      <th>predicted shoestring</th>\n",
       "    </tr>\n",
       "  </thead>\n",
       "  <tbody>\n",
       "    <tr>\n",
       "      <th>actual solotravel</th>\n",
       "      <td>81</td>\n",
       "      <td>189</td>\n",
       "    </tr>\n",
       "    <tr>\n",
       "      <th>actual shoestring</th>\n",
       "      <td>17</td>\n",
       "      <td>245</td>\n",
       "    </tr>\n",
       "  </tbody>\n",
       "</table>\n",
       "</div>"
      ],
      "text/plain": [
       "                   predicted solotravel  predicted shoestring\n",
       "actual solotravel                    81                   189\n",
       "actual shoestring                    17                   245"
      ]
     },
     "metadata": {},
     "output_type": "display_data"
    },
    {
     "name": "stdout",
     "output_type": "stream",
     "text": [
      "ROC/AUC Score: 0.6175572519083969\n",
      "Misclassiciation Rate: 0.38721804511278196\n",
      "SVM Train Score: 0.9289077212806026\n",
      "SVM Test Score: 0.6127819548872181\n"
     ]
    }
   ],
   "source": [
    "cvec_5 = CountVectorizer(\n",
    "    max_df=0.9, max_features=2500, min_df=3, ngram_range=(1, 2), stop_words=stopwords\n",
    ")\n",
    "\n",
    "# transforming X\n",
    "svm_X_train = cvec_5.fit_transform(X_train).todense()\n",
    "svm_X_test = cvec_5.transform(X_test).todense()\n",
    "\n",
    "svm = SVC(C=50, kernel=\"poly\")\n",
    "svm_cvec = svm.fit(svm_X_train, y_train)  \n",
    "\n",
    "\n",
    "# plot cm\n",
    "cm(cvec_5, svm_cvec, svm_X_test, y_test)\n",
    "\n",
    "print(\"SVM Train Score:\", svm.score(svm_X_train, y_train))\n",
    "print(\"SVM Test Score:\", svm.score(svm_X_test, y_test))"
   ]
  },
  {
   "cell_type": "markdown",
   "id": "aead5f9a",
   "metadata": {},
   "source": [
    "## Model Evaluation"
   ]
  },
  {
   "cell_type": "markdown",
   "id": "9abf0dac",
   "metadata": {},
   "source": [
    "<a id='eval'></a>"
   ]
  },
  {
   "cell_type": "markdown",
   "id": "bbe4bb8c",
   "metadata": {},
   "source": [
    "In this section, we will evaluate all the 5 models we have run previously. \n",
    "\n",
    "Although the SVM model has the highest ROC/AUC score, the train/test split was too drastic to ignore and hence we went with the Random Forest instead. The Random Forest model returned the best ROC/AUC score while having a train/test score that was not too large. We have chosen ROC-AUC to score our model, as the split between the 2 classes are pretty balanced, and misclassification would not have too much of a negative impact.\n",
    "\n",
    "\n",
    "That said, we will still be looking at some of the text that has been misclassified in the last part of this section. "
   ]
  },
  {
   "cell_type": "markdown",
   "id": "00ba386d",
   "metadata": {},
   "source": [
    "### Summary"
   ]
  },
  {
   "cell_type": "markdown",
   "id": "ca131440",
   "metadata": {},
   "source": [
    "| Model | Vectorizer | Train Score | Test Score | Misclassification Rate |\n",
    "| --- | --- | --- | --- | --- |\n",
    "| Logistic Regression | Count | 79.7% |  72.4%  |   27.6% |  \n",
    "| Naive-Bayes | Count | 82.0% |  72.9%  |  27.1%  | \n",
    "| Random Forest | Count | 81.2% |  73.7%  |  26.32%  |  \n",
    "| KNN | TFIDF | 71.4% |  71.2%  |  28.8%  | \n",
    "| SVM | TFIDF | 99.8% |  75.2%  |  24.8%  |  "
   ]
  },
  {
   "cell_type": "markdown",
   "id": "8c2d86ef",
   "metadata": {},
   "source": [
    "### ROC-AUC Curve"
   ]
  },
  {
   "cell_type": "markdown",
   "id": "55380edc",
   "metadata": {},
   "source": [
    "We plotted 4 models, and excluded SVM. \n",
    "\n",
    "From this, we have chosen Random Forest as the model to use, as it returned the best ROC/AUC score. It tended to show more difference between the 2 subreddits, although not very accurate."
   ]
  },
  {
   "cell_type": "code",
   "execution_count": 40,
   "id": "0c16c675",
   "metadata": {
    "ExecuteTime": {
     "end_time": "2022-01-20T05:13:26.234489Z",
     "start_time": "2022-01-20T05:13:25.413655Z"
    }
   },
   "outputs": [
    {
     "data": {
      "image/png": "[encoded data removed]",
      "text/plain": [
       "<Figure size 1080x720 with 1 Axes>"
      ]
     },
     "metadata": {
      "needs_background": "light"
     },
     "output_type": "display_data"
    }
   ],
   "source": [
    "y_pred_prob1 = logreg.predict_proba(logreg_X_test)[:, 1]\n",
    "fpr1, tpr1, thresholds1 = roc_curve(y_test, y_pred_prob1)\n",
    "\n",
    "y_pred_prob2 = nb.predict_proba(nb_X_test)[:, 1]\n",
    "fpr2, tpr2, thresholds2 = roc_curve(y_test, y_pred_prob2)\n",
    "\n",
    "\n",
    "y_pred_prob3 = rf.predict_proba(rf_X_test)[:, 1]\n",
    "fpr3, tpr3, thresholds3 = roc_curve(y_test, y_pred_prob3)\n",
    "\n",
    "y_pred_prob4 = knn.predict_proba(knn_X_test)[:, 1]\n",
    "fpr4, tpr4, thresholds4 = roc_curve(y_test, y_pred_prob4)\n",
    "\n",
    "plt.figure(figsize=(15, 10))\n",
    "plt.plot([0, 1], [0, 1], \"k--\")\n",
    "plt.plot(fpr1, tpr1, label=\"logistic regression\")\n",
    "plt.plot(fpr2, tpr2, label=\"multinomial nb\")\n",
    "plt.plot(fpr3, tpr3, label=\"random forest\")\n",
    "plt.plot(fpr4, tpr4, label=\"k nearest neighbors\")\n",
    "plt.legend()\n",
    "plt.xlabel(\"FPR\")\n",
    "plt.ylabel(\"TPR\")\n",
    "plt.title(\"Receiver Operating Characteristic\")\n",
    "\n",
    "plt.tight_layout()\n",
    "plt.savefig(\"images/roc.png\", facecolor='w')"
   ]
  },
  {
   "cell_type": "markdown",
   "id": "87467c60",
   "metadata": {},
   "source": [
    "### Misclassified Text"
   ]
  },
  {
   "cell_type": "markdown",
   "id": "daf30ba2",
   "metadata": {},
   "source": [
    "Taking a look at the text that was misclassified, we see a mix of: \n",
    "* truly misclassified posts \n",
    "    - *misclassified as shoestring:* I would love to go outside the country but I know there be just a boat load of restriction everywhere right now so I ’m look for idea of place or inspiration to go in the us . length of trip would be a long weekend to squeeze in between class .\n",
    "\n",
    "\n",
    "\n",
    "* posts that could belong in both subreddits \n",
    "    - I want to solo travel to an asian country that march   for a week , at the beginning of my college vacation ( we get four week of vacation ) . I will finance the trip myself . however , my parent be concern with the possibility that covid restriction might be force at the last minute , and that I end up be stick there for week . they mention a similar case that happen in turkey and morocco . how can I convince they that this risk do not really represent a strong case against my trip ? I do agree that this be a risk , but if we start count all similar risk as a threat , then we would not travel at all . what do you guy think ?\n",
    "\n",
    "\n",
    "\n",
    "* posts that were posted in the wrong subreddit\n",
    "    - *posted in solotravel:* I have a lot of time off at the beginning of december . costa rica be an easy/ inexpensive flight .   have be a rough year and I have not exactly treat my body with the good care . so I be look for some kind of wellness retreat in costa rica . I have do ton of research online and the option I be find be more surf / yoga retreat . I be look for body , mind and spirit rejuvenation . clean , healthy eating , exercise , massage and maybe even some one on one therapy . I know place like this exist in india and other place far away from the state but I do not want to deal with + hour of fly each way for just a few week; budget would ideally be around \\$, for + day not include airfare\n",
    "\n",
    "\n",
    "\n",
    "* posts that do not belong in either subreddit\n",
    "    - where do you move to ? how do you find work ? be it easy to find work ? what be the avg pay rate for a cook where you be ? what be you pay in rent or what percentage of your earning go to rent ? more importantly ; how be life ?\n",
    "    - I want to travel to all these different country right and experience local place and all . but I be so bad with food . I have such a hard time try new food and I dislike so many thing that be really big in other country like rice . there ’ a lot of country that rice be in almost every meal so I think you can see the issue . anyone else have this issue and what have you do about it ?"
   ]
  },
  {
   "cell_type": "code",
   "execution_count": 23,
   "id": "5bde28ce",
   "metadata": {
    "ExecuteTime": {
     "end_time": "2022-01-20T01:16:19.756033Z",
     "start_time": "2022-01-20T01:16:19.676616Z"
    }
   },
   "outputs": [],
   "source": [
    "# create df for misclassified\n",
    "results = pd.DataFrame(\n",
    "    {\"text\": X_test, \"actual\": y_test, \"pred\": rf.predict(rf_X_test)}\n",
    ")"
   ]
  },
  {
   "cell_type": "code",
   "execution_count": 24,
   "id": "3970c0ba",
   "metadata": {
    "ExecuteTime": {
     "end_time": "2022-01-20T01:16:19.768402Z",
     "start_time": "2022-01-20T01:16:19.757276Z"
    }
   },
   "outputs": [
    {
     "name": "stdout",
     "output_type": "stream",
     "text": [
      "hey everybody so I ’m go to be in florida for   day from thursday morning - sunday around noon in mid december . I ’m look for some tip on place I should go while I ’m there . here ’ what ’s already in place . I ’m fly into fort lauderdale . I ’ll be stay in florida city and I have a rental car . I want to check out key west and everglades national park . I see that biscayne national park be also near by and I can check that out . miami be not high on my list since I do not plan on party and want to do low risk covid activity , maybe I ’ll pass through or spend a few hour check it out . any suggestion along the line of place to see , thing to do , and food to get would be much appreciate ! thank !\n",
      "--------------------\n",
      "you all , I live in nyc and during the peak of winter , nyc be go to be a terrible place as it 'll be super cold and most likely shut down ( to some degree ) because of covid . I be think about get away from january to march and have be look at the caribbean . I would love to be near a beach , in a chill low - key environment , ( ideally where usd be accept ) , have good wi - fi option so I can work and all , and yea just look to relax . any suggestion on which country ? how be the visa concern ( I know some country have these really expensive program , but I be only go for two month so I be try to just take a regular visa ) ? yeah , any insight would be appreciate ! thank !\n",
      "--------------------\n",
      "hello everyone ! I ’m plan a solo trip to europe and I ’m have a bit of trouble find thing that would be fun to do solo in amsterdam . do anyone have any suggestion of thing to do that be less touristy ?\n",
      "--------------------\n",
      "leave in a couple week for a solo road trip , rent a car . always want to see europe in the winter . I be from canada so I be familiar with drive in winter condition and should be prepare for the cold . I would appreciate any feedback or recommendation on any part of my itinerary . I recognize that I be not spend as much time as one ideally would in major city in general , but I want to hit the romantic road and part of the alpine road in germany while spend christmas and new year 's in relatively populated area . see area in the countryside ( not just big city ) be really important to I for this trip . germany day : land in frankfurt day : darmstadt , eltville day : mainz day : heidelberg france day : strasbourg day : obernai day : riquewihr day : colmar switzerland day : basel day : grindelwald day : lucerne back in germany : day : konstanz day : fussen day : garmisch - partenkirchen day - : munich day : nuremberg day : bamberg day : rothenburg day : dinelsbuhl day : augsburg austria day - : salzburg back in germany ( again ): day : berchtesgaden czechia : day - : cesky krumlov day - : prague back in germany : day - : dresden day - : berlin day : hamburg day : bremen day - : cologne day : frankfurt\n",
      "--------------------\n",
      "anyone do panama canal in january ? try to plan trip without use cruise company .   y / o / m think I would go to panama city and book local guide to make boat ride through the entire canal - a bucket list item . any advice would be welcome . richard .\n",
      "--------------------\n",
      "vietnam have jump a lot and be now on a lot of people ’s list to travel . I believe some place pick up in popularity to get to that level would be mexico ( outside of the resort ) and colombia . I ’ve also see more interest in nicaragua and perhaps guatemala . be to both mexico and colombia . both very budget - friendly with great weather . I would say mexico city be one of the good experience I ’ve have with food ( less than $ usd taco that you will get addict to ) , culture , and cost . there be numerous \" magic town \" . a few that be a few hour away by bus and cheap to take . guanajuato and taxco be beautiful . cholula remind I of austin , texas with their bar . be to medellin only for colombia and its scenic , great weather , great partying scene . both be mountainous .\n",
      "--------------------\n",
      "hello - new to this sub but plan a round the world backpack trip to begin once international border be ( reliably ) open up again , whenever that may be . will put in my leave of absence at work and take off . goal be to hit   country with ~ week in each country . what do you advise on the most cost efficient way to handle cell phone plan ? I would prefer not to pay my att $ /day pass for   day , though it would sure be simple . any advice much appreciate !\n",
      "--------------------\n",
      "vietnam have jump a lot and be now on a lot of people ’s list to travel . I believe some place pick up in popularity to get to that level would be mexico ( outside of the resort ) and colombia . I ’ve also see more interest in nicaragua and perhaps guatemala . be to both mexico and colombia . both very budget - friendly with great weather . I would say mexico city be one of the good experience I ’ve have with food ( less than $ usd taco that you will get addict to ) , culture and nightlife that come with be one of the big city , and cost . there be numerous \" magic town \" . a few that be a few hour away by bus and cheap to take . guanajuato and taxco be beautiful . cholula remind I of austin , texas with their bar . guadalajara be a more chill version of mexico city but also great for nightlife . be to medellin only for colombia and its scenic , great weather , great nightlife . both be mountainous .\n",
      "--------------------\n",
      "in light of covid travel restriction , I be wonder if as an usa passport holder I can even fly to western european city like madrid , paris , etc . to use they as a connection / layover and fly then to northern africa , easter europe , or the middle east . I suppose I could do this use dublin or london heathrow as layover without too many problem . I would be fly out of guatemala city ( which have a direct iberia flight to madrid ) not fly from the usa . not sure if that effect anything . anyone have experience recently do this ?\n",
      "--------------------\n",
      "hey everyone . I be plan a solo trip to oaxaca and mexico city this january for about a month . I be wonder if anyone have and tip or idea for thing to consider . I 've do a fair amount of research so far . I prefer stay in hostel private room , airbnbs or budget hotel . I be interested in hiking , photography , culture , and music . thank in advance .\n",
      "--------------------\n",
      "hello all , have anyone else rent a car from poland ? the website say I \" should \" have an international driver permit ( idp ) issue from my country of origin . do I actually need this to rent a car ? be a driver license and a passport enough ? will I be deny the car rental ? I be specifically rent from wroclaw poland and be from usa .\n",
      "--------------------\n",
      "miss my connect flight and be stick for another   hour . what would you do if you have   hour in dublin ? ( maybe   to be safe so I do not miss the next flight )\n",
      "--------------------\n",
      "it can be anywhere in the world , but as someone who do not drive , I be really curious about place that be incredible pedestrian and public transportation friendly . just hop off the plane and roll .\n",
      "--------------------\n",
      "hey guy I m   year old male from canada who will be do a backpack trip from london , accross europe into moscow , then the trans siberian to beijing . side trip to thailand , back to china , and then all the way to pakistan where I m originally from . this will be do all by land . in total the trip will take I around   day or so . now my question be I m try to book a flight from karachi to toronto and I ve find an amazing oppertunity . the flight that I m interested in be   hour in total travel time but have a   layover stay in abu dhabi and a   hour layover in cairo ! . I feel like this would be a great oppertunity to maybe see the pyramid . its also a very cheap flight . the thing be I m worried that maybe I will be too tired to do such a long flight like this , but my other side be say yolo . what s yall opinion . thank\n",
      "--------------------\n",
      "and I just want to complain about it\n",
      "--------------------\n",
      "hello everyone ! like lot of you , with all this down time I be look to get start on plan some trip for the future ! and since it seem like australia will be allow ( and encouraging ! ) interstate within the next month or so , I be look to plan something ! I live in sydney , and have a car I can use . I 'll appreciate any and all suggestion ! :) anything doable in - day , as well as a week or long , I have a pretty flexible schedule ! any opinion on go north up the coast or go south down the coast ? I 've be do some research on my own , but love ask for suggestion in this group as well :) sorry this be so scatterbrained but would love any insight !\n",
      "--------------------\n",
      "I come across [ this backpack ] ( ) on kickstarter . I be not so much interested in the backpack , but the wardrobe system that come with it . it be a hang and compartmentalize system with strap to cinch it down . would anyone have a lead on something like this ? search I 've do online have only yield pack cube or hang system for luggage with two hook and no strap to cinch thing down . thank .\n",
      "--------------------\n",
      "I be just begin a   year contract in the air force and I 've be think a lot about what I be going to do when it be over , and I 've decide to drive across the country . I wanna buy a subaru outback and a good acoustic guitar and just go , but I have no clue how to begin plan or what I should / shouldn't buy . literally any advice be appreciate .\n",
      "--------------------\n",
      "hey you all , I use this feature for the good food / travel recommendation on my trip ! if ya find it useful , feel free to like / subscribe cuz I ’m only a small youtuber 🥴\n",
      "--------------------\n",
      "what ’ the difference ? and which one be you ?\n",
      "--------------------\n",
      "I have a flight book from dc to angola for this christmas with cabo verde airline . they cancel my connection from sal - angola without even send I an email and now be dodge my call . I feel desperate and powerless . do you have any suggestion ?\n",
      "--------------------\n",
      "  post a very unreasonable resolution from scoot . my southern asian vacation plan be disconnect due to my original departure location be from shanghai . I could not use the two booking ( taipei - singapore singapore - bangkok ) reserve with be currently full / partial lock down right now . air china cancel all the flight from shanghai to neighbor county , even then , travel right now be not responsible because of the potential of spread virus . and there be   confirm case as well in bangkok , taipei , and singapore . scoot as an airline company be neither flexible and have no empathy to its customer in this circumstance , nor be considerate of the virus spread threat . you all other reservation with hong kong airline and air canada be all consider flexible cancelation policy . it be a very disappointing experience with scoot .\n",
      "--------------------\n",
      "I live in the northeast and the covid restriction combine with winter have I feel like I be rot away in my apartment . I be scared to do this for the next   month . any idea , if at all , about where I can potentially escape just to be able to get outside in warmth ? I be sort of scared of place like florida with their pervasive covid denying .\n",
      "--------------------\n",
      "travel from toronto to uk . I have always want to go and right now I be single , not a lot of commitment so seem like a good time . I would only be able to go for   day . friday to sunday . any tip on be as efficient as I can with my time , while also be cost effective ? also typically when be the good time to travel to the uk ? be there generally a cheap time to go there ( flight , tourism , accommodation etc ) sorry for so many question . I be typically a homebody but I just want to do something fun I can look back at when I be old .\n",
      "--------------------\n",
      "I be need a new everyday and travel back pack . what do you all recommend ?\n",
      "--------------------\n",
      "I would like suggestion on brand and style of carryon and - good sized check bag that will not flag tsa when I travel with they . it seem with my current gear they always check my bag , break my lock and toss everything around . I would like to avoid that especially for international travel . brand advice be welcome because I want something durable and can withstand some impact without be overly bulky . be it cheap to buy set or individual piece ? I be also consider costco as well .\n",
      "--------------------\n",
      "anyone happen to be in marseille , france , right now and for nye ? just get here and this place feel ... strange :)\n",
      "--------------------\n",
      "where do you move to ? how do you find work ? be it easy to find work ? what be the avg pay rate for a cook where you be ? what be you pay in rent or what percentage of your earning go to rent ? more importantly ; how be life ?\n",
      "--------------------\n",
      "I be currently in transit to auckland from the us . I be about to have an almost   hr flight to la then a   hour layover before fly to sydney . in sydney I be change airline and need to recheck my bag with qanta . my understanding now be that I need a transit visa to be in sydneys airport for   hour and recheck my bag . be that true ? do I have to go through custom and security again for my bag to get on the plane ? be I fuck ?\n",
      "--------------------\n",
      "why do you travel solo ?\n",
      "--------------------\n",
      "service overview elightcab provide quality self drive [ car rental service ] ( ) for over   year in trivandrum . in order to fulfill the travel requirement of tourist and family . we will arrange a variety of self drive car to make your trip convenient , perfect and enjoyable . our [ car rental service ] ( ) be available mainly in trivandrum . other destination be also available upon request . why choose we ? since- , elightcab provide quality self drive car rental service in trivandrum , kerala . * wide range of car cab \n",
      " * highly professional service \n",
      " *   x   customer care \n",
      " * on time and on budget \n",
      " * real focus on customer satisfaction\n",
      "--------------------\n",
      "with all the money save from stay put , I be think of update my travel gear , what be be your good travel accesorry / tool ? mine be pack cube , they 've be great for organise my clothe in my camping bag , and very handy in hostel .\n",
      "--------------------\n",
      "I get a lot of different answer when I ask people this question . I would appreiate your answer\n",
      "--------------------\n",
      "[ ] ( )\n",
      "--------------------\n",
      "[ ] ( )\n",
      "--------------------\n",
      "do anyone here have use tap air portugal ? I find a good deal for a couple of flight to and in europe ( jfk - cdg - lhr - mad - jfk ) for around   usd . I do a little bit of research and a lot of people talk trash for that airline . also , what be the good option to save some money down there ? I be think in take train within europe instead of fly\n",
      "--------------------\n",
      "as I have spend the last month at home daydream about all the place and city I want to visit , I also start to consider the tourist trap I want to avoid . so what be the place in your city that be waste of time ? in los angeles , avoid the hollywood walk of fame at all cost . not only be parking in the area scarce and expensive but it be also a disgustingly dirty area . the only thing you can actually do after you avoid several urine stain star and china make souvenir shop be to take photo with the fake elmo and darth vader who will demand you give they money . do not recommend .\n",
      "--------------------\n",
      "first time solo female in a x to iceland . I plan to do the ring road anti - clockwise . go in a week . will be go to the \" must see \" site like volcano and waterfall and blue lagoon . landmannalaugar and I ’d love to go up to hornstrandir but not sure what condition be . do not wanna spend much on food . budget , probably k ( but already spend about half for rental car ) . any tip for I ?\n",
      "--------------------\n",
      "hi , I be plan a solo trip to ireland once all this nonsense be over . what I need to know be the cheap way to cross the atlantic ocean , even if it end up be far from ireland . I be down for an adventure to reach my destination . ( no city in particular , maybe dublin ? ) if anyone have insight on travel to ireland and/or use the eu 's train system to offer , that would be greatly appreciate . p.s . I be in detroit if that make any difference\n",
      "--------------------\n",
      "yeah I know it be cold , but that be what make it more fun imo . I be on furlough from my job until april and it be almost impossible for I to get off during the summer . I be of part norwegian ancestry through my biological father , so I want to check norway out . combine that with super cheap fare to oslo from ny on norwegian air ( \\~$ ) and I be sell . I be plan on   day in oslo and then either take a train to bergen or stockholm . I be lean towards stockholm because it be much cheap ( at least train fare wise ) but I would like to see the fjord as well . any tip on oslo as well ? thank\n",
      "--------------------\n",
      "I 've be organize a solo trip to riviera maya the last couple of week and have hit a roadblock in the form of budget constraint . I have usd   to spend , with   already commit to plane ticket , so really I have   dollar to spend on   net day . my idea be visit as many landmark in riviera maya ( chichen itzá , coba , ek balam , tulum 's ruin , some cenote , sian ka'an ) and as many beach ( punta maroma , paraiso beach , santa fe beach , holbox , isla mujere ' north beach ) as possible . however , I be very concerned about safety and in general I avoid \" social \" place like hostel , so I would like to stay in hotel that offer I some privacy , comfort and safety . I have split my trip like this |place|day|activity| \n",
      " |---|---|---| \n",
      " |cancún||arrival| \n",
      " |playa del carmen ( iberostar quetzal ) |   | arrival / relax playacar beach| \n",
      " |||tour chichen - itza / ek balam| \n",
      " |||tour xel - ha| \n",
      " |||punta maroma / relax| \n",
      " |tulum ( azura hotel)||arrival| \n",
      " |||tulum ruin / playa paraiso| \n",
      " |||coba / playa santa fe| \n",
      " |isla mujere ( izla hotel)||arrival| \n",
      " |||north beach / south beach / tour island| \n",
      " |cancun||depart| however , due to my budget , I be consider cut a day from the all - inclusive in playa del carman and spend a day in holbox the day I arrive . there be not much to do there other than stay in the beach , so I do not think I should spend more than a day there ? what do you think ? should I cut some of these activity , too ? should I avoid some of these hotel , stick to beach - side resort if I be too worried about safety ? and will all the travel up and down yucatan take a toll instead of help I relax ? thank\n",
      "--------------------\n",
      "hi , \n",
      " just wonder if anyone be travel / backpack right now ? if so , which country be you in and how be it ?\n",
      "--------------------\n",
      "компания r / solotravel и волчица негреческая греция * соло * \\ * бюджет : \\ * \\ * длина поездки : \\ * \\ * направление ( ы ): \\ * \\*проживание:\\ * \\*мероприятия:\\ * \\ * что пошло правильно : \\ * \\*что пошло не так:\\ * \\ * рекомендации : \\ * \\ * окончательный вердикт : \\ * \\*картинки!:\\ * вы также можете найти этот пост в боковой панели ! полигональная кладка в дельфах , мегалиты в тиринфе и идеально выпиленные блоки в микенах . технологии , о которых греки периода архаики и классики знать не знали . о многих из них не знают и сейчас . каменными и медными орудиями труда сделать такое невозможно . откуда же взялись эти стены , дома и прочие руины ? кто и когда их построил . все города классической греции так или иначе привязаны к морю , к портам . вся экономика полисов была связана с торговлей , а торговля - это море . были свои исключения . например , спарта . но у нее были свои порты на побережье . а вот микены . город в предгорьях , до воды   километров . зачем он здесь . и точнее , когда он был построен . официально xiii - xi вв до н.э . и слои этого периода можно действительно увидеть на городище . это кривой рваный камень , сложенный в толстые стены , среди которые прорублены условные ворота - проходы . а вот под этими « самыми старыми » слоями находятся абсолютно ровные блоки , у которых есть выпилы , сняты фаски и имеются пропилы с идеально ровной поверхностью . причем пропил имеет форму углубления , одна стенка которого абсолютно плоская , а вторая сколота . так пилят камень в наше время при помощи дисковых пил . а в микенах такие блоки лежат в основании пола строений xiii века до нашей эры . то есть микенцы строили свои дома на еще более древних руинах , от которых остались только плиты пола . стены и своды не сохранились , либо были использованы при строительстве в виде битого камня . вывод прост . под более грубым и нетехнологичным слоем мы видим архитектурные предметы более технологичной обработки . разумеется , в официальном описании микен как археологического памятника упоминания об этих блоках и пропилах вы не найдете . но есть и более очевидные вещи , которые не спрячешь ни от кого . это герб со львами над воротами города . вроде бы все просто – символ династии и т.п . но только через центр герба до его середины в продольном плане вновь идет пропил . тут уже без сколов . именно до середины , то есть пилить обычной медной пилой , которая работает по всей дине , было не возможно . такой пропил возможен только при наличии именно дисковой пилы . второй вопрос – зачем вообще понадобилось пилить герб пополам . сравнивая технологию его изготовления и соседние грубые стены , складывается полное ощущение , что его сюда принесли или из другого места , или , скорее всего , нашли на уже имевшихся здесь руинах , и встроили в новый город в xiii веке до н.э . в пользу последней версии говорят массивные прямоугольные блоки , из которых сложены сами ворота и прилегающие стены . они сильно контрастируют с другими постройками , да и с самой крепостной стеной . здесь технология кладки из многотонных квадров была , а рядом не было ? или ворота сложили из валявшихся в округе обломков предыдущего города ? на такую мысль наталкивают гробницы микенского типа . правда , к ним приписывают два разнородных по структуре типа памятников . это купольные склепы высотой до   метров в округе микен . они выложены в линейно идеальной структуре , перекрытия выполнены из блоков весом более   тонн . а есть многочисленная группа склепов подобной формы , но сложенная криво , из рваного камня , из которого построена большая часть стен микен . не говорит ли это о подобии , но не равенстве ? что кто - то , то есть микенцы времен агамемнона , нашли остатки былой культуры , от которой мало что сохранилось в самом городе , но подземные склепы были не повреждены . они вторично использовали обломки для строительства нового города в xiii веке . а в могилы положили своих царей , считая эти места святыми . не так ли поступили советские вожди с кремлевской стеной , возведенной за   лет до них ? и не так ли делали фараоны iii - iv династий с великими пирамидами ? кстати , дромос , то есть вход - коридор в курган агамемнона вроде сложен подобно основой кладке . но ряды в нем кривые . то есть построен он был не создателями гробницы , а теми , кто пытался , но не умел следовать предложенной технологии . к размышлению . лабиринт круглой формы с впускными гробницами в нижней части микен . аналога ему в греции я не видел , но встречал подобное на мальте . подобная структура там относится на   тысяч лет назад . она также сложена из грубого камня , но имеет совершенно чуждую для всех остальных построек в округе форму . и построена она была также позже разрушения зданий из блоков с пропилами . не менее интересен соседний тиринф . в его центральной и самой высокой части , под грудой мелкого « самого древнего » камня в изобилии представлены блоки с пропилами . причем пропилы имеют длину в несколько метров , оконтуривая прежнюю площадь разрушенного помещения . уже поверх этих квадров выстроена огромная толстенная стена . причем выстроена она методом простого навала грубых камней , без всякой рядности . в ней имеются проходы - ворота с перекрытием в виде ступенчатого свода . то есть строители этих стен не могли перекрыть портал крупным блоком . они не знали , как поднимать тяжелые камни . но при этом в полу города уложены камни со следами совершенно иной технологичной обработки . кто основал микены и тиринф ? как были обработаны камни , из которых построены эти города ? для этого нужно копать глубже , разбирать грубые поделки xiii века до н.э . добираться до основания скалы . но на это современная наука пойти не может . ведь в первую очередь любой археологический объект – это зрелище . не важно , что на % - это реконструкция второй половины xx века . но она имеет « фасад » , она совпадает с официальной теорией . чтобы на нее посмотреть , сюда едут сотни тысяч туристов , которые смотрят , но не видят , не думают . но самое интересное наследие догреческой греции – это дельфы . храм аполлона , легенда о пупе земли , камне , брошенном зевсом с небес . посмотри на камни глазами скептика . уберем реконструированные колонны – главный задник для всех фотографий , и посмотрим на основание . а в основании настоящая полигональная кладка . блоки не идут в ряд . они сложены , словно кривой тетрис . при этом грани настолько идеально прилегают друг к другу , что лезвие не везде можно просунуть . подумайте , как можно вырезать камень в скале с кривыми гранями так , чтобы он идеально совпал с - блоками , лежащими вокруг него ? без компьютера , на глаз . никак ! любой архитектор и дизайнер скажет , что камни резали по трафарету на единой поверхности , а потом воссоздавали на новом месте . аналогичную полигональную платформу я видел в перу и в иране в персеполе . причем старая ограда дельф , в которой уже были прорублены проходы в античное время , к которой пристроен верхний стадион , также имеет подобную кладку . ни один гид , ни один путеводитель о ней не упоминает . храм аполлона стоит на этой платформе , его основание выложены из подобных блоков . и во всех легендах говориться , что это место уже было святым в архаический период истории греции , в нем жил сам аполлон . а большинство стен и храмов – это уже позднее напластование . кстати , внизу , в старом храме афины , в строении , относимом к до - архаическому периоду также встречается полигональная кладка . наличие факта мы удостоверили . понимаем , что греки построить это не могли . потому что , если могли , то и дальше строили так же по всей греции . зачем ? это идеальная кладка в сейсмоопасных регионах . в ней нет ни вертикальных , ни горизонтальных слое . по сути , это монолит из мозаики . он не рушится при толчках . все блоки находятся словно в замке . нет оси разрушения . если бы это строили греки , то весь полуостров был бы застроен только такими домами , которым не страшна сила вулканов и земли . но нет , такого больше нет нигде . кто же это построил ? греки сами отвечают на этот вопрос . их боги , которые и жили в таких строениях . и под ними они понимали не творца , а более сильных , живущих дольше , но все же людей . святость появилась тогда , когда ушло понимание и знание . осталась вера и непонимание . ведь для полинезийцев в тихом океане белые солдаты тоже были богами , они молились им . по - настоящему . ведь те могли летать на стальных птицах . я долго искал подобную кладку в храме аполлона в бассах . ничего . предыдущее строение было полностью снесено и на его место выстроен абсолютно новый храм . хотя по древности и святости место не уступает дельфам . продолжаем искать . египет , иран , ливан , израиль , палестина , перу , боливия – в этих странах можно убедиться , что технологии айфона окажутся допотопными по сравнению с наследием цивилизации ( ий ) , присутствовавшей на нашей планете около   тысяч лет назад . дмитрий алешкин\n",
      "--------------------\n",
      "I be kind of stuck in sonoma county for the foreseeable future because of covid and I be crave some adventure ! willing to travel as far south as santa cruz / bishop and as far north as oregon for the right place . especially look for thing in the north bay area . I want your favorite camping spot , hike , swimming hole , hot spring ! off the beat path prefer :)\n",
      "--------------------\n",
      "  \\#shimla # tour # package accommadation \\#sightseee breakfast and dinner \\#cab \\#travel # tourism # vacation # tourpackage # shimla # himachal # india kufri thetraveloholic\n",
      "--------------------\n",
      "with covid , I ’m stuck in the us . but , I feel like I should explore my own country a little .. be there any less touristy , mountainous place that you guy have experience and love ?\n",
      "--------------------\n",
      "there be place I wanna go , but I have no one to go with . be there site and good service that you pay and they take care of the plane ticket , hotel , tour guide , group thing you can do , and of course return flight ? please link they if you use they and tell I if you like their service . thank .\n",
      "--------------------\n",
      "I know , a weekend be not enough , but it be what I 'll have as a stopover on the way to norway . I can return another time for a long trip . but , for one weekend , what be must do ' ?\n",
      "--------------------\n",
      "I have a lot of time off at the beginning of december . costa rica be an easy/ inexpensive flight .   have be a rough year and I have not exactly treat my body with the good care . so I be look for some kind of wellness retreat in costa rica . I have do ton of research online and the option I be find be more surf / yoga retreat . I be look for body , mind and spirit rejuvenation . clean , healthy eating , exercise , massage and maybe even some one on one therapy . I know place like this exist in india and other place far away from the state but I do not want to deal with + hour of fly each way for just a few week . # xb ; budget would ideally be around $ , for + day not include airfare .\n",
      "--------------------\n",
      "have anyone go recently ? do you have to provide extra documentation ? how be it overall ? cheer\n",
      "--------------------\n",
      "hey guy ! I be head up to backpack northern europe soon , particularly in norway to see lofoten and the northern light , and I be hope for any advice anyone might have to give I ! I be fly into copenhagen on the th of oct , spend a few night there , then onto stockholm for   night . from there , I be go to go to oslo , stavanger , bergen where I be think of hire a car to road trip up the atlantic road through alesund to trondheim , then fly to tromso where I might hire another car so I can see lofoten . after then , I have no solid plan yet , other than fly back to australia from copenhagen on the th of december . I 've be save up for a while so I have a healthy budget for this , but if anyone have any idea for excellent hike , thing to see and do , or good place to stay in norway , I would love to hear they ! thank guy !\n",
      "--------------------\n",
      "* post again as the last post be remove * hey guy , hope you be well ! not sure if its okay to share here , but it might be pretty interesting for you guys- I track down all of my expense from the start of the big trip in the end of   on a daily basis , collect all the datum in an excel sheet . to be precicse ( as the german I be ) , I be on the road with actual active travel day for , year and * * my total cost sum up to . , € during   day with an average per day cost of , € . * * I update this datum with some extra trip during my last job and after the round the world trip , that s why the infographic show datum till   but most of it come from the - period . * processing img ophfharlui ... * the cheap country be myanmar with .€ average spend on food and the most expensive be canada with .€. I use the same kind of eat behavior in all country , so its a nice metric to compare the country too . no restaurant usually , lot of fast food and self cooking , base on availabilty and location . have you be travel full time as well and what be your daily average to compare ? I think I be on the low end due to the extensive use of couchsurfing , camping and hitchhiking , keep the general spend very low . look forward to hear story from other fellow full time travler :) # xb ; cheer , chris\n",
      "--------------------\n",
      "I ’m f and be plan a trip currently and whilst I ’m away am plan on visit egypt , lebanon , bahrain , iran , tajikistan , kazakhstan , kyrgyzstan and uzbekistan . I ’m just in the planning stage at the moment and be work out logistic . I ’d appreciate any advice or information at all . thank so much ☺ ️.\n",
      "--------------------\n",
      "take ryanair to fly to madrid over the weekend . have no wifi on the train to the airport , be think \" oh I 'll check in once I get to the free airport wifi \" nope . the hr window have close , have to check - in in person . € down the drain , more expensive than the cost of the actual flight :(\n",
      "--------------------\n",
      "hi everyone ! I ’m a college student in the usa look to travel somewhere for around   day or so in the beginning of october , but I have no idea where to go . I ’ve never do a full trip by myself before but I ’ve be save up and hope to see somewhere . I ’ve be to boston , virginia and nyc a ton ( but that ’ about it ) within the us and internationally I ’ve be to a few northern european country . my budget ( airfare , lodging , food ) be probably max $ and I would like to be somewhere with a good and somewhat reliable public transit network .\n",
      "--------------------\n",
      "hello , I ’m look to travel for a few day come from boston . I ’ve be to all three state before , but never solo . I know all be great for nature and the like . but I would also like to stay within a city where I can walk around town , get some good food , shop , and go to bar and such . I know a lot of town in these state that would be unrealistic without drive a good amount I figure portland and burlington be option and would like to know if anyone ’s be to either of those solo and what your experience be . and if there ’ any other place you ’d recommend for a mid s guy .\n",
      "--------------------\n",
      "I fly to cabo next week and intend to spend - week in baja california sur , possibly travel all the way up to tijuana . I be on a shoestring budget and do not drive but would love to explore the peninsular - in particular see the grey whale , stay in the desert , snorkel with sea lion , visit lesser know beach . be there any cafe etc . in cabo san lucas or san josé del cabo with noticeboard for people look for a travel partner or passenger ? or a hostel where those with car tend to stay ? or any website , app or facebook group you would recommend ? how realistic be hitch ? I know there be a paucity of hostel outside of the main town , but camping seem quite possible ? what be you experience ? be mardi gra carnival in la paz worth stay for ? # xb ; thank !\n",
      "--------------------\n",
      "try to prepare for an upcoming roadtrip with my daughter , age   and , from southeatern michigan to winston - salem , north carolina . visit my dad , aka papa . he expect we to leave our house and arrive at his house on the same day - about   hour worth of driving , bathroom break , fill up on gas , and stop for snack . ugh . my daughter and I do this road trip last year and it be incredibly long and drain . it be not enjoyable and I want it to be a well experience this time around . I need some advice and suggestion . what would you do to make it fun for your kid and for yourself ? thought about stop half way through the road trip and stay at a hotel ? even though dad would be pretty annoyed and possibly piss off if we stop at a hotel for rr , I do not care . any thought ? suggestion ? criticism ? thank in advance . 🙏\n",
      "--------------------\n",
      "I be plan on go to alabama this weekend from houston . with hurricane laura battering louisiana , I be worried that I will not be traversal - able . plug in the route on google map do not show any closed road ( outside of a small section that be close for other reason ) but I want to see if anyone have any tip to check drive condition to ensure that the trip be possible .\n",
      "--------------------\n",
      "I want to spend about - month riding throughout europe . I plan on visit every country , some for   day , some for up to a - day depend on where the chip fall . I will be stay in hostel or airbnbs throughout the trip , so I have that budget out . I plan on buy a bike in portugal and go north , clockwise throughout all of europe and then back to portugal where I will sell my bike before take off on the airplane back home . can any local here help I out with some tip ? my main question be : . do I need a specific driver license to ride throughout all of these country , do certain license permit I from enter some country . what would be the easy one to get ? \n",
      " . would I have to pay for parking fee for motorcycle ? if so , what country in particular ? \n",
      " . be there fee I need to pay when cross border ? \n",
      " . misc . question but be there any gym chain that be prevalent throughout all of europe , would save lot of money . for example   hour fitness be in just about every major city in the usa . thank !\n",
      "--------------------\n",
      "I be go to be abroad for   day and go to mc and medellin . I 've hear you could spend a week in both city , but I be try to figure out which city should get more day or if I should split they even   and . thank in advance !\n",
      "--------------------\n",
      "hi everyone , I be plan to take a trip to geneva from paris in december but I do not know how long to stay to maximize my money ( I be realize it be a really expensive city ) . the cheap place I find for my date be € /night . here be what I be think : wednesday night to friday morning ( or friday night , but the train ticket would be € more ) or thursday morning / early afternoon to friday night they sound like similar amount of time but I do not know if it would be too rush to get there thursday and leave friday , mean I would not have a full day in geneva without travel . what be your thought ? thank ! !\n",
      "--------------------\n",
      "hi guy , just look for recommendation I have some free domestic flight from alaska air to book next week and I m plan to take they summer   I be from the uk , look to take an a - b road trip where I would use my free flight to return to point a for my return to the uk please could you recommend a   week road trip location ? I love see yosemite , the coast , and small town bar on a recent road trip between san francisco- la- las vegas . I be really interested in visit yellowstone or similar . my budget would be around -k usd cheer !\n",
      "--------------------\n",
      "also give experience would be nice as well ! \n",
      " thank you ! [ view poll ] ( )\n",
      "--------------------\n",
      "hey solotravel , I have   day in mexico start on april . my only flight book so far be to guadalajara and leave from cancun . I be willing to book additional flight within mexico , and I be also able to rent a car . I do not need to stay in guadalajara . the story of why my flight be book to there and away from cancun be a long one . some place that interest I be mexico city , oaxaca , and the yucatán region . just look for advice on how to allocate my time for the good experience . which place be can not miss with the availability of additional flight and car rental . thank for any help or idea .\n",
      "--------------------\n",
      "anyone travel to dubai january - february th ? graduate and buy my ticket since in the summer .\n",
      "--------------------\n",
      "so I have not really travel in my life , but look to do so in the near future . just look for the cheap way of travel and any suggestion people give I will be greatly appreciate ! thank :) ( also I ’m go to be save money to travel , so I expect it to be a lil pricey atleast )\n",
      "--------------------\n",
      "do everyone have to use the kiosk 's include the pilot ?\n",
      "--------------------\n",
      "I ’ve be lurk this sub for the past few week and tomorrow be the day I ’ll be leave nevada to utah , stop by snow canyon , zion , bryce and arch national park . then I ’ll be drive out to aspen , colorado the following day . a bit scared but excited ! just want to say thank you all for the great advice ! definitely look forward to this trip ! :)\n",
      "--------------------\n",
      "anybody at winter wonderland in hyde park wanna take a beer ?\n",
      "--------------------\n",
      "I be go to london soon and try to travel around europe . how be get around for you ?\n",
      "--------------------\n",
      "hi you all , I ’m a student who ’s plan to go hike in yosemite ( northern california ) soon . luckily , I find this deuter act trail   bag that my parent never use . anyway , I be fly on basic economy at united and realise that the requirement be that my item be able to fit under the seat . wonder if anyone else be able to fit it under the seat or would I have to check this bag in ?\n",
      "--------------------\n",
      "I be a year old female , and I ’m interested in take a trip this winter . my brother live in la and I have a friend in portland so I ’m in the process of research train ticket . I be wonder if anyone have do this and what their experience be . I ’ve never really travel on my own before what I want to challenge myself . you get on and off the train at different destination during your trip and visit or be you only allow to use your ticket once ? what be the pro and con ? do you think it be worth it ?\n",
      "--------------------\n",
      "I ’m lose my mind be cramp and close up in my apartment and desperately need a change of scenery . I would love to go outside the country but I know there be just a boat load of restriction everywhere right now so I ’m look for idea of place or inspiration to go in the us . length of trip would be a long ( - day ) weekend to squeeze in between class . any recommendation would be so greatly appreciate ! !\n",
      "--------------------\n",
      "I be think of live in puerto escondido for the month of november . my lease in nyc end on nov st and it would be cheap to fly to and live in mexico than live in nyc . I do see how travel abroad be irresponsible at the moment but I feel like it would be okay if I get test the day before I depart . so should I do it . I would like to here people 's thought .\n",
      "--------------------\n",
      "hi all , have try scowere the web but really can not find an answer for this one - I be look to travel from london to cancún , our direct flight be cancel and now some of the good option go through we airport . # xb ; with the restriction on enter the we right now , do that also apply to be at an airport for a connect flight , or will I still be permit ? # xb ; all the good\n",
      "--------------------\n",
      "hi , I will be land in monte video , uruguay on oct th and need to make it to ushuaia by november th . could you recommend some place I should visit ? I ’ll have   week total I ’ve put together this itinerary of place I should see from my research : start monte video to buenos aire \n",
      " to bariloche to puerto madryn to fitzroy \n",
      " to rio gallego \n",
      " to ushuaia\n",
      "--------------------\n",
      "my question for all you fine folk be , have you ever travel somewhere that have an amazing kitchen to cook in ? I love cook ( even do it for a living ) , but most of the place I 've travel to have have terribly maintain kitchen / cooking space . have you ever stay somewhere that have an amazing kitchen / setup ?\n",
      "--------------------\n",
      "public transportation in egypt seem to be quite complicated . I have read that certain train ( or compartment ) be accessible only for egyptian national and that as a foreigner , you have to book a more expensive luxury compartment ( for example for go from cairo to luxor ) . the same for ferry . I look into the one from hurghada to sharm , and the price be way more expensive for tourist . be there any way to avoid these restriction and get normal train ( and maybe ferry ) ticket in egypt ? be just buy the ticket once you be already on the train a viable option ? I wan to see the following place : - cairo \n",
      " - luxor \n",
      " - aswan \n",
      " - dahab \n",
      " - mt . sinai \n",
      " - maybe alexandria - maybe abu simpel I be fly either into hurghada or sharm . if it be the latter , I guess it would be a good idea to start my trip in dahab and spend one or two week there . but actually , I want to save dahab for last , because otherwise I fear I might get \" stick \" there and spend my whole month there lol . so my question be this : how can I get from hurghada to cairo the cheap way possible ? I have look into it , but could not find any option . I do not want to take any flight . also , can you recommend any other place worth see in egypt ? I want to avoid resort town like sharm . I be interested in ancient egyptian history , islamic history , lay - back place like dahab ... I be , male , from the eu , I have be to country such as india and pakistan before , so I know my way around tout , pushy vendor , shitty bus etc . thank ! look forward to hear any advice .\n",
      "--------------------\n",
      "want to see if anybody have go on a trip through ef ultimate break and how their experience be ? more specifically the costa rica trip ? I understand it be much more expensive than do something on my own , but it seem that it may be a good step for my first international solo trip . also they be have a black friday sale come up so I ’m wonder how that will affect the price . thank .\n",
      "--------------------\n"
     ]
    }
   ],
   "source": [
    "# for actual = 0 (solotravel) if less than 0, misclassified as shoestring\n",
    "\n",
    "for i in results[(results.actual - results.pred) < 0][\"text\"]:\n",
    "    print(i)\n",
    "    print(\"-\" * 20)"
   ]
  },
  {
   "cell_type": "code",
   "execution_count": 25,
   "id": "1c8723c0",
   "metadata": {
    "ExecuteTime": {
     "end_time": "2022-01-20T01:16:19.776772Z",
     "start_time": "2022-01-20T01:16:19.769726Z"
    }
   },
   "outputs": [
    {
     "name": "stdout",
     "output_type": "stream",
     "text": [
      "I do not know much about europe , but since I and my bestfriend graduate highschool , in , we 've want to visit multiple european country . we 've hear that sleep in hostel , eat street food , cook basic food in communal hostel kitchen , catch train , and ride bus can help lower your expense alot , but be any of that true ? we plan on go to europe in fall of . we want to be able to visit   different country and spend atleast - day in a city in each country . we have no real itinerary or time limit , and be only travel for the natural scenery , architecture , and overall experience ; so what place we visit do not really matter too much to we as it would all be different from what we normally experience in our small hometown . we also plan on rough it out in certain city to stretch our money a bit far ; we do not mind do it because we have to do it before when we stay in new york for two week . our trip be still in the early stage of planning , so any and all advice be welcome and greatly appreciate , and if you have any question feel free to ask away ...\n",
      "--------------------\n",
      "other than through the app , have anyone be able to get a hold of someone at hopper ? I be still wait on a refund from march and get no response on the app . it be my first time book through they , and although they have great deal , I 've have terrible / no customer service .\n",
      "--------------------\n",
      "this post be for those who ’ve be or be local in the city , I plan to take a trip to the serb city , banja luka in bosnia herzegovina , and I ’m wonder if there ’s going to be any hope of english speak worker at restaurant , cafe , bar , etc etc unfortunately I do not speak very good serbian so I ’m out of luck on that front although I do have friend who would help order for I , I just wonder if I ’ll be able to do it myself at all in restaurant or if I ’m out shopping . thank you for any advice or insight in advance ! : )\n",
      "--------------------\n",
      "I make a bunch of different ais , but today I improve my strategy and build ais that have context from your exist conversation and try to communicate conversationally rather than as a question - asnwere type chat . the good news ? I build this particular one on the ricky gervais show feature steve merchant and karl pilkington - all the transcript I could find ;) I build this one to flirt with you regardless of the time of day , or such stress common folk have like headache or be toooo tired ... I build this one to reference only ban book by the like of chomsky or dozen of ban book on the occult or current situation .... ( note that the last   be be re - train from act as question - answer bot to be more conversational bot that have context from the last message as we speak :) be about   more hour before they be live - worthy .... ) this one simply draw it be wealth of knowledge from a subsection of reddit post , and be probably the most likely to beat the ture test of all of they : ignore the ad , or enjoy they if you want - ps what be you do on the internet still view ad ? get a browser that protect you and your privacy , and have a build - in adblocker ! : note that I be pende some android app with a full , more in - depth experience :) + -\n",
      "--------------------\n",
      "hello all ! osprey be my brand of choice when it come to travel backpack . I 've have the farpoint   for   year and use it everyday since I 've be nomadic for   year . although we can not travel now , it could be smart to invest in a travel backpack consider some osprey bag be % off . ( one of the main reason I love osprey be because of the lifetime guarantee ) I write a buying guide for the well wheel travel backpack . you can look at the post for full detail and the pro and con of each bag . the osprey bags mention be on sale , currently . do anyone here use a wheeled backpack ? it be really nice to have the option to roll a bag or wear it as a backpack . buying guide : [ good travel backpack with wheel ] ( )\n",
      "--------------------\n",
      "g'day guy I be australian and I be solo travel for the first time around europe in august ! below be my current city / country itinerary and the current mode of transportation between each that I have find . my question be whether I have choose the good method of transportation between each city ? I have no idea what the local transportation be like and would greatly appreciate any hack or advice on transportation ! I plan on stay at least   night in each city . p.s . if you have any other general advice or recommendation for these city and the area surround each , please let I know ! # xb ; . sydney , australia * * fly * * \n",
      " . moscow , russia * * train ( high speed ) * * \n",
      " . st petersburg , russia * * train * * \n",
      " . helsinki , finland * * ferry * * \n",
      " . tallinn , estonia * * bus * * \n",
      " . riga , latvia * * bus * * \n",
      " . vilnius , lithuania * * train * * \n",
      " . kaunas , lithuania * * bus * * \n",
      " . warsaw , poland * * train * * \n",
      " . krakow , poland * * train * * \n",
      " . wroclaw , poland * * bus * * \n",
      " . prague , czechia * * train * * \n",
      " . brno , czechia * * train * * \n",
      " . vienna , austria * * train * * \n",
      " . bratislava , slovakia * * train * * \n",
      " . budapest , hungary\n",
      "--------------------\n",
      "hey everyone , canadian here . I 've be plan a road trip around the usa for a few year now , I be refine the route I want to take , and gather item and equipment , so here be my question will $ cad ( appx $ usd ) be enough to last I   day max in the usa ? this will be a blend of grocery , restaurant , and fast food . right now I eat about twice per day and snack here and there , and understand we food portion be large . let I know your thought it will only be I on this trip .\n",
      "--------------------\n",
      "I ’m plan on bike packing around the world , and I do mean the entire world . I ’ve research practically every person ever to do anything like this for year now . read all the book , watch all the youtube video , I even have talk to \" the lose cyclist \" and a few other \" famous \" traveler on instagram a number of time . but in all my research I ’ve hear that the low amount of money anyone who do this use be $ usd a year .. this be a pretty common number among many people who do this type of travel long term ( - year ) . my question be , have anyone do something like this and manage to just live off the land ? I be interested in foraging and such , and I feel like forage along the journey would help lower that cost at least partially . but consider I ’ve never hear anyone do this before it may not be possible . however I ’m think it ’ just a very niche thing that I have not hear of yet . I mean how many people bike around the world and or forage , not a lot , so combine there must not be many . anyone with any idea or knowledge leave a comment please , I would love to hear what you think . thank .\n",
      "--------------------\n",
      "drive from south eastern ct to mid east wisconsin with two friend , ill have a seat or two open in my car if anyone need a ride along the way , I ’ll be leave ct towards the evening of the st , I will not be go towards nyc rather I m swinge up towards albany and make my way to wi from there , so mostly drive along the northern border . I and my two friend enjoy chat and we warn you that smoking be a thing in my car , so if you dislike cigeratte smoke , might not be a great combo . occasionally passenger may smoke weed as well when pass through legal state , do not engage if you ’re not comfortable with that . gas be always appreciate but never require . please keep in mind that I do not tolerate bigotry of any mind . my car be a safe place if you need it , people come and go and it ’ basic requirement to be respectful of they and their belonging . if you need to rest your eye before a stop , you can do so without worry , just give a head up on where you need to be beforehand . if you ’ve be on the road a while and be hungry , just mention it in the passing and I ’m more than happy to grab you something somewhere .\n",
      "--------------------\n",
      "my friend recently get a job interview in chicago and ask if I ’d like to come along with she for the   day she ’d be there . it ’ my first time and she have not be in year , and we have a week or   before we leave . any fun recommendation ? feel free to just leave anything and I can weed through to find what ’s covid - permit . thank ! !\n",
      "--------------------\n",
      "so ! I ’m plan a trip for next year and I need some advice . as of right now I ’m think about start the trip in belize to scuba dive . then from there go down to colombia , peru , and argentina . I need some advice on place to visit there or stay ? or if you ’d recommend a different or another country to add on ? also if this be a   week trip , how much usd do you recommend save up ?\n",
      "--------------------\n",
      "ok , now honestly , do I really need a sleep bag liner ? we be travel for a year and can afford nice hostel . I get one already and it be about \" x”x \" when in a bag and a little heavy . I be not a clean freak and I just can not see use it often for the extra space and weight . ( travel japan , se asia , middle east ) . opinion want .\n",
      "--------------------\n",
      "I ’m go to chicago for a girl trip mid - may for four day once the second vaccine dose kick in . the airbnb be in bridgeport and I be look at the map today to see how close / far everything be . I feel completely overwhelmed by the different track ( line ? ) , I ’ve never live in a place that have train as a mode of transportation . any recommendation for place to visit and how to get there on a train or other inexpensive mean ? your help would be greatly appreciate ! I ’d definitely like to visit millennium and lincoln park and the art institute . I ’d love your input on the good local place to eat , I ’m not interested in the bar scene . thank !\n",
      "--------------------\n",
      "I be about to book flight on the air europa website for january and they be ask for ' first name ' ' first family name ' and ' second family name ' in different format . obviously I know first name of course but what be the other two ? as it have to match my passport when check in and I do not want to make a mistake . thank !\n",
      "--------------------\n",
      "solo traveler ( m ) - need a break from the city . I be look for idea on where to travel for the first   week of august . I be originally look to go abroad , but it seem like there be still restriction in place for travel from we in a lot of country . do not know what that will look like in august . open to domestic or international travel . preferably by air , as I do not really have access to a car for a road trip . let I know if anyone have suggestion . thank . \\- if you do not have any actual suggestion then do not respond . I be covid negative . this be the only time I 'll have to travel until next january , so yes I will take this opportunity to travel .\n",
      "--------------------\n",
      "hello lovely people ! I be hope to take a week long trip sometime next year and be look for recommendation . this will be the first of many worldly trip . I 'll * most likely * be travel alone , and will have a budget of $ - ( though less be well ) . I be not picky at all about where I go or when , though I do love coffee shop and lot of nature ! I be also not picky about accommodation , as long as it would be safe for a solo female traveler . thank in advance .\n",
      "--------------------\n",
      "hi all , wife , myself , and possibly brother in - law and his gf be look to travel for new year . ( yes , covid , blah blah ) . we be base in the north east and we ’re plan to go to key west for new year ( it ’ our favorite place ) and be now have second thought . what be some underrated place in the us that would be great for nye ? although we love key west , you could suggest a mountain area , big city , do not matter , we ’re open to anything ! thank in advance\n",
      "--------------------\n",
      "wwoof be an organic farming program that match traveler to work in organic farm in exchange for accommodation . I ’ve read a lot of criticism about wwoof say that traveler often work more than the hour advertise in wwoof regulation , and in some case , be not feed very much . furthermore , I ’ve read that there be little way to regular \" good \" and \" bad \" farm because wwoof operate on a double rating basis , such that the farm can also review the traveler and vice versa . this lead to a system wherein people be not very honest about their experience because they fear retaliation from bad rating from the father . I ’m wonder - have anyone in this subreddit participate in wwoof ? how be your experience ?\n",
      "--------------------\n",
      "just to clarify : my flight be not until september , so there ’ still time for thing to pan out , due to these strange time we ’re live in . so let ’s consider this all theoretical ( I ’m more than happy to stay put in the airport if safety measure dictate it to be so ) . I ’m fly from spain , land in singapore around be and fly out to new zealand around pm , leave I with the entire day for a layover . have anyone do a layover in singapore ? what do you guy recommend I do / see / eat / experience ? no limit , open to any suggestion !\n",
      "--------------------\n",
      "I come across some people here in this sub that talk about how much they love the priority pass , how they could relax in lounge and how they have some sort of membership that allow they to upgrade or have access to reduce hotel price , special and tour . honestly when I be at the airport , I go see where my departure gate be , but will have a drink , some food or whatever and end up maybe   min before departure at the gate - normally I would be one of the last people to board and feel I make good use of the waiting time . skip everyone and sit in the plane for an hour long actually do not make sense in my mind . why would you want to sit even long than necessary in that plane ? especially when you travel economy anyway ? I also plan my flight so either my stop - over time be minimal or I plan a day - pass and have some local food . as I 'll have accomodation , I can freshen up and sleep properly . I do not really see the advantage to wait in a lounge , other than it might be more private or some gimmick you do not need . depend on the lounge I know there be a buffet and free drink . look on how much lounge access cost , it do not seem a great value . regard upgrade I sometimes ask the staff after departure and might just be upgrade for a few dollar or even for free . I look up the hotel that offer reduced price and honestly , they be not that great , even for the reduce price . maybe my way of travel or my personality simply do not \" need \" all that but maybe I be miss something here . like , let us say you pay   bug a year but will have all you can eat and drink buffet + plus a private and relaxed atmosphere . ( just an example ) who have experience with those membership , the lounge access and/or priority pass ?\n",
      "--------------------\n",
      "plan on go to paris december - , would appreciate any tip , where to stay , what to do , what to eat . also , do you recommend go to monaco or somewhere in the south of france by train for   night ?   m , probably solo , but a friend might tag along .\n",
      "--------------------\n",
      "I have spend the last   month get my online english teaching job off the ground and I be start to feel comfortable enough to be more mobile with it . I need to go live somewhere cheap where I can save money on the necessity of life , like food and utility . I need to pay down some credit card debt . place I be personally interested in , in no order : mexico , southeast asia , india , latin / south america , eastern europe . my ideal criterion would be : reliable internet , beach ( learn to surf , scuba / snorkelling ) , hike / camping opportunity , abundant wildlife , low cost of live ( healthy food prefer ) . cheap to rent / buy motorcycle . somewhat safe for dental tourism . I do have a couple of place in canada I can stay at basically free , but food be generally expensive . it would be nice to ride my motorcycle to the destination , but I be open to rent / buying once there . I can reliably get cheap airfare to mexico , but would be rely on scott 's cheap flight for anywhere else . I do not want to overload myself , so as much as I would love to visit some crazy place , I want a gentle transition into nomad life . so place with less of a language / cultural barrier would be prefer ( I speak / read low level french , and very little spanish . ) if you be I , where would you go ?\n",
      "--------------------\n",
      "hi all , opinion / advice / recommendation / general thought on the following would be great thank work in retail sale , my income have be very unpredictable over the course of covid and be , I really feel I should be save money for house deposit etc . however , I usually travel about / time per year ( big trip and a couple of european trip ) , so be trap at home have be a killer and now the end be in site I be look for the next step . I and my gf be look at destination and realistically feel it come to two thought , either stay close to home because of the uncertainty or fuck it and travel to bali . I personally love asia - having visit japan , south korea and china but I 've never be to s.e.a . my gf have never be to asia but be look for a place we can relax and explore on the odd day to see some beautiful scenery and site . sorry if I 've waffle but now to the main point . when compare europe and bali , it seem to come out at very similar cost ( give or take £ /£ ) for a week in europe or two week in bali . bali accommodation be just so cheap , I be look at place £ -£ a night for a private villa and pool , it be madness . I be wonder , be it too good to be true , be these airbnbs trustworth , be there a lot of cost which would be involve once there than I be miss ? ik when I read other thread there be recommendation of load of place to go . honestly I be not super bother about see everything , just look nice a nice atmosphere with a few place to explore but mainly sit back and relax . to I , book bali in the current climate seem risky , but when it be cost the similar money to go to portugal , why would not we ? uk base . any advice on bali / europe in general . just want a great trip with out spend the world . thank in advance . edit : sorry , completely forget to mention , plan the trip later september / october\n",
      "--------------------\n",
      "if you ’ve see the movie , the way , you know it ’ about the km pilgrimage call el camino de santiago in northern spain . if you ’ve not see it , it ’ worth watch . in light of the coronavirus , I ’m wonder if there be a similar walk here in the united states ? the camino start century ago as pilgrim from all over europe would come to the shrine dedicate to st . james at santiago de compostela . I be not look to do a religious pilgrimage , but like the idea of walk from town to town , through countryside , mountain , city if necessary . I will walk . I will carry minimal supply . do anyone have any suggestion ? thank !\n",
      "--------------------\n",
      "I 've want to start at the bottom in patagonia and work my way up to central / north america do work away / woofe for a while now . I be suppose to leave in july last year but obviously the world have other plan ... do anyone live / travel in these country at the moment ? ( literally anywhere in latin america ) what be the state of the virus and restriction where you be ? I figure this be not ever really go to disappear and if I keep on wait for perfect condition , they will never come . on the other hand I do not want to jeopardise the trip because of be hasty . I hope you be all well and safe . thank .\n",
      "--------------------\n",
      "hi ! first time post . I be get ready to travel through tennessee , mississippi , alabama and north carolina this fall . go to visit seven bridge road as I travel from mobile to birmingham , al . I be just wonder what other stop I should make along the way ? or if you have any tip or trick ? my transportation be sort , but I be go to be use motel for over half the trip . thank in advance !\n",
      "--------------------\n",
      "( ) anyone have any suggestion ? hostel or tent be fine ...\n",
      "--------------------\n",
      "stockholm be a crazy expensive place to travel to for us backpacker . here ’ some thing I pick up on to make it a little more affordable . -transport \n",
      " transport be actually not that . expensive compare to everything else , the   main tip I have be get the sl app . where you can get your ticket for   minute . but while you be in the city I would really recommend the scooter place throughout the city especially lime . you can get a day pass for kr ( euro ) which mean you can go anywhere in the center where your heart desire ! it might not be for everyone but especially we young folk will enjoy these fun scooter ride in a city that be completely adapt to this form of transportation . -stay hostel be actually not as expansive as you might think compare to the food and other stuff you will pay for on your trip a hostel night . I get it down to kr per night but here ’ the kicker . there ’ a hostel call stf af chapman . look it up ! it ’ a crazy stay for the money . I pay about kr per night and it really be worth it . you will be sleep in the city center on an old decommission military ship ! just the experience alone be worth the money ! -food \n",
      " food be where stockholm get really scary . if you eat at restaurant expect to pay kr on food every day ! kebab place be cheap(er ) and get a loaf of bread be probably not a bad idea from the coop supermarket . here ’ a dumb tip for food : go to ikea ! ! their kitchen be amazingly price and also a fun experience to visit ikea while in sweden . the old and big one be situate outside stockholm a little to the south and you can go there with a free busride . so technically the cheap way to survive foodwise be take the free   min bus to ikea every day and eat there delicious meatball for about kr ! sweden will never be a cheap place to visit but there be way to make it a little easy on your wallet . take care ! ~me from stockholm 🇸 🇪\n",
      "--------------------\n",
      "hey fellow traveler I and my sister just book a flight from atlanta to rome . we ’re extremely excited as it ’ our first time go to europe . we ’re both   year old . we like food , museum , and party lol . we ’re going to try our good to see a few city in italy . I be wonder what tip , advice , must see / must do thing everyone have . anything and everything be appreciate . tia and happy travel everyone !\n",
      "--------------------\n",
      "hi . I 'll be backpack in europe soon but I be try to decide when to leave . how hard be it to meet friend in hostel in the off season ? I be hope to find some like - minded travel buddy .\n",
      "--------------------\n",
      "my friend and I be reschedule a trip that be originally plan for sept   to sept . we be intend to visit nicé , france and barcelona , spain , and I have a couple of question that I ’m hope can be answer : \n",
      " ) what be some recommend thing to do in these city that be available / likely available ( covid restriction ) to do by the time we visit ? \n",
      " ) we be fine stay in hostel and be curious if there be any recommendation on one that be in central location that anyone have have a pleasant experience at ? thank in advance !\n",
      "--------------------\n",
      "dear r / shoestring a [ post ] ( ) I make a few day ago to r / roadtrip , show I that people travel a lot could make good use of cocoonweaver - voice your self . ! so here we go ! it be something for travel and be on the go ! I be very happy to share cocoonweaver - voice your self . - with you . a concept I discover in a dream a few year back and then spend the well part of   develop . now she be here and offer a simple and unique way to sort voice / text note / collect thing you care about on the go . if you be interested , feel free to visit [ ] ( ) or just search for cocoonweaver on the appstore . note : it be only on io at the moment , but an android version be in the pipeline . you can pop I a mail to [ ] ( ) if you want I to add you to the android contact list . some feature you 'll see in there : \\- you can use a simple voice command to create or add to a cocoon ( category ) and send the note there , transcribe . \\- location ( if you want ) you ( only ) can see where in the world you have your idea . so it have a non google maps- simple map interface where your colourful category appear on location . \\- favourite your cocoon ( category ) and position they on your cocoon homescreen . \\- send yourself custom reminder to ad a journal entry , say what you be grateful for etc , whatever you want it to say . \\- also , it be an app design fro privacy ! the main reason for this we that I believe it would not be useful in the deep sense / purpose to the user if the datum be mine . your thought be yours and I take that very seriously . so , yes ! I be very happy to speak with you , should you have any issue or even idea of how I could improve cocoonweaver ! if you want to support I , please just offer some word as a review on the appstore . this would be a huge help . thank you and I wish you happy weaving ! ! and a lovely sunday !\n",
      "--------------------\n",
      "when all this pandemic stuff blow over I ’d like to spend a week or so in rome . I have a friend there ( who unfortunately be unable to host I as he be share a flat with several man and I ’d be a woman travel alone . ) I ’m look for cheap lodging with proximity to bus line , or at least where I can get to the must - see place without uber break my bank . I do not need five - star accommodation ; I ’ll be happy with a good shower , wifi , and a door that lock 😁 . also recommendation for good cheap place to eat . many thank !\n",
      "--------------------\n",
      "I have always envy those who travel , work , stay in hostel on the whim without planning . the only skill I have be : retail , warehouse , and as of recently scuba diving ( advanced open water ) , and sadly to say , that ’ pretty much it . also , what be really good under table job ( cash job ) that I can do ?\n",
      "--------------------\n",
      "I want to travel to all these different country right and experience local place and all . but I be so bad with food . I have such a hard time try new food and I dislike so many thing that be really big in other country like rice . there ’ a lot of country that rice be in almost every meal so I think you can see the issue . anyone else have this issue and what have you do about it ?\n",
      "--------------------\n",
      "hello all ! I have be excite for the possibility of do the anna purna circuit trek in nepal for quite a while now . I be really excited because I be fascinate by the himalayas and I think central asia be beautiful . also it be a very inexpensive trek ! possibly less expensive than the pct . I come across some information about road construction and grow popularity drastically decrease the quality of the trek . do anyone have other recommendation for similar experience that might be a little more unknown or undeveloped ? it do not necessarily have to be in nepal , but somewhere in the caucasus or himalayas or altai . I wanna see some mountain and some eastern esotericism . thank !\n",
      "--------------------\n",
      "where should I go , and what advice can you all give for a first time solo traveler ? I 'll be take my trip on a monday through wednesday from houston , tx . I really want to see a national park and some beautiful landscape , and of course safety be a must .\n",
      "--------------------\n",
      "my y old son cousin be visit for the summer and I ’d love for they to experience a fun camping trip together while they ’re all still young . I ’d love to take some picturesque hike as well . trip would be last week of july / first few day in august . \n",
      " live in central tx this present some problem as june - september it ’ just too hot to do those sort of thing . we only get the cousin in the summer though and they ’re not get any young so we need to find out a way to make these memory now . \n",
      " the husband be a ff and the way they get day off be kinda complicated so we do not have but   day for the trip include drive time . I ’m think colorado may be our only option but maybe you guy have other idea ? I ’d love some campsite recommendation as well , maybe some that will not already be book up . would like to keep drive to about   hour a day max maybe .\n",
      "--------------------\n",
      "my husband and I be plan a trip to indochina in   for our th anniversary and would love some insight ! we be obviously want to visit vietnam , thailand and cambodia . we plan to only bring our backpack and travel very lightly for two week . what would you recommend ? also , be angor wat worth it ? it fascinate I but I know it can be super crowded and maybe some overkill plus there be many more temple to visit with small crowd . any insight ?\n",
      "--------------------\n",
      "my friend and I will be in manhattan next week for   day , we be into drag show , musical , club , and we be down for museum of course too . from my understanding , broadway be just begin to start back up again , but there be not a lot available . I be wonder , be there any local or frequent traveler here that can suggest some alternative idea ? what be the covid situation like for tourism ? I visit a few of the important landmark   year ago when I visit nyc with my high school choir . statue of liberty , metropolitan art museum , the un , ellen 's stardust diner stand out in my memory . look forward to come back and splurge on a city that just see some devastating weather .\n",
      "--------------------\n",
      "I be interested in plan my first overseas travel , however none of my friend be financially capable of join I at the moment . I feel like this be a once in a lifetime opportunity for I to see a part of the world I might not encounter again for some time . be there any general advice for first - time overseas traveler that you might not see on travel guide ?\n",
      "--------------------\n",
      "hello , all of my class be online for the fall ( sept - dec ) and I ’d like to travel somewhere maybe by myself or with a friend for a month or so to somewhere relatively inexpensive ! will prob need to quarantine for   week so I ’m open to anywhere I can still entertain myself and do my school work . I ’m canadian and I know border be open to part of europe but go around canada could be an option too , cheer !\n",
      "--------------------\n",
      "I 've be travel for a couple year now , on and off since I be , I start hop freight train with my dog cause it be hard to hitch with   giant dog , but now my family 's all worried about I . I come home to live a regular life and try to get another job and a house but my mom say I be obviously unhappy and should keep go . I do not know what kind of advice I want but I would appreciate the input . my dog be happy with a cushion but spazz out when I leave they alone now . I be think about get a van or a bus or something but then I can not ride train .\n",
      "--------------------\n",
      "I be about to head out on a backpack trip to south america and everything be book , but the timing could not be bad as it be hard to tell what the impact of the virus will be . the main thing I be more worried about be go to a non - first - world country where there could be food shortage and more chaos or potentially getting stuck there and not be able to come back to we . what do you guy think -- hunker down till it blow over -- or not phase by it ?\n",
      "--------------------\n",
      "I ’m burn out and just look for an escape from reality for a few month . be consider go somewhere in south america , but I do not know if that d be stupid with corona . I ’m fully vaccinated , have about $ k to my name to live of off ( tho I ’d prefer not spend it all ) , ready to travel instantly , all over the world be possible . what would you recommend , both for experience , cost , and all that ?\n",
      "--------------------\n",
      "so tired of airbnb ’s stupid fee . make it so hard to compare because of the hide fee at the end . what ’ your tip for finding - month stay\n",
      "--------------------\n",
      "due to a decrease in tourism because of the coronavirus , the cambodian government have institute an incentive to get people to visit angkor wat . from february   to june , visitor will receive extra day depend on their ticket purchase as describe below : $ - one day pass be now good for two day \n",
      " $ - three day pass be now good for   day \n",
      " $ - seven day pass be now for ten day as always , one day ticket be valid non - consecutively for ( I think )   day , three day ticket for   day , and   day ticket for   month . I visit angkor wat today and even during peak afternoon and evening hour I be able to get unobstructed view of the temple . there be almost no large tour group and visitor as a whole be at a minimum . if you ’re consider visit , I ’d say this be one of the good time you may ever have to experience this magnificent site without crowd and a heavy tourist presence .\n",
      "--------------------\n",
      "hey everyone ! I be prepare to move from milwaukee / madison wisconsin ( usa ) to paris france . I have a place to live and a one way ticket book madison to paris march th but before I settle in paris I want to spend some time explore europe ( on a budget obviously ) . I be a   year old woman and will be travel alone , I be a dual citizen and I have a german passport . I have a decent amount of travel experience I backpack sea ( vietnam , laos , cambodia and myanmar ) alone in / and also ethiopia with my dad in . anyway where in europe do you suggest go on a budget ? I will be base out of paris and be open to go anywhere ! currently think portugal - I 've hear excellent thing about lisbon and porto but preferably anywhere warm ! thank you in advance ! ! !\n",
      "--------------------\n",
      "I recently start work on a [ tool ] ( ) to help myself find the good ticket . today I make it accessible to the public . it have powerful and flexible search functionality and integrate directly with [ gcmap ] ( ) and [ wheretocredit ] ( ) . a few example : [ from dalaman to amsterdam in the next   week ] ( ) [ roundtrip from amsterdam to either bangkok or chiang mai , leave in the last week of november with a stay of about   day . ] ( ) it be far from perfect , so feel free to let I know if you have any suggestion / spot any bug , if you do think the tool might be useful .\n",
      "--------------------\n",
      "hey everyone , I be excited to be visit the us in a few month . I be plan on visit one city and take a train ( or plane ) to another one . I only have two week of travel . what do you recommend ? shall I start with new york or chicago ? also , do anyone recommend any city in - between I could try to fit into my two - week trip ? thank !\n",
      "--------------------\n",
      "I would love to here your answer ! but if yes , do you want to swap with I ? we can use or just exchange detail directly through social medium here be my instagram account :\n",
      "--------------------\n",
      "we citizen travel back to the us from a foreign country be require to provide a negative covid- test . if you do in fact catch covid- in the foreign country ( or bring it there ) , then you will not be able to renter the us until you either supply a bag rice test , or a statement from a doctor that you be clear of contagious infection . if this be to happen to I in costa rica , where do I stay during my quarantine ? be there any kind of lodging designate for this by the government ( either the costa rica or we gov ) ? the [ embassy site ] ( ) have lot of useful info , but say as nothing specific on this point . [ this blog post ] ( ) suggest that there be no official avenue for this purpose , and that I will just have to book something , though the post be from back in a october . I be have trouble find an answer to this . far , if I can not obtain a negative test after quarantine ( some people test positive long after their contagious period be over ) , how do I go about getting clear by a doctor ? do costa rica have the equivalent of \" urgent - care \" facility that the us do ? thank !\n",
      "--------------------\n",
      "I ’m think of plan a trip to tokyo for next year , and be wonder if there be any tip / trick that people have ? \n",
      " I be think of go for two week , be that long enough to see plenty of the local sight ? \n",
      " also as a westerner , be there any cultural faux pas that I should be aware of ? thank in advance !\n",
      "--------------------\n",
      "I be a student in norway and I be sick of sit at home and go on walk all the time . I would like to know where you have go and how you travel , how it be , how do you calculate the situation regard covid at the place you travel to , what do you do to be covid safe but still have a fun time ? I be not going to be able to travel for a while I reckon so I will dwell in your story instead . thank in advance .\n",
      "--------------------\n",
      "hi , I work remote for a tech company and think it be good to visit we state I ’ve never be to ( only be to the state between tx and fl ) while work during the week on my laptop and afterwards and on the weekend enjoy the new state . just want to get any state recommendation that be full of beautiful nature vs big city that I do not care too much for . also any general tip on any part of this would be much appreciate . thank !\n",
      "--------------------\n",
      "hey , all ! I ’m a   year old solo female head out in may for a great american adventure until next january — before I start at university and settle down into my boring old life again . I be an author and I work independently (: I have a budget of about   a month for transport , housing , food , expense . I plan to spend a couple week in each state on my tentative itinerary , with an emphasis on hiking sightseeing . I be require to return home every - week for a doctor ’s appointment , but this be not a huge deal . initially , I want to use the cheap airbnbs available , usually aim for less than   buck a day . this total to about   for a couple week or - for the month — include service cleaning fee . but they disappear quickly , some host be flakey , and the cheap airbnbs seem ... very inaccessible or strange . without a car , I still need to be able to get grocery leave the immediate vicinity of the home , but the cheap private room tend to be on a road fling out in the middle of nowhere . as a solo female , I ’m not comfortable couchsurfing . it ’ not only important that I ’m safe , but I also need consistent wifi to complete my work and some private space . I consider hostel , but the united states do not really have hostel , unfortunately . the one here be wildly overprice for an unsafe bunkbe in a moldy old house — so that ’ out of the question :( recently , I ’ve consider conversion van . I live in florida and it would take a hot minute to get to the other coast and back , but I have the time . I could take my time at each rural destination and stealth park in city . I want to hit as many national park as possible and hike for hour , so an rv seem like a much more suitable choice for this . if properly outfit , I could have internet access and an outlet — or I could drive to a starbuck and find wifi for free . I like the freedom grant from a van but my insurance rate will be high and gas cost need to be factor in . I ’ve work out the math and , move slowly , I ’m guess it would not be much less than airbnbs ... the only benefit be that transportation be deal with , housing be stable , I feel safe , I own the van at the end of the day . currently , I could only afford a van less than k in value and those tend to be old junkier . I absolutely do not want to breakdown on a highway , in the middle of nowhere , so I plan to bring any van I be consider buy to a mechanic . as a solo female , I find van somewhat preferable to airbnbs , as I be in control of my own environment and I have a significant amount more privacy . there ’ the labor upfront cost to factor in : I would have to outfit it to some extent and maybe hire an electrician to do the work that I can not . it sound like a fun project , but I have about two month to wrap everything up and I ’d like \n",
      " my basic handle ( bed , place to keep food , etc ) before I hit the road . both option have pro and con , like convenience and stability vs comfort and ease . I ’d like to hear your opinion on whether airbnb or rv life be more financially feasible within my budget ( on lodging and transport , the other   need to go to other expense ) and anything that might lighten the load . I ’m consider team up with another solo female traveller to ease the cost of live a bit have companionship but if that ’ not possible , I ’d like to know the good way to do this alone . thank so much !\n",
      "--------------------\n",
      "let I know any info you get for flight to prague , hostel , place to eat , thing to do + see . anything help ! !\n",
      "--------------------\n",
      "anyone have any trick / tip on eat high protein while abroad specifically in europe ( uk , prague , budapest , croatia and italy be my main focus for this next trip I be plan ) ? I be talk a minimum of g a day . I do not want to have to rely on powdered protein ( tend to not agree with my tummy ) and I have a feeling ready - to - drink protein drink might be difficult to find ( tho they be not thing I specifically look for in grocery when I be in europe a couple year ago ) . I be require to eat high protein due basically to short - gut syndrome that cause major protein malabsorption . I can eat a lot of tuna , salami , cheese and egg , but other meat pricing can be ... a little too pricey . I be look for street food and grocery idea .\n",
      "--------------------\n",
      "hey guy ! we make a new video and we work really hard on it so please support !   [ ] ( )\n",
      "--------------------\n",
      "I will not really get into itinerary but feel free to ask if you want specific or favourite . singapore -   day . I think it be enough to see the main site . if you eat at hawker center food be $ . per small meal . I do couchsurfe which be super easy in se asia . but otherwise hostel be $ + . malaysia -   week - kuala lumpur - most call it the city with no soul and I agree . penang be cool . hostel be $ everywhere I go . it seem either you love or hate the food in malaysia . I personally hate it and that be why I leave after only two week . thailand -   months - bangkok - chiang mai - pai - mae hong son loop by motorbike - chiang rai - koh phi phi - koh samui - koh tao - koh phagnan . food be amazing and right up there with turkish and mexican ( in mexico ) . hostel be $ - in the entire country . side note : koh phagnan get a bad rap say it be just a party island and I completely disagree . I go there for the fmp and yes it be crazy that their be , people on one beach many party for - day without sleep . but as soon as you leave the fmp area the rest of the island be like a ghost town with almost no tourist .. amazing beach and only a handful of tourist . it be hard to understand how that be possible but it seem most who 've be there agree . so I recommend go there whether or not you care about the fmp if you be on the fence . cambodia -   week - siem reap - phnom penh - kampot - koh rong - think the island in thailand be way well . hostel be $ - in the entire country . laos :   week - don det ( highly recommend ) vientiane - pakse loop by motorbike lot of waterfall ( amazing ) - vang vieng ( highly recommend lot to do in the area . ( place get a bad rep as a party place but most of those review be old - government change everything - do the tubing and there be nobody drunk or acting rowdy . luang prabang ( lot of people like this town I do not really care for it - too fake tourist town for I ) I know laos gets skip by a lot of people - but like most people who 've be there \" I love laos \" and go if you can . hostel be $ - in the entire country . some be $ with breakfast and a pool . vietnam -   month - ha noi - cat ba / ha long bay - sa pa - da lat - danang - saigon ho chi minh city . hostel be the nice and clean in vn . $ - in the entire country . cheap one be $ . with ac and access to   pool , pool table etc etc etc . I buy a motorbike and ride   month from china to saigon camping in my tent most night so I will not list all the city . I 'll add a link to my trip report if interested . philippines - manila - coron - el nido - port barton - puerta princessa - cebu city - moalboal - malapasqcua . food be terrible ( street food ) - lot of fat and bone in most meat , or part of the chicken and pig most tourist will not want to eat ) very little vegetable , no flavor , no spice . I find it noticibly poorer here than the other country and it be not even close . mostly very friendly people . budget hostel be generally pretty gross here , old , dirty , lot of thing break , and double the price of the other country . most hostel be $ - a night . internet be always a struggle here too .. the whole island of palawan be without internet for over a month when I be there . if it do work it be slow and spotty . food : in every single town and city in all the above country you can get a local street food meal for $ - .. every single one . all you have to do be walk - minute in any direction away from the tourist area . tourist or western style food ( burger pizza ) will be -x the price . cross border : lot of scamme - fake insurance - face entry and exit fee etc . bus driver make up fake new government law etc - so do some research ahead of time . I do a long post here on reddit if you search in r / laos if you want to read about it - when cross from cambodia to laos where I have a lengthy stand off with border agent try to scam I out of $ . I know .. I know .. \" just pay the $ \" .. I just do not like be scamme or pay bribe .. and if more people make a stand .. these scam will go away . scooter and motorbike : yes it can be dangerous and check your insurance before ride but there be absolutely no well way to go around many of the tourist place in these country . I learn in thailand and disagree with most who say it be a bad country to learn in as there be huge shoulder everywhere and the road be good compare to laos cambodia or the philippines . so I would say if you be go to learn it be a great place to do it . but learn at home be probably good . just do not learn in a huge city like bangkok . also get an idp ( international driver permit ) before leave your home country as it 'll save you fine and the stress of always look over your shoulder or the rare huge fine $ + and motorbike impoundment . I pay - fine for $ - in thailand and vietnam . and blow part many other checkpoint where they tell I to stop but pretend not to notice . it be stressful .. get yourself the idp . aaa sell they in the usa . scooter rental be usually $ a day . I 've pay as little as $ and I think $ be the most . for those want to stay in these country long - you can get studio in all the county except singapore for around $ - in most city . I be still in the philippines now and I pay $ per month for a large ( for asia ) studio in a nice clean well keep build and they even have $ per month one here too . some parting tip . and be way cheap and have way more option than cheap % of the time , usually -% cheap . I and most people I meet all agree once you figure it out . hostelworld be mostly a waste of time in se asia . flight be sometimes cheap than take the bus . I take a bus in thailand for like - hour for like $ and the flight be $ . any question ? just ask ?\n",
      "--------------------\n"
     ]
    }
   ],
   "source": [
    "# for actual = 1 (shoestring) if more than 0, misclassified as solotravel\n",
    "\n",
    "for i in results[(results.actual - results.pred) > 0][\"text\"]:\n",
    "    print(i)\n",
    "    print(\"-\" * 20)"
   ]
  },
  {
   "cell_type": "markdown",
   "id": "ac2d013e",
   "metadata": {},
   "source": [
    "<a id='link5'></a>"
   ]
  },
  {
   "cell_type": "markdown",
   "id": "99e20b3f",
   "metadata": {},
   "source": [
    "## Conclusion"
   ]
  },
  {
   "cell_type": "markdown",
   "id": "6e2100bb",
   "metadata": {},
   "source": [
    "To summarize, in the first notebook we scraped data from 2 subreddits: r/solotravel and r/shoestring. After which we created a lemmatized text column and ran 5 models on these columns to examine if we are able to classify them into their original subreddits. \n",
    "\n",
    "We first ran a gridsearch to find the best parameters for both CountVectorizer and TFIDFVectorizer, before remodelling with these parameters. \n",
    "\n",
    "The model that performed well with respect to our problem statement is: Random Forest with a CountVectorizer. It returned an accuracy score of 73.7% on our test data."
   ]
  },
  {
   "cell_type": "markdown",
   "id": "f0b22ecc",
   "metadata": {},
   "source": [
    "### Recommendations"
   ]
  },
  {
   "cell_type": "markdown",
   "id": "3657515a",
   "metadata": {
    "ExecuteTime": {
     "end_time": "2022-01-20T01:16:19.781597Z",
     "start_time": "2022-01-20T01:16:19.778119Z"
    }
   },
   "source": [
    "Although our accuracy scores for our model wasn't particularly high, we have still gained valuable insight. \n",
    "\n",
    "1) Perhaps the 2 subreddits are not at all that different from each other, and could be combined into 1 subreddit for solo travel. The distinction between the 2 subreddits can also be seen when we look at misclassified text, there were a couple of instances where posts could belong to either subreddit.\n",
    "\n",
    "2) To explore grouping the portal tags by 'travel type' instead - for example by solo or group travel. \n",
    "\n",
    "    - Could there be a correlation between solo travel and budget travel? "
   ]
  },
  {
   "cell_type": "markdown",
   "id": "70ad3aac",
   "metadata": {},
   "source": [
    "### Future Improvements"
   ]
  },
  {
   "cell_type": "markdown",
   "id": "b6cabb20",
   "metadata": {
    "ExecuteTime": {
     "end_time": "2022-01-17T14:02:52.679785Z",
     "start_time": "2022-01-17T14:02:52.669412Z"
    }
   },
   "source": [
    "- Experimenting with different train and test splits to deal with model overfitting\n",
    "- Try modelling with XGBoost to see if it returns better results (first model took 7H to run)\n",
    "- Explore relationship between different types of travellers (solo or group) and what their considerations are\n",
    "- Sub-categorizing posts into regions (e.g. Europe, South East Asia) to help in faster, more targeted information search  "
   ]
  }
 ],
 "metadata": {
  "kernelspec": {
   "display_name": "Python 3 (ipykernel)",
   "language": "python",
   "name": "python3"
  },
  "language_info": {
   "codemirror_mode": {
    "name": "ipython",
    "version": 3
   },
   "file_extension": ".py",
   "mimetype": "text/x-python",
   "name": "python",
   "nbconvert_exporter": "python",
   "pygments_lexer": "ipython3",
   "version": "3.8.8"
  },
  "toc": {
   "base_numbering": 1,
   "nav_menu": {},
   "number_sections": true,
   "sideBar": true,
   "skip_h1_title": true,
   "title_cell": "Table of Contents",
   "title_sidebar": "Contents",
   "toc_cell": false,
   "toc_position": {
    "height": "calc(100% - 180px)",
    "left": "10px",
    "top": "150px",
    "width": "165px"
   },
   "toc_section_display": true,
   "toc_window_display": true
  },
  "varInspector": {
   "cols": {
    "lenName": 16,
    "lenType": 16,
    "lenVar": 40
   },
   "kernels_config": {
    "python": {
     "delete_cmd_postfix": "",
     "delete_cmd_prefix": "del ",
     "library": "var_list.py",
     "varRefreshCmd": "print(var_dic_list())"
    },
    "r": {
     "delete_cmd_postfix": ") ",
     "delete_cmd_prefix": "rm(",
     "library": "var_list.r",
     "varRefreshCmd": "cat(var_dic_list()) "
    }
   },
   "types_to_exclude": [
    "module",
    "function",
    "builtin_function_or_method",
    "instance",
    "_Feature"
   ],
   "window_display": false
  }
 },
 "nbformat": 4,
 "nbformat_minor": 5
}
