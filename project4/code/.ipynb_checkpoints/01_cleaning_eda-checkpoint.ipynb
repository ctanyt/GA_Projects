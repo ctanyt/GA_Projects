version https://git-lfs.github.com/spec/v1
oid sha256:d1bfad8f0875fc07446e46f641a4ac18407c0e4a45f4b4172d79458a941f5e5c
size 1377576
